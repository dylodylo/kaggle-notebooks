{
 "cells": [
  {
   "cell_type": "markdown",
   "metadata": {
    "papermill": {
     "duration": 0.073707,
     "end_time": "2021-03-02T11:33:14.662446",
     "exception": false,
     "start_time": "2021-03-02T11:33:14.588739",
     "status": "completed"
    },
    "tags": []
   },
   "source": [
    "I already did some more advanced work in data science, but what a data scientist would I be if I hadn't make submission in Titanic Challange? So let's get started!"
   ]
  },
  {
   "cell_type": "markdown",
   "metadata": {
    "papermill": {
     "duration": 0.072249,
     "end_time": "2021-03-02T11:33:14.806961",
     "exception": false,
     "start_time": "2021-03-02T11:33:14.734712",
     "status": "completed"
    },
    "tags": []
   },
   "source": [
    "# Imports"
   ]
  },
  {
   "cell_type": "code",
   "execution_count": 1,
   "metadata": {
    "_cell_guid": "b1076dfc-b9ad-4769-8c92-a6c4dae69d19",
    "_uuid": "8f2839f25d086af736a60e9eeb907d3b93b6e0e5",
    "execution": {
     "iopub.execute_input": "2021-03-02T11:33:14.958796Z",
     "iopub.status.busy": "2021-03-02T11:33:14.958060Z",
     "iopub.status.idle": "2021-03-02T11:33:16.345152Z",
     "shell.execute_reply": "2021-03-02T11:33:16.345669Z"
    },
    "papermill": {
     "duration": 1.463823,
     "end_time": "2021-03-02T11:33:16.346127",
     "exception": false,
     "start_time": "2021-03-02T11:33:14.882304",
     "status": "completed"
    },
    "tags": []
   },
   "outputs": [],
   "source": [
    "# Data manipulation\n",
    "import pandas as pd\n",
    "import numpy as np\n",
    "\n",
    "# Visualization\n",
    "import matplotlib.pyplot as plt\n",
    "import seaborn as sns\n",
    "import missingno\n",
    "\n",
    "# Preprocessing\n",
    "from sklearn.preprocessing import OneHotEncoder\n",
    "\n",
    "# ML algorithms\n",
    "from sklearn.linear_model import LogisticRegression\n",
    "from sklearn.neighbors import KNeighborsClassifier\n",
    "from sklearn.naive_bayes import GaussianNB\n",
    "from sklearn.svm import LinearSVC\n",
    "from sklearn.linear_model import SGDClassifier\n",
    "from sklearn.tree import DecisionTreeClassifier\n",
    "from sklearn.ensemble import GradientBoostingClassifier\n",
    "\n",
    "# Validation\n",
    "from sklearn.model_selection import cross_val_score\n",
    "\n",
    "#Metrics\n",
    "from sklearn.metrics import confusion_matrix, roc_auc_score, f1_score\n",
    "\n",
    "import warnings\n",
    "warnings.filterwarnings('ignore')"
   ]
  },
  {
   "cell_type": "markdown",
   "metadata": {
    "papermill": {
     "duration": 0.072936,
     "end_time": "2021-03-02T11:33:16.493458",
     "exception": false,
     "start_time": "2021-03-02T11:33:16.420522",
     "status": "completed"
    },
    "tags": []
   },
   "source": [
    "So after some imports take a look what we have in our data."
   ]
  },
  {
   "cell_type": "markdown",
   "metadata": {
    "papermill": {
     "duration": 0.071844,
     "end_time": "2021-03-02T11:33:16.637494",
     "exception": false,
     "start_time": "2021-03-02T11:33:16.565650",
     "status": "completed"
    },
    "tags": []
   },
   "source": [
    "# EDA (Early Data Analysis)"
   ]
  },
  {
   "cell_type": "code",
   "execution_count": 2,
   "metadata": {
    "execution": {
     "iopub.execute_input": "2021-03-02T11:33:16.790001Z",
     "iopub.status.busy": "2021-03-02T11:33:16.789265Z",
     "iopub.status.idle": "2021-03-02T11:33:16.835280Z",
     "shell.execute_reply": "2021-03-02T11:33:16.834527Z"
    },
    "papermill": {
     "duration": 0.12467,
     "end_time": "2021-03-02T11:33:16.835482",
     "exception": false,
     "start_time": "2021-03-02T11:33:16.710812",
     "status": "completed"
    },
    "tags": []
   },
   "outputs": [],
   "source": [
    "train = pd.read_csv(\"../input/titanic/train.csv\")\n",
    "test = pd.read_csv(\"../input/titanic/test.csv\")\n",
    "gender_submission = pd.read_csv(\"../input/titanic/gender_submission.csv\")"
   ]
  },
  {
   "cell_type": "code",
   "execution_count": 3,
   "metadata": {
    "execution": {
     "iopub.execute_input": "2021-03-02T11:33:16.992509Z",
     "iopub.status.busy": "2021-03-02T11:33:16.991815Z",
     "iopub.status.idle": "2021-03-02T11:33:17.019208Z",
     "shell.execute_reply": "2021-03-02T11:33:17.019763Z"
    },
    "papermill": {
     "duration": 0.111485,
     "end_time": "2021-03-02T11:33:17.019957",
     "exception": false,
     "start_time": "2021-03-02T11:33:16.908472",
     "status": "completed"
    },
    "tags": []
   },
   "outputs": [
    {
     "data": {
      "text/html": [
       "<div>\n",
       "<style scoped>\n",
       "    .dataframe tbody tr th:only-of-type {\n",
       "        vertical-align: middle;\n",
       "    }\n",
       "\n",
       "    .dataframe tbody tr th {\n",
       "        vertical-align: top;\n",
       "    }\n",
       "\n",
       "    .dataframe thead th {\n",
       "        text-align: right;\n",
       "    }\n",
       "</style>\n",
       "<table border=\"1\" class=\"dataframe\">\n",
       "  <thead>\n",
       "    <tr style=\"text-align: right;\">\n",
       "      <th></th>\n",
       "      <th>PassengerId</th>\n",
       "      <th>Survived</th>\n",
       "      <th>Pclass</th>\n",
       "      <th>Name</th>\n",
       "      <th>Sex</th>\n",
       "      <th>Age</th>\n",
       "      <th>SibSp</th>\n",
       "      <th>Parch</th>\n",
       "      <th>Ticket</th>\n",
       "      <th>Fare</th>\n",
       "      <th>Cabin</th>\n",
       "      <th>Embarked</th>\n",
       "    </tr>\n",
       "  </thead>\n",
       "  <tbody>\n",
       "    <tr>\n",
       "      <th>0</th>\n",
       "      <td>1</td>\n",
       "      <td>0</td>\n",
       "      <td>3</td>\n",
       "      <td>Braund, Mr. Owen Harris</td>\n",
       "      <td>male</td>\n",
       "      <td>22.0</td>\n",
       "      <td>1</td>\n",
       "      <td>0</td>\n",
       "      <td>A/5 21171</td>\n",
       "      <td>7.2500</td>\n",
       "      <td>NaN</td>\n",
       "      <td>S</td>\n",
       "    </tr>\n",
       "    <tr>\n",
       "      <th>1</th>\n",
       "      <td>2</td>\n",
       "      <td>1</td>\n",
       "      <td>1</td>\n",
       "      <td>Cumings, Mrs. John Bradley (Florence Briggs Th...</td>\n",
       "      <td>female</td>\n",
       "      <td>38.0</td>\n",
       "      <td>1</td>\n",
       "      <td>0</td>\n",
       "      <td>PC 17599</td>\n",
       "      <td>71.2833</td>\n",
       "      <td>C85</td>\n",
       "      <td>C</td>\n",
       "    </tr>\n",
       "    <tr>\n",
       "      <th>2</th>\n",
       "      <td>3</td>\n",
       "      <td>1</td>\n",
       "      <td>3</td>\n",
       "      <td>Heikkinen, Miss. Laina</td>\n",
       "      <td>female</td>\n",
       "      <td>26.0</td>\n",
       "      <td>0</td>\n",
       "      <td>0</td>\n",
       "      <td>STON/O2. 3101282</td>\n",
       "      <td>7.9250</td>\n",
       "      <td>NaN</td>\n",
       "      <td>S</td>\n",
       "    </tr>\n",
       "    <tr>\n",
       "      <th>3</th>\n",
       "      <td>4</td>\n",
       "      <td>1</td>\n",
       "      <td>1</td>\n",
       "      <td>Futrelle, Mrs. Jacques Heath (Lily May Peel)</td>\n",
       "      <td>female</td>\n",
       "      <td>35.0</td>\n",
       "      <td>1</td>\n",
       "      <td>0</td>\n",
       "      <td>113803</td>\n",
       "      <td>53.1000</td>\n",
       "      <td>C123</td>\n",
       "      <td>S</td>\n",
       "    </tr>\n",
       "    <tr>\n",
       "      <th>4</th>\n",
       "      <td>5</td>\n",
       "      <td>0</td>\n",
       "      <td>3</td>\n",
       "      <td>Allen, Mr. William Henry</td>\n",
       "      <td>male</td>\n",
       "      <td>35.0</td>\n",
       "      <td>0</td>\n",
       "      <td>0</td>\n",
       "      <td>373450</td>\n",
       "      <td>8.0500</td>\n",
       "      <td>NaN</td>\n",
       "      <td>S</td>\n",
       "    </tr>\n",
       "  </tbody>\n",
       "</table>\n",
       "</div>"
      ],
      "text/plain": [
       "   PassengerId  Survived  Pclass  \\\n",
       "0            1         0       3   \n",
       "1            2         1       1   \n",
       "2            3         1       3   \n",
       "3            4         1       1   \n",
       "4            5         0       3   \n",
       "\n",
       "                                                Name     Sex   Age  SibSp  \\\n",
       "0                            Braund, Mr. Owen Harris    male  22.0      1   \n",
       "1  Cumings, Mrs. John Bradley (Florence Briggs Th...  female  38.0      1   \n",
       "2                             Heikkinen, Miss. Laina  female  26.0      0   \n",
       "3       Futrelle, Mrs. Jacques Heath (Lily May Peel)  female  35.0      1   \n",
       "4                           Allen, Mr. William Henry    male  35.0      0   \n",
       "\n",
       "   Parch            Ticket     Fare Cabin Embarked  \n",
       "0      0         A/5 21171   7.2500   NaN        S  \n",
       "1      0          PC 17599  71.2833   C85        C  \n",
       "2      0  STON/O2. 3101282   7.9250   NaN        S  \n",
       "3      0            113803  53.1000  C123        S  \n",
       "4      0            373450   8.0500   NaN        S  "
      ]
     },
     "execution_count": 3,
     "metadata": {},
     "output_type": "execute_result"
    }
   ],
   "source": [
    "train.head()"
   ]
  },
  {
   "cell_type": "code",
   "execution_count": 4,
   "metadata": {
    "execution": {
     "iopub.execute_input": "2021-03-02T11:33:17.173625Z",
     "iopub.status.busy": "2021-03-02T11:33:17.172653Z",
     "iopub.status.idle": "2021-03-02T11:33:17.192132Z",
     "shell.execute_reply": "2021-03-02T11:33:17.191556Z"
    },
    "papermill": {
     "duration": 0.095678,
     "end_time": "2021-03-02T11:33:17.192294",
     "exception": false,
     "start_time": "2021-03-02T11:33:17.096616",
     "status": "completed"
    },
    "tags": []
   },
   "outputs": [
    {
     "data": {
      "text/html": [
       "<div>\n",
       "<style scoped>\n",
       "    .dataframe tbody tr th:only-of-type {\n",
       "        vertical-align: middle;\n",
       "    }\n",
       "\n",
       "    .dataframe tbody tr th {\n",
       "        vertical-align: top;\n",
       "    }\n",
       "\n",
       "    .dataframe thead th {\n",
       "        text-align: right;\n",
       "    }\n",
       "</style>\n",
       "<table border=\"1\" class=\"dataframe\">\n",
       "  <thead>\n",
       "    <tr style=\"text-align: right;\">\n",
       "      <th></th>\n",
       "      <th>PassengerId</th>\n",
       "      <th>Pclass</th>\n",
       "      <th>Name</th>\n",
       "      <th>Sex</th>\n",
       "      <th>Age</th>\n",
       "      <th>SibSp</th>\n",
       "      <th>Parch</th>\n",
       "      <th>Ticket</th>\n",
       "      <th>Fare</th>\n",
       "      <th>Cabin</th>\n",
       "      <th>Embarked</th>\n",
       "    </tr>\n",
       "  </thead>\n",
       "  <tbody>\n",
       "    <tr>\n",
       "      <th>0</th>\n",
       "      <td>892</td>\n",
       "      <td>3</td>\n",
       "      <td>Kelly, Mr. James</td>\n",
       "      <td>male</td>\n",
       "      <td>34.5</td>\n",
       "      <td>0</td>\n",
       "      <td>0</td>\n",
       "      <td>330911</td>\n",
       "      <td>7.8292</td>\n",
       "      <td>NaN</td>\n",
       "      <td>Q</td>\n",
       "    </tr>\n",
       "    <tr>\n",
       "      <th>1</th>\n",
       "      <td>893</td>\n",
       "      <td>3</td>\n",
       "      <td>Wilkes, Mrs. James (Ellen Needs)</td>\n",
       "      <td>female</td>\n",
       "      <td>47.0</td>\n",
       "      <td>1</td>\n",
       "      <td>0</td>\n",
       "      <td>363272</td>\n",
       "      <td>7.0000</td>\n",
       "      <td>NaN</td>\n",
       "      <td>S</td>\n",
       "    </tr>\n",
       "    <tr>\n",
       "      <th>2</th>\n",
       "      <td>894</td>\n",
       "      <td>2</td>\n",
       "      <td>Myles, Mr. Thomas Francis</td>\n",
       "      <td>male</td>\n",
       "      <td>62.0</td>\n",
       "      <td>0</td>\n",
       "      <td>0</td>\n",
       "      <td>240276</td>\n",
       "      <td>9.6875</td>\n",
       "      <td>NaN</td>\n",
       "      <td>Q</td>\n",
       "    </tr>\n",
       "    <tr>\n",
       "      <th>3</th>\n",
       "      <td>895</td>\n",
       "      <td>3</td>\n",
       "      <td>Wirz, Mr. Albert</td>\n",
       "      <td>male</td>\n",
       "      <td>27.0</td>\n",
       "      <td>0</td>\n",
       "      <td>0</td>\n",
       "      <td>315154</td>\n",
       "      <td>8.6625</td>\n",
       "      <td>NaN</td>\n",
       "      <td>S</td>\n",
       "    </tr>\n",
       "    <tr>\n",
       "      <th>4</th>\n",
       "      <td>896</td>\n",
       "      <td>3</td>\n",
       "      <td>Hirvonen, Mrs. Alexander (Helga E Lindqvist)</td>\n",
       "      <td>female</td>\n",
       "      <td>22.0</td>\n",
       "      <td>1</td>\n",
       "      <td>1</td>\n",
       "      <td>3101298</td>\n",
       "      <td>12.2875</td>\n",
       "      <td>NaN</td>\n",
       "      <td>S</td>\n",
       "    </tr>\n",
       "  </tbody>\n",
       "</table>\n",
       "</div>"
      ],
      "text/plain": [
       "   PassengerId  Pclass                                          Name     Sex  \\\n",
       "0          892       3                              Kelly, Mr. James    male   \n",
       "1          893       3              Wilkes, Mrs. James (Ellen Needs)  female   \n",
       "2          894       2                     Myles, Mr. Thomas Francis    male   \n",
       "3          895       3                              Wirz, Mr. Albert    male   \n",
       "4          896       3  Hirvonen, Mrs. Alexander (Helga E Lindqvist)  female   \n",
       "\n",
       "    Age  SibSp  Parch   Ticket     Fare Cabin Embarked  \n",
       "0  34.5      0      0   330911   7.8292   NaN        Q  \n",
       "1  47.0      1      0   363272   7.0000   NaN        S  \n",
       "2  62.0      0      0   240276   9.6875   NaN        Q  \n",
       "3  27.0      0      0   315154   8.6625   NaN        S  \n",
       "4  22.0      1      1  3101298  12.2875   NaN        S  "
      ]
     },
     "execution_count": 4,
     "metadata": {},
     "output_type": "execute_result"
    }
   ],
   "source": [
    "test.head()"
   ]
  },
  {
   "cell_type": "code",
   "execution_count": 5,
   "metadata": {
    "execution": {
     "iopub.execute_input": "2021-03-02T11:33:17.351328Z",
     "iopub.status.busy": "2021-03-02T11:33:17.350651Z",
     "iopub.status.idle": "2021-03-02T11:33:17.359678Z",
     "shell.execute_reply": "2021-03-02T11:33:17.360214Z"
    },
    "papermill": {
     "duration": 0.086919,
     "end_time": "2021-03-02T11:33:17.360392",
     "exception": false,
     "start_time": "2021-03-02T11:33:17.273473",
     "status": "completed"
    },
    "tags": []
   },
   "outputs": [
    {
     "data": {
      "text/html": [
       "<div>\n",
       "<style scoped>\n",
       "    .dataframe tbody tr th:only-of-type {\n",
       "        vertical-align: middle;\n",
       "    }\n",
       "\n",
       "    .dataframe tbody tr th {\n",
       "        vertical-align: top;\n",
       "    }\n",
       "\n",
       "    .dataframe thead th {\n",
       "        text-align: right;\n",
       "    }\n",
       "</style>\n",
       "<table border=\"1\" class=\"dataframe\">\n",
       "  <thead>\n",
       "    <tr style=\"text-align: right;\">\n",
       "      <th></th>\n",
       "      <th>PassengerId</th>\n",
       "      <th>Survived</th>\n",
       "    </tr>\n",
       "  </thead>\n",
       "  <tbody>\n",
       "    <tr>\n",
       "      <th>0</th>\n",
       "      <td>892</td>\n",
       "      <td>0</td>\n",
       "    </tr>\n",
       "    <tr>\n",
       "      <th>1</th>\n",
       "      <td>893</td>\n",
       "      <td>1</td>\n",
       "    </tr>\n",
       "    <tr>\n",
       "      <th>2</th>\n",
       "      <td>894</td>\n",
       "      <td>0</td>\n",
       "    </tr>\n",
       "    <tr>\n",
       "      <th>3</th>\n",
       "      <td>895</td>\n",
       "      <td>0</td>\n",
       "    </tr>\n",
       "    <tr>\n",
       "      <th>4</th>\n",
       "      <td>896</td>\n",
       "      <td>1</td>\n",
       "    </tr>\n",
       "  </tbody>\n",
       "</table>\n",
       "</div>"
      ],
      "text/plain": [
       "   PassengerId  Survived\n",
       "0          892         0\n",
       "1          893         1\n",
       "2          894         0\n",
       "3          895         0\n",
       "4          896         1"
      ]
     },
     "execution_count": 5,
     "metadata": {},
     "output_type": "execute_result"
    }
   ],
   "source": [
    "gender_submission.head()"
   ]
  },
  {
   "cell_type": "markdown",
   "metadata": {
    "papermill": {
     "duration": 0.075714,
     "end_time": "2021-03-02T11:33:17.511438",
     "exception": false,
     "start_time": "2021-03-02T11:33:17.435724",
     "status": "completed"
    },
    "tags": []
   },
   "source": [
    "We have three files. *gender_sumbission* is only for check our prediction model results on *test* data. We don't need to bother about it for now. Let's check *train* data instead."
   ]
  },
  {
   "cell_type": "code",
   "execution_count": 6,
   "metadata": {
    "execution": {
     "iopub.execute_input": "2021-03-02T11:33:17.665935Z",
     "iopub.status.busy": "2021-03-02T11:33:17.665292Z",
     "iopub.status.idle": "2021-03-02T11:33:17.709112Z",
     "shell.execute_reply": "2021-03-02T11:33:17.708490Z"
    },
    "papermill": {
     "duration": 0.122804,
     "end_time": "2021-03-02T11:33:17.709291",
     "exception": false,
     "start_time": "2021-03-02T11:33:17.586487",
     "status": "completed"
    },
    "tags": []
   },
   "outputs": [
    {
     "data": {
      "text/html": [
       "<div>\n",
       "<style scoped>\n",
       "    .dataframe tbody tr th:only-of-type {\n",
       "        vertical-align: middle;\n",
       "    }\n",
       "\n",
       "    .dataframe tbody tr th {\n",
       "        vertical-align: top;\n",
       "    }\n",
       "\n",
       "    .dataframe thead th {\n",
       "        text-align: right;\n",
       "    }\n",
       "</style>\n",
       "<table border=\"1\" class=\"dataframe\">\n",
       "  <thead>\n",
       "    <tr style=\"text-align: right;\">\n",
       "      <th></th>\n",
       "      <th>PassengerId</th>\n",
       "      <th>Survived</th>\n",
       "      <th>Pclass</th>\n",
       "      <th>Age</th>\n",
       "      <th>SibSp</th>\n",
       "      <th>Parch</th>\n",
       "      <th>Fare</th>\n",
       "    </tr>\n",
       "  </thead>\n",
       "  <tbody>\n",
       "    <tr>\n",
       "      <th>count</th>\n",
       "      <td>891.000000</td>\n",
       "      <td>891.000000</td>\n",
       "      <td>891.000000</td>\n",
       "      <td>714.000000</td>\n",
       "      <td>891.000000</td>\n",
       "      <td>891.000000</td>\n",
       "      <td>891.000000</td>\n",
       "    </tr>\n",
       "    <tr>\n",
       "      <th>mean</th>\n",
       "      <td>446.000000</td>\n",
       "      <td>0.383838</td>\n",
       "      <td>2.308642</td>\n",
       "      <td>29.699118</td>\n",
       "      <td>0.523008</td>\n",
       "      <td>0.381594</td>\n",
       "      <td>32.204208</td>\n",
       "    </tr>\n",
       "    <tr>\n",
       "      <th>std</th>\n",
       "      <td>257.353842</td>\n",
       "      <td>0.486592</td>\n",
       "      <td>0.836071</td>\n",
       "      <td>14.526497</td>\n",
       "      <td>1.102743</td>\n",
       "      <td>0.806057</td>\n",
       "      <td>49.693429</td>\n",
       "    </tr>\n",
       "    <tr>\n",
       "      <th>min</th>\n",
       "      <td>1.000000</td>\n",
       "      <td>0.000000</td>\n",
       "      <td>1.000000</td>\n",
       "      <td>0.420000</td>\n",
       "      <td>0.000000</td>\n",
       "      <td>0.000000</td>\n",
       "      <td>0.000000</td>\n",
       "    </tr>\n",
       "    <tr>\n",
       "      <th>25%</th>\n",
       "      <td>223.500000</td>\n",
       "      <td>0.000000</td>\n",
       "      <td>2.000000</td>\n",
       "      <td>20.125000</td>\n",
       "      <td>0.000000</td>\n",
       "      <td>0.000000</td>\n",
       "      <td>7.910400</td>\n",
       "    </tr>\n",
       "    <tr>\n",
       "      <th>50%</th>\n",
       "      <td>446.000000</td>\n",
       "      <td>0.000000</td>\n",
       "      <td>3.000000</td>\n",
       "      <td>28.000000</td>\n",
       "      <td>0.000000</td>\n",
       "      <td>0.000000</td>\n",
       "      <td>14.454200</td>\n",
       "    </tr>\n",
       "    <tr>\n",
       "      <th>75%</th>\n",
       "      <td>668.500000</td>\n",
       "      <td>1.000000</td>\n",
       "      <td>3.000000</td>\n",
       "      <td>38.000000</td>\n",
       "      <td>1.000000</td>\n",
       "      <td>0.000000</td>\n",
       "      <td>31.000000</td>\n",
       "    </tr>\n",
       "    <tr>\n",
       "      <th>max</th>\n",
       "      <td>891.000000</td>\n",
       "      <td>1.000000</td>\n",
       "      <td>3.000000</td>\n",
       "      <td>80.000000</td>\n",
       "      <td>8.000000</td>\n",
       "      <td>6.000000</td>\n",
       "      <td>512.329200</td>\n",
       "    </tr>\n",
       "  </tbody>\n",
       "</table>\n",
       "</div>"
      ],
      "text/plain": [
       "       PassengerId    Survived      Pclass         Age       SibSp  \\\n",
       "count   891.000000  891.000000  891.000000  714.000000  891.000000   \n",
       "mean    446.000000    0.383838    2.308642   29.699118    0.523008   \n",
       "std     257.353842    0.486592    0.836071   14.526497    1.102743   \n",
       "min       1.000000    0.000000    1.000000    0.420000    0.000000   \n",
       "25%     223.500000    0.000000    2.000000   20.125000    0.000000   \n",
       "50%     446.000000    0.000000    3.000000   28.000000    0.000000   \n",
       "75%     668.500000    1.000000    3.000000   38.000000    1.000000   \n",
       "max     891.000000    1.000000    3.000000   80.000000    8.000000   \n",
       "\n",
       "            Parch        Fare  \n",
       "count  891.000000  891.000000  \n",
       "mean     0.381594   32.204208  \n",
       "std      0.806057   49.693429  \n",
       "min      0.000000    0.000000  \n",
       "25%      0.000000    7.910400  \n",
       "50%      0.000000   14.454200  \n",
       "75%      0.000000   31.000000  \n",
       "max      6.000000  512.329200  "
      ]
     },
     "execution_count": 6,
     "metadata": {},
     "output_type": "execute_result"
    }
   ],
   "source": [
    "train.describe()"
   ]
  },
  {
   "cell_type": "markdown",
   "metadata": {
    "papermill": {
     "duration": 0.088728,
     "end_time": "2021-03-02T11:33:17.874949",
     "exception": false,
     "start_time": "2021-03-02T11:33:17.786221",
     "status": "completed"
    },
    "tags": []
   },
   "source": [
    "## Find missing values"
   ]
  },
  {
   "cell_type": "code",
   "execution_count": 7,
   "metadata": {
    "execution": {
     "iopub.execute_input": "2021-03-02T11:33:18.066206Z",
     "iopub.status.busy": "2021-03-02T11:33:18.065245Z",
     "iopub.status.idle": "2021-03-02T11:33:18.695681Z",
     "shell.execute_reply": "2021-03-02T11:33:18.694801Z"
    },
    "papermill": {
     "duration": 0.724121,
     "end_time": "2021-03-02T11:33:18.695860",
     "exception": false,
     "start_time": "2021-03-02T11:33:17.971739",
     "status": "completed"
    },
    "tags": []
   },
   "outputs": [
    {
     "data": {
      "text/plain": [
       "<AxesSubplot:>"
      ]
     },
     "execution_count": 7,
     "metadata": {},
     "output_type": "execute_result"
    },
    {
     "data": {
      "image/png": "[encoded data removed]",
      "text/plain": [
       "<Figure size 2160x720 with 2 Axes>"
      ]
     },
     "metadata": {
      "needs_background": "light"
     },
     "output_type": "display_data"
    }
   ],
   "source": [
    "missingno.matrix(train, figsize = (30,10)) #really like this way of visualization of missing values"
   ]
  },
  {
   "cell_type": "code",
   "execution_count": 8,
   "metadata": {
    "execution": {
     "iopub.execute_input": "2021-03-02T11:33:18.865353Z",
     "iopub.status.busy": "2021-03-02T11:33:18.864607Z",
     "iopub.status.idle": "2021-03-02T11:33:18.877415Z",
     "shell.execute_reply": "2021-03-02T11:33:18.878096Z"
    },
    "papermill": {
     "duration": 0.096517,
     "end_time": "2021-03-02T11:33:18.878399",
     "exception": false,
     "start_time": "2021-03-02T11:33:18.781882",
     "status": "completed"
    },
    "tags": []
   },
   "outputs": [
    {
     "data": {
      "text/plain": [
       "PassengerId      0\n",
       "Survived         0\n",
       "Pclass           0\n",
       "Name             0\n",
       "Sex              0\n",
       "Age            177\n",
       "SibSp            0\n",
       "Parch            0\n",
       "Ticket           0\n",
       "Fare             0\n",
       "Cabin          687\n",
       "Embarked         2\n",
       "dtype: int64"
      ]
     },
     "execution_count": 8,
     "metadata": {},
     "output_type": "execute_result"
    }
   ],
   "source": [
    "train.isnull().sum()"
   ]
  },
  {
   "cell_type": "code",
   "execution_count": 9,
   "metadata": {
    "execution": {
     "iopub.execute_input": "2021-03-02T11:33:19.051661Z",
     "iopub.status.busy": "2021-03-02T11:33:19.051017Z",
     "iopub.status.idle": "2021-03-02T11:33:19.061168Z",
     "shell.execute_reply": "2021-03-02T11:33:19.060631Z"
    },
    "papermill": {
     "duration": 0.09424,
     "end_time": "2021-03-02T11:33:19.061332",
     "exception": false,
     "start_time": "2021-03-02T11:33:18.967092",
     "status": "completed"
    },
    "tags": []
   },
   "outputs": [
    {
     "name": "stdout",
     "output_type": "stream",
     "text": [
      "% of missing values in Age column:  19.87\n",
      "% of missing values in Cabin column:  77.1\n",
      "% of missing values in Embarked column:  0.22\n"
     ]
    }
   ],
   "source": [
    "print(\"% of missing values in Age column: \", round(train[\"Age\"].isnull().sum()/len(train)*100, 2))\n",
    "print(\"% of missing values in Cabin column: \", round(train[\"Cabin\"].isnull().sum()/len(train)*100, 2))\n",
    "print(\"% of missing values in Embarked column: \", round(train[\"Embarked\"].isnull().sum()/len(train)*100, 2))"
   ]
  },
  {
   "cell_type": "markdown",
   "metadata": {
    "papermill": {
     "duration": 0.078934,
     "end_time": "2021-03-02T11:33:19.221189",
     "exception": false,
     "start_time": "2021-03-02T11:33:19.142255",
     "status": "completed"
    },
    "tags": []
   },
   "source": [
    "As we see, we have some missing values (quite a lot, if you look at Cabin column). We'll face them later, for now and creating first and baseline model just remove them from dataset. I remove all columns, but probably for Embarked it would be enough to drop only two rows that have missing values."
   ]
  },
  {
   "cell_type": "code",
   "execution_count": 10,
   "metadata": {
    "execution": {
     "iopub.execute_input": "2021-03-02T11:33:19.397904Z",
     "iopub.status.busy": "2021-03-02T11:33:19.396745Z",
     "iopub.status.idle": "2021-03-02T11:33:19.401512Z",
     "shell.execute_reply": "2021-03-02T11:33:19.400860Z"
    },
    "papermill": {
     "duration": 0.100765,
     "end_time": "2021-03-02T11:33:19.401657",
     "exception": false,
     "start_time": "2021-03-02T11:33:19.300892",
     "status": "completed"
    },
    "tags": []
   },
   "outputs": [
    {
     "data": {
      "text/html": [
       "<div>\n",
       "<style scoped>\n",
       "    .dataframe tbody tr th:only-of-type {\n",
       "        vertical-align: middle;\n",
       "    }\n",
       "\n",
       "    .dataframe tbody tr th {\n",
       "        vertical-align: top;\n",
       "    }\n",
       "\n",
       "    .dataframe thead th {\n",
       "        text-align: right;\n",
       "    }\n",
       "</style>\n",
       "<table border=\"1\" class=\"dataframe\">\n",
       "  <thead>\n",
       "    <tr style=\"text-align: right;\">\n",
       "      <th></th>\n",
       "      <th>PassengerId</th>\n",
       "      <th>Survived</th>\n",
       "      <th>Pclass</th>\n",
       "      <th>Name</th>\n",
       "      <th>Sex</th>\n",
       "      <th>SibSp</th>\n",
       "      <th>Parch</th>\n",
       "      <th>Ticket</th>\n",
       "      <th>Fare</th>\n",
       "    </tr>\n",
       "  </thead>\n",
       "  <tbody>\n",
       "    <tr>\n",
       "      <th>0</th>\n",
       "      <td>1</td>\n",
       "      <td>0</td>\n",
       "      <td>3</td>\n",
       "      <td>Braund, Mr. Owen Harris</td>\n",
       "      <td>male</td>\n",
       "      <td>1</td>\n",
       "      <td>0</td>\n",
       "      <td>A/5 21171</td>\n",
       "      <td>7.2500</td>\n",
       "    </tr>\n",
       "    <tr>\n",
       "      <th>1</th>\n",
       "      <td>2</td>\n",
       "      <td>1</td>\n",
       "      <td>1</td>\n",
       "      <td>Cumings, Mrs. John Bradley (Florence Briggs Th...</td>\n",
       "      <td>female</td>\n",
       "      <td>1</td>\n",
       "      <td>0</td>\n",
       "      <td>PC 17599</td>\n",
       "      <td>71.2833</td>\n",
       "    </tr>\n",
       "    <tr>\n",
       "      <th>2</th>\n",
       "      <td>3</td>\n",
       "      <td>1</td>\n",
       "      <td>3</td>\n",
       "      <td>Heikkinen, Miss. Laina</td>\n",
       "      <td>female</td>\n",
       "      <td>0</td>\n",
       "      <td>0</td>\n",
       "      <td>STON/O2. 3101282</td>\n",
       "      <td>7.9250</td>\n",
       "    </tr>\n",
       "    <tr>\n",
       "      <th>3</th>\n",
       "      <td>4</td>\n",
       "      <td>1</td>\n",
       "      <td>1</td>\n",
       "      <td>Futrelle, Mrs. Jacques Heath (Lily May Peel)</td>\n",
       "      <td>female</td>\n",
       "      <td>1</td>\n",
       "      <td>0</td>\n",
       "      <td>113803</td>\n",
       "      <td>53.1000</td>\n",
       "    </tr>\n",
       "    <tr>\n",
       "      <th>4</th>\n",
       "      <td>5</td>\n",
       "      <td>0</td>\n",
       "      <td>3</td>\n",
       "      <td>Allen, Mr. William Henry</td>\n",
       "      <td>male</td>\n",
       "      <td>0</td>\n",
       "      <td>0</td>\n",
       "      <td>373450</td>\n",
       "      <td>8.0500</td>\n",
       "    </tr>\n",
       "  </tbody>\n",
       "</table>\n",
       "</div>"
      ],
      "text/plain": [
       "   PassengerId  Survived  Pclass  \\\n",
       "0            1         0       3   \n",
       "1            2         1       1   \n",
       "2            3         1       3   \n",
       "3            4         1       1   \n",
       "4            5         0       3   \n",
       "\n",
       "                                                Name     Sex  SibSp  Parch  \\\n",
       "0                            Braund, Mr. Owen Harris    male      1      0   \n",
       "1  Cumings, Mrs. John Bradley (Florence Briggs Th...  female      1      0   \n",
       "2                             Heikkinen, Miss. Laina  female      0      0   \n",
       "3       Futrelle, Mrs. Jacques Heath (Lily May Peel)  female      1      0   \n",
       "4                           Allen, Mr. William Henry    male      0      0   \n",
       "\n",
       "             Ticket     Fare  \n",
       "0         A/5 21171   7.2500  \n",
       "1          PC 17599  71.2833  \n",
       "2  STON/O2. 3101282   7.9250  \n",
       "3            113803  53.1000  \n",
       "4            373450   8.0500  "
      ]
     },
     "execution_count": 10,
     "metadata": {},
     "output_type": "execute_result"
    }
   ],
   "source": [
    "df_train = train.drop([\"Age\", \"Cabin\", \"Embarked\"], axis=1)\n",
    "df_train.head()"
   ]
  },
  {
   "cell_type": "markdown",
   "metadata": {
    "papermill": {
     "duration": 0.079836,
     "end_time": "2021-03-02T11:33:19.562460",
     "exception": false,
     "start_time": "2021-03-02T11:33:19.482624",
     "status": "completed"
    },
    "tags": []
   },
   "source": [
    "# Look cosely on each column"
   ]
  },
  {
   "cell_type": "markdown",
   "metadata": {
    "papermill": {
     "duration": 0.080614,
     "end_time": "2021-03-02T11:33:19.722628",
     "exception": false,
     "start_time": "2021-03-02T11:33:19.642014",
     "status": "completed"
    },
    "tags": []
   },
   "source": [
    "Since we have to predict if passenger survived or not, let's look closely on Survived column."
   ]
  },
  {
   "cell_type": "code",
   "execution_count": 11,
   "metadata": {
    "execution": {
     "iopub.execute_input": "2021-03-02T11:33:19.888836Z",
     "iopub.status.busy": "2021-03-02T11:33:19.887459Z",
     "iopub.status.idle": "2021-03-02T11:33:20.014820Z",
     "shell.execute_reply": "2021-03-02T11:33:20.015394Z"
    },
    "papermill": {
     "duration": 0.212003,
     "end_time": "2021-03-02T11:33:20.015580",
     "exception": false,
     "start_time": "2021-03-02T11:33:19.803577",
     "status": "completed"
    },
    "tags": []
   },
   "outputs": [
    {
     "data": {
      "image/png": "[encoded data removed]",
      "text/plain": [
       "<Figure size 1440x72 with 1 Axes>"
      ]
     },
     "metadata": {
      "needs_background": "light"
     },
     "output_type": "display_data"
    }
   ],
   "source": [
    "fig = plt.figure(figsize=(20,1))\n",
    "sns.countplot(y='Survived', data=df_train);"
   ]
  },
  {
   "cell_type": "markdown",
   "metadata": {
    "papermill": {
     "duration": 0.079609,
     "end_time": "2021-03-02T11:33:20.177070",
     "exception": false,
     "start_time": "2021-03-02T11:33:20.097461",
     "status": "completed"
    },
    "tags": []
   },
   "source": [
    "Quite good distribution for us (not for passengers, unfortunately). Nothing to do here for now, we can focus on features. First Pclass, which is ticket class."
   ]
  },
  {
   "cell_type": "code",
   "execution_count": 12,
   "metadata": {
    "execution": {
     "iopub.execute_input": "2021-03-02T11:33:20.343162Z",
     "iopub.status.busy": "2021-03-02T11:33:20.342302Z",
     "iopub.status.idle": "2021-03-02T11:33:20.471406Z",
     "shell.execute_reply": "2021-03-02T11:33:20.470527Z"
    },
    "papermill": {
     "duration": 0.214422,
     "end_time": "2021-03-02T11:33:20.471553",
     "exception": false,
     "start_time": "2021-03-02T11:33:20.257131",
     "status": "completed"
    },
    "tags": []
   },
   "outputs": [
    {
     "data": {
      "image/png": "[encoded data removed]",
      "text/plain": [
       "<Figure size 432x288 with 1 Axes>"
      ]
     },
     "metadata": {
      "needs_background": "light"
     },
     "output_type": "display_data"
    }
   ],
   "source": [
    "sns.countplot(x='Pclass', orient='v', data=df_train);"
   ]
  },
  {
   "cell_type": "markdown",
   "metadata": {
    "papermill": {
     "duration": 0.080259,
     "end_time": "2021-03-02T11:33:20.632668",
     "exception": false,
     "start_time": "2021-03-02T11:33:20.552409",
     "status": "completed"
    },
    "tags": []
   },
   "source": [
    "It's interesting, that there was more first class tickets, than second class.\n",
    "But as we know for Titanic film, you had much higher probability to survive, when you had first class ticket (poor Jack). Is our data confirm that?"
   ]
  },
  {
   "cell_type": "code",
   "execution_count": 13,
   "metadata": {
    "execution": {
     "iopub.execute_input": "2021-03-02T11:33:20.802202Z",
     "iopub.status.busy": "2021-03-02T11:33:20.801526Z",
     "iopub.status.idle": "2021-03-02T11:33:21.004945Z",
     "shell.execute_reply": "2021-03-02T11:33:21.004399Z"
    },
    "papermill": {
     "duration": 0.290157,
     "end_time": "2021-03-02T11:33:21.005111",
     "exception": false,
     "start_time": "2021-03-02T11:33:20.714954",
     "status": "completed"
    },
    "tags": []
   },
   "outputs": [
    {
     "data": {
      "image/png": "[encoded data removed]",
      "text/plain": [
       "<Figure size 432x288 with 1 Axes>"
      ]
     },
     "metadata": {
      "needs_background": "light"
     },
     "output_type": "display_data"
    }
   ],
   "source": [
    "sns.countplot(x='Pclass', orient='v', hue=\"Survived\", data=df_train);"
   ]
  },
  {
   "cell_type": "code",
   "execution_count": 14,
   "metadata": {
    "execution": {
     "iopub.execute_input": "2021-03-02T11:33:21.187920Z",
     "iopub.status.busy": "2021-03-02T11:33:21.187095Z",
     "iopub.status.idle": "2021-03-02T11:33:21.192225Z",
     "shell.execute_reply": "2021-03-02T11:33:21.192761Z"
    },
    "papermill": {
     "duration": 0.103834,
     "end_time": "2021-03-02T11:33:21.192934",
     "exception": false,
     "start_time": "2021-03-02T11:33:21.089100",
     "status": "completed"
    },
    "tags": []
   },
   "outputs": [
    {
     "name": "stdout",
     "output_type": "stream",
     "text": [
      "% survived in first class: 62.96\n",
      "% survived in second class: 47.28\n",
      "% survived in first class: 24.24\n"
     ]
    }
   ],
   "source": [
    "print(\"% survived in first class:\", round(df_train.Survived[(df_train.Pclass == 1) & (df_train.Survived == 1)].count()/df_train.Pclass[df_train.Pclass == 1].count()*100, 2))\n",
    "print(\"% survived in second class:\", round(df_train.Survived[(df_train.Pclass == 2) & (df_train.Survived == 1)].count()/df_train.Pclass[df_train.Pclass == 2].count()*100, 2))\n",
    "print(\"% survived in first class:\", round(df_train.Survived[(df_train.Pclass == 3) & (df_train.Survived == 1)].count()/df_train.Pclass[df_train.Pclass == 3].count()*100, 2))"
   ]
  },
  {
   "cell_type": "markdown",
   "metadata": {
    "papermill": {
     "duration": 0.085811,
     "end_time": "2021-03-02T11:33:21.364060",
     "exception": false,
     "start_time": "2021-03-02T11:33:21.278249",
     "status": "completed"
    },
    "tags": []
   },
   "source": [
    "As we suspected - near 2/3 first class passengers survived, while only 1/4 third class passengers. Definitely we should leave this columns in our dataframe.\n",
    "\n",
    "Check Name column now."
   ]
  },
  {
   "cell_type": "code",
   "execution_count": 15,
   "metadata": {
    "execution": {
     "iopub.execute_input": "2021-03-02T11:33:21.540088Z",
     "iopub.status.busy": "2021-03-02T11:33:21.539093Z",
     "iopub.status.idle": "2021-03-02T11:33:21.543947Z",
     "shell.execute_reply": "2021-03-02T11:33:21.543395Z"
    },
    "papermill": {
     "duration": 0.096205,
     "end_time": "2021-03-02T11:33:21.544117",
     "exception": false,
     "start_time": "2021-03-02T11:33:21.447912",
     "status": "completed"
    },
    "tags": []
   },
   "outputs": [
    {
     "data": {
      "text/plain": [
       "0                               Braund, Mr. Owen Harris\n",
       "1     Cumings, Mrs. John Bradley (Florence Briggs Th...\n",
       "2                                Heikkinen, Miss. Laina\n",
       "3          Futrelle, Mrs. Jacques Heath (Lily May Peel)\n",
       "4                              Allen, Mr. William Henry\n",
       "5                                      Moran, Mr. James\n",
       "6                               McCarthy, Mr. Timothy J\n",
       "7                        Palsson, Master. Gosta Leonard\n",
       "8     Johnson, Mrs. Oscar W (Elisabeth Vilhelmina Berg)\n",
       "9                   Nasser, Mrs. Nicholas (Adele Achem)\n",
       "10                      Sandstrom, Miss. Marguerite Rut\n",
       "11                             Bonnell, Miss. Elizabeth\n",
       "12                       Saundercock, Mr. William Henry\n",
       "13                          Andersson, Mr. Anders Johan\n",
       "14                 Vestrom, Miss. Hulda Amanda Adolfina\n",
       "15                     Hewlett, Mrs. (Mary D Kingcome) \n",
       "16                                 Rice, Master. Eugene\n",
       "17                         Williams, Mr. Charles Eugene\n",
       "18    Vander Planke, Mrs. Julius (Emelia Maria Vande...\n",
       "19                              Masselmani, Mrs. Fatima\n",
       "Name: Name, dtype: object"
      ]
     },
     "execution_count": 15,
     "metadata": {},
     "output_type": "execute_result"
    }
   ],
   "source": [
    "df_train[\"Name\"].head(20)"
   ]
  },
  {
   "cell_type": "code",
   "execution_count": 16,
   "metadata": {
    "execution": {
     "iopub.execute_input": "2021-03-02T11:33:21.722880Z",
     "iopub.status.busy": "2021-03-02T11:33:21.721917Z",
     "iopub.status.idle": "2021-03-02T11:33:21.726384Z",
     "shell.execute_reply": "2021-03-02T11:33:21.726837Z"
    },
    "papermill": {
     "duration": 0.100031,
     "end_time": "2021-03-02T11:33:21.727045",
     "exception": false,
     "start_time": "2021-03-02T11:33:21.627014",
     "status": "completed"
    },
    "tags": []
   },
   "outputs": [
    {
     "data": {
      "text/plain": [
       "Thorne, Mrs. Gertrude Maybelle                         1\n",
       "Hale, Mr. Reginald                                     1\n",
       "Moran, Mr. Daniel J                                    1\n",
       "Thayer, Mr. John Borland                               1\n",
       "Carlsson, Mr. August Sigfrid                           1\n",
       "                                                      ..\n",
       "Murphy, Miss. Katherine \"Kate\"                         1\n",
       "Johnston, Miss. Catherine Helen \"Carrie\"               1\n",
       "Molson, Mr. Harry Markland                             1\n",
       "Troutt, Miss. Edwina Celia \"Winnie\"                    1\n",
       "Cumings, Mrs. John Bradley (Florence Briggs Thayer)    1\n",
       "Name: Name, Length: 891, dtype: int64"
      ]
     },
     "execution_count": 16,
     "metadata": {},
     "output_type": "execute_result"
    }
   ],
   "source": [
    "df_train[\"Name\"].value_counts()"
   ]
  },
  {
   "cell_type": "markdown",
   "metadata": {
    "papermill": {
     "duration": 0.085739,
     "end_time": "2021-03-02T11:33:21.896497",
     "exception": false,
     "start_time": "2021-03-02T11:33:21.810758",
     "status": "completed"
    },
    "tags": []
   },
   "source": [
    "We have to put much effort to make something useful from it. We'll do it later, for now just drop this column, because we just want create baseline predict model."
   ]
  },
  {
   "cell_type": "code",
   "execution_count": 17,
   "metadata": {
    "execution": {
     "iopub.execute_input": "2021-03-02T11:33:22.087634Z",
     "iopub.status.busy": "2021-03-02T11:33:22.086511Z",
     "iopub.status.idle": "2021-03-02T11:33:22.092106Z",
     "shell.execute_reply": "2021-03-02T11:33:22.091297Z"
    },
    "papermill": {
     "duration": 0.112387,
     "end_time": "2021-03-02T11:33:22.092274",
     "exception": false,
     "start_time": "2021-03-02T11:33:21.979887",
     "status": "completed"
    },
    "tags": []
   },
   "outputs": [
    {
     "data": {
      "text/html": [
       "<div>\n",
       "<style scoped>\n",
       "    .dataframe tbody tr th:only-of-type {\n",
       "        vertical-align: middle;\n",
       "    }\n",
       "\n",
       "    .dataframe tbody tr th {\n",
       "        vertical-align: top;\n",
       "    }\n",
       "\n",
       "    .dataframe thead th {\n",
       "        text-align: right;\n",
       "    }\n",
       "</style>\n",
       "<table border=\"1\" class=\"dataframe\">\n",
       "  <thead>\n",
       "    <tr style=\"text-align: right;\">\n",
       "      <th></th>\n",
       "      <th>PassengerId</th>\n",
       "      <th>Survived</th>\n",
       "      <th>Pclass</th>\n",
       "      <th>Sex</th>\n",
       "      <th>SibSp</th>\n",
       "      <th>Parch</th>\n",
       "      <th>Ticket</th>\n",
       "      <th>Fare</th>\n",
       "    </tr>\n",
       "  </thead>\n",
       "  <tbody>\n",
       "    <tr>\n",
       "      <th>0</th>\n",
       "      <td>1</td>\n",
       "      <td>0</td>\n",
       "      <td>3</td>\n",
       "      <td>male</td>\n",
       "      <td>1</td>\n",
       "      <td>0</td>\n",
       "      <td>A/5 21171</td>\n",
       "      <td>7.2500</td>\n",
       "    </tr>\n",
       "    <tr>\n",
       "      <th>1</th>\n",
       "      <td>2</td>\n",
       "      <td>1</td>\n",
       "      <td>1</td>\n",
       "      <td>female</td>\n",
       "      <td>1</td>\n",
       "      <td>0</td>\n",
       "      <td>PC 17599</td>\n",
       "      <td>71.2833</td>\n",
       "    </tr>\n",
       "    <tr>\n",
       "      <th>2</th>\n",
       "      <td>3</td>\n",
       "      <td>1</td>\n",
       "      <td>3</td>\n",
       "      <td>female</td>\n",
       "      <td>0</td>\n",
       "      <td>0</td>\n",
       "      <td>STON/O2. 3101282</td>\n",
       "      <td>7.9250</td>\n",
       "    </tr>\n",
       "    <tr>\n",
       "      <th>3</th>\n",
       "      <td>4</td>\n",
       "      <td>1</td>\n",
       "      <td>1</td>\n",
       "      <td>female</td>\n",
       "      <td>1</td>\n",
       "      <td>0</td>\n",
       "      <td>113803</td>\n",
       "      <td>53.1000</td>\n",
       "    </tr>\n",
       "    <tr>\n",
       "      <th>4</th>\n",
       "      <td>5</td>\n",
       "      <td>0</td>\n",
       "      <td>3</td>\n",
       "      <td>male</td>\n",
       "      <td>0</td>\n",
       "      <td>0</td>\n",
       "      <td>373450</td>\n",
       "      <td>8.0500</td>\n",
       "    </tr>\n",
       "    <tr>\n",
       "      <th>...</th>\n",
       "      <td>...</td>\n",
       "      <td>...</td>\n",
       "      <td>...</td>\n",
       "      <td>...</td>\n",
       "      <td>...</td>\n",
       "      <td>...</td>\n",
       "      <td>...</td>\n",
       "      <td>...</td>\n",
       "    </tr>\n",
       "    <tr>\n",
       "      <th>886</th>\n",
       "      <td>887</td>\n",
       "      <td>0</td>\n",
       "      <td>2</td>\n",
       "      <td>male</td>\n",
       "      <td>0</td>\n",
       "      <td>0</td>\n",
       "      <td>211536</td>\n",
       "      <td>13.0000</td>\n",
       "    </tr>\n",
       "    <tr>\n",
       "      <th>887</th>\n",
       "      <td>888</td>\n",
       "      <td>1</td>\n",
       "      <td>1</td>\n",
       "      <td>female</td>\n",
       "      <td>0</td>\n",
       "      <td>0</td>\n",
       "      <td>112053</td>\n",
       "      <td>30.0000</td>\n",
       "    </tr>\n",
       "    <tr>\n",
       "      <th>888</th>\n",
       "      <td>889</td>\n",
       "      <td>0</td>\n",
       "      <td>3</td>\n",
       "      <td>female</td>\n",
       "      <td>1</td>\n",
       "      <td>2</td>\n",
       "      <td>W./C. 6607</td>\n",
       "      <td>23.4500</td>\n",
       "    </tr>\n",
       "    <tr>\n",
       "      <th>889</th>\n",
       "      <td>890</td>\n",
       "      <td>1</td>\n",
       "      <td>1</td>\n",
       "      <td>male</td>\n",
       "      <td>0</td>\n",
       "      <td>0</td>\n",
       "      <td>111369</td>\n",
       "      <td>30.0000</td>\n",
       "    </tr>\n",
       "    <tr>\n",
       "      <th>890</th>\n",
       "      <td>891</td>\n",
       "      <td>0</td>\n",
       "      <td>3</td>\n",
       "      <td>male</td>\n",
       "      <td>0</td>\n",
       "      <td>0</td>\n",
       "      <td>370376</td>\n",
       "      <td>7.7500</td>\n",
       "    </tr>\n",
       "  </tbody>\n",
       "</table>\n",
       "<p>891 rows × 8 columns</p>\n",
       "</div>"
      ],
      "text/plain": [
       "     PassengerId  Survived  Pclass     Sex  SibSp  Parch            Ticket  \\\n",
       "0              1         0       3    male      1      0         A/5 21171   \n",
       "1              2         1       1  female      1      0          PC 17599   \n",
       "2              3         1       3  female      0      0  STON/O2. 3101282   \n",
       "3              4         1       1  female      1      0            113803   \n",
       "4              5         0       3    male      0      0            373450   \n",
       "..           ...       ...     ...     ...    ...    ...               ...   \n",
       "886          887         0       2    male      0      0            211536   \n",
       "887          888         1       1  female      0      0            112053   \n",
       "888          889         0       3  female      1      2        W./C. 6607   \n",
       "889          890         1       1    male      0      0            111369   \n",
       "890          891         0       3    male      0      0            370376   \n",
       "\n",
       "        Fare  \n",
       "0     7.2500  \n",
       "1    71.2833  \n",
       "2     7.9250  \n",
       "3    53.1000  \n",
       "4     8.0500  \n",
       "..       ...  \n",
       "886  13.0000  \n",
       "887  30.0000  \n",
       "888  23.4500  \n",
       "889  30.0000  \n",
       "890   7.7500  \n",
       "\n",
       "[891 rows x 8 columns]"
      ]
     },
     "execution_count": 17,
     "metadata": {},
     "output_type": "execute_result"
    }
   ],
   "source": [
    "df_train = df_train.drop(\"Name\", axis=1)\n",
    "df_train"
   ]
  },
  {
   "cell_type": "markdown",
   "metadata": {
    "papermill": {
     "duration": 0.084521,
     "end_time": "2021-03-02T11:33:22.271278",
     "exception": false,
     "start_time": "2021-03-02T11:33:22.186757",
     "status": "completed"
    },
    "tags": []
   },
   "source": [
    "We knowe already, that film \"Titanic\" has right in Rose-Jack situation about they tickets. And how about their gender?"
   ]
  },
  {
   "cell_type": "code",
   "execution_count": 18,
   "metadata": {
    "execution": {
     "iopub.execute_input": "2021-03-02T11:33:22.451030Z",
     "iopub.status.busy": "2021-03-02T11:33:22.450339Z",
     "iopub.status.idle": "2021-03-02T11:33:22.602818Z",
     "shell.execute_reply": "2021-03-02T11:33:22.603313Z"
    },
    "papermill": {
     "duration": 0.248157,
     "end_time": "2021-03-02T11:33:22.603536",
     "exception": false,
     "start_time": "2021-03-02T11:33:22.355379",
     "status": "completed"
    },
    "tags": []
   },
   "outputs": [
    {
     "data": {
      "image/png": "[encoded data removed]",
      "text/plain": [
       "<Figure size 432x288 with 1 Axes>"
      ]
     },
     "metadata": {
      "needs_background": "light"
     },
     "output_type": "display_data"
    }
   ],
   "source": [
    "sns.countplot(x=\"Sex\", hue=\"Survived\", data=df_train);"
   ]
  },
  {
   "cell_type": "code",
   "execution_count": 19,
   "metadata": {
    "execution": {
     "iopub.execute_input": "2021-03-02T11:33:22.782905Z",
     "iopub.status.busy": "2021-03-02T11:33:22.782160Z",
     "iopub.status.idle": "2021-03-02T11:33:22.787981Z",
     "shell.execute_reply": "2021-03-02T11:33:22.787413Z"
    },
    "papermill": {
     "duration": 0.099626,
     "end_time": "2021-03-02T11:33:22.788133",
     "exception": false,
     "start_time": "2021-03-02T11:33:22.688507",
     "status": "completed"
    },
    "tags": []
   },
   "outputs": [
    {
     "name": "stdout",
     "output_type": "stream",
     "text": [
      "% survived in males: 18.89\n",
      "% survived in females: 74.2\n"
     ]
    }
   ],
   "source": [
    "print(\"% survived in males:\", round(df_train.Survived[(df_train.Sex == \"male\") & (df_train.Survived == 1)].count()/df_train.Sex[df_train.Sex == \"male\"].count()*100, 2))\n",
    "print(\"% survived in females:\", round(df_train.Survived[(df_train.Sex == \"female\") & (df_train.Survived == 1)].count()/df_train.Sex[df_train.Sex == \"female\"].count()*100, 2))"
   ]
  },
  {
   "cell_type": "markdown",
   "metadata": {
    "papermill": {
     "duration": 0.085976,
     "end_time": "2021-03-02T11:33:22.959738",
     "exception": false,
     "start_time": "2021-03-02T11:33:22.873762",
     "status": "completed"
    },
    "tags": []
   },
   "source": [
    "Not the best situation for us, guys. Again - we want to keep this column for sure. But for our machine learning models we need to change categories to numerical."
   ]
  },
  {
   "cell_type": "code",
   "execution_count": 20,
   "metadata": {
    "execution": {
     "iopub.execute_input": "2021-03-02T11:33:23.156350Z",
     "iopub.status.busy": "2021-03-02T11:33:23.151274Z",
     "iopub.status.idle": "2021-03-02T11:33:23.160908Z",
     "shell.execute_reply": "2021-03-02T11:33:23.160293Z"
    },
    "papermill": {
     "duration": 0.109951,
     "end_time": "2021-03-02T11:33:23.161068",
     "exception": false,
     "start_time": "2021-03-02T11:33:23.051117",
     "status": "completed"
    },
    "tags": []
   },
   "outputs": [
    {
     "data": {
      "text/html": [
       "<div>\n",
       "<style scoped>\n",
       "    .dataframe tbody tr th:only-of-type {\n",
       "        vertical-align: middle;\n",
       "    }\n",
       "\n",
       "    .dataframe tbody tr th {\n",
       "        vertical-align: top;\n",
       "    }\n",
       "\n",
       "    .dataframe thead th {\n",
       "        text-align: right;\n",
       "    }\n",
       "</style>\n",
       "<table border=\"1\" class=\"dataframe\">\n",
       "  <thead>\n",
       "    <tr style=\"text-align: right;\">\n",
       "      <th></th>\n",
       "      <th>PassengerId</th>\n",
       "      <th>Survived</th>\n",
       "      <th>Pclass</th>\n",
       "      <th>Sex</th>\n",
       "      <th>SibSp</th>\n",
       "      <th>Parch</th>\n",
       "      <th>Ticket</th>\n",
       "      <th>Fare</th>\n",
       "    </tr>\n",
       "  </thead>\n",
       "  <tbody>\n",
       "    <tr>\n",
       "      <th>0</th>\n",
       "      <td>1</td>\n",
       "      <td>0</td>\n",
       "      <td>3</td>\n",
       "      <td>0</td>\n",
       "      <td>1</td>\n",
       "      <td>0</td>\n",
       "      <td>A/5 21171</td>\n",
       "      <td>7.2500</td>\n",
       "    </tr>\n",
       "    <tr>\n",
       "      <th>1</th>\n",
       "      <td>2</td>\n",
       "      <td>1</td>\n",
       "      <td>1</td>\n",
       "      <td>1</td>\n",
       "      <td>1</td>\n",
       "      <td>0</td>\n",
       "      <td>PC 17599</td>\n",
       "      <td>71.2833</td>\n",
       "    </tr>\n",
       "    <tr>\n",
       "      <th>2</th>\n",
       "      <td>3</td>\n",
       "      <td>1</td>\n",
       "      <td>3</td>\n",
       "      <td>1</td>\n",
       "      <td>0</td>\n",
       "      <td>0</td>\n",
       "      <td>STON/O2. 3101282</td>\n",
       "      <td>7.9250</td>\n",
       "    </tr>\n",
       "    <tr>\n",
       "      <th>3</th>\n",
       "      <td>4</td>\n",
       "      <td>1</td>\n",
       "      <td>1</td>\n",
       "      <td>1</td>\n",
       "      <td>1</td>\n",
       "      <td>0</td>\n",
       "      <td>113803</td>\n",
       "      <td>53.1000</td>\n",
       "    </tr>\n",
       "    <tr>\n",
       "      <th>4</th>\n",
       "      <td>5</td>\n",
       "      <td>0</td>\n",
       "      <td>3</td>\n",
       "      <td>0</td>\n",
       "      <td>0</td>\n",
       "      <td>0</td>\n",
       "      <td>373450</td>\n",
       "      <td>8.0500</td>\n",
       "    </tr>\n",
       "    <tr>\n",
       "      <th>...</th>\n",
       "      <td>...</td>\n",
       "      <td>...</td>\n",
       "      <td>...</td>\n",
       "      <td>...</td>\n",
       "      <td>...</td>\n",
       "      <td>...</td>\n",
       "      <td>...</td>\n",
       "      <td>...</td>\n",
       "    </tr>\n",
       "    <tr>\n",
       "      <th>886</th>\n",
       "      <td>887</td>\n",
       "      <td>0</td>\n",
       "      <td>2</td>\n",
       "      <td>0</td>\n",
       "      <td>0</td>\n",
       "      <td>0</td>\n",
       "      <td>211536</td>\n",
       "      <td>13.0000</td>\n",
       "    </tr>\n",
       "    <tr>\n",
       "      <th>887</th>\n",
       "      <td>888</td>\n",
       "      <td>1</td>\n",
       "      <td>1</td>\n",
       "      <td>1</td>\n",
       "      <td>0</td>\n",
       "      <td>0</td>\n",
       "      <td>112053</td>\n",
       "      <td>30.0000</td>\n",
       "    </tr>\n",
       "    <tr>\n",
       "      <th>888</th>\n",
       "      <td>889</td>\n",
       "      <td>0</td>\n",
       "      <td>3</td>\n",
       "      <td>1</td>\n",
       "      <td>1</td>\n",
       "      <td>2</td>\n",
       "      <td>W./C. 6607</td>\n",
       "      <td>23.4500</td>\n",
       "    </tr>\n",
       "    <tr>\n",
       "      <th>889</th>\n",
       "      <td>890</td>\n",
       "      <td>1</td>\n",
       "      <td>1</td>\n",
       "      <td>0</td>\n",
       "      <td>0</td>\n",
       "      <td>0</td>\n",
       "      <td>111369</td>\n",
       "      <td>30.0000</td>\n",
       "    </tr>\n",
       "    <tr>\n",
       "      <th>890</th>\n",
       "      <td>891</td>\n",
       "      <td>0</td>\n",
       "      <td>3</td>\n",
       "      <td>0</td>\n",
       "      <td>0</td>\n",
       "      <td>0</td>\n",
       "      <td>370376</td>\n",
       "      <td>7.7500</td>\n",
       "    </tr>\n",
       "  </tbody>\n",
       "</table>\n",
       "<p>891 rows × 8 columns</p>\n",
       "</div>"
      ],
      "text/plain": [
       "     PassengerId  Survived  Pclass  Sex  SibSp  Parch            Ticket  \\\n",
       "0              1         0       3    0      1      0         A/5 21171   \n",
       "1              2         1       1    1      1      0          PC 17599   \n",
       "2              3         1       3    1      0      0  STON/O2. 3101282   \n",
       "3              4         1       1    1      1      0            113803   \n",
       "4              5         0       3    0      0      0            373450   \n",
       "..           ...       ...     ...  ...    ...    ...               ...   \n",
       "886          887         0       2    0      0      0            211536   \n",
       "887          888         1       1    1      0      0            112053   \n",
       "888          889         0       3    1      1      2        W./C. 6607   \n",
       "889          890         1       1    0      0      0            111369   \n",
       "890          891         0       3    0      0      0            370376   \n",
       "\n",
       "        Fare  \n",
       "0     7.2500  \n",
       "1    71.2833  \n",
       "2     7.9250  \n",
       "3    53.1000  \n",
       "4     8.0500  \n",
       "..       ...  \n",
       "886  13.0000  \n",
       "887  30.0000  \n",
       "888  23.4500  \n",
       "889  30.0000  \n",
       "890   7.7500  \n",
       "\n",
       "[891 rows x 8 columns]"
      ]
     },
     "execution_count": 20,
     "metadata": {},
     "output_type": "execute_result"
    }
   ],
   "source": [
    "df_train[\"Sex\"] = np.where(df_train[\"Sex\"] == \"female\", 1, 0)\n",
    "df_train"
   ]
  },
  {
   "cell_type": "markdown",
   "metadata": {
    "papermill": {
     "duration": 0.085108,
     "end_time": "2021-03-02T11:33:23.333603",
     "exception": false,
     "start_time": "2021-03-02T11:33:23.248495",
     "status": "completed"
    },
    "tags": []
   },
   "source": [
    "Two next columns looks quite similiar. SibSp is number of siblings / spouses aboard the Titanic and Parch is number. of parents / children aboard the Titanic. Let's look closer at it."
   ]
  },
  {
   "cell_type": "code",
   "execution_count": 21,
   "metadata": {
    "execution": {
     "iopub.execute_input": "2021-03-02T11:33:23.512088Z",
     "iopub.status.busy": "2021-03-02T11:33:23.511414Z",
     "iopub.status.idle": "2021-03-02T11:33:23.514513Z",
     "shell.execute_reply": "2021-03-02T11:33:23.514993Z"
    },
    "papermill": {
     "duration": 0.096224,
     "end_time": "2021-03-02T11:33:23.515173",
     "exception": false,
     "start_time": "2021-03-02T11:33:23.418949",
     "status": "completed"
    },
    "tags": []
   },
   "outputs": [
    {
     "data": {
      "text/plain": [
       "0    608\n",
       "1    209\n",
       "2     28\n",
       "4     18\n",
       "3     16\n",
       "8      7\n",
       "5      5\n",
       "Name: SibSp, dtype: int64"
      ]
     },
     "execution_count": 21,
     "metadata": {},
     "output_type": "execute_result"
    }
   ],
   "source": [
    "df_train[\"SibSp\"].value_counts()"
   ]
  },
  {
   "cell_type": "code",
   "execution_count": 22,
   "metadata": {
    "execution": {
     "iopub.execute_input": "2021-03-02T11:33:23.691086Z",
     "iopub.status.busy": "2021-03-02T11:33:23.690402Z",
     "iopub.status.idle": "2021-03-02T11:33:23.697126Z",
     "shell.execute_reply": "2021-03-02T11:33:23.697621Z"
    },
    "papermill": {
     "duration": 0.096331,
     "end_time": "2021-03-02T11:33:23.697793",
     "exception": false,
     "start_time": "2021-03-02T11:33:23.601462",
     "status": "completed"
    },
    "tags": []
   },
   "outputs": [
    {
     "data": {
      "text/plain": [
       "0    678\n",
       "1    118\n",
       "2     80\n",
       "3      5\n",
       "5      5\n",
       "4      4\n",
       "6      1\n",
       "Name: Parch, dtype: int64"
      ]
     },
     "execution_count": 22,
     "metadata": {},
     "output_type": "execute_result"
    }
   ],
   "source": [
    "df_train[\"Parch\"].value_counts()"
   ]
  },
  {
   "cell_type": "code",
   "execution_count": 23,
   "metadata": {
    "execution": {
     "iopub.execute_input": "2021-03-02T11:33:23.874790Z",
     "iopub.status.busy": "2021-03-02T11:33:23.874128Z",
     "iopub.status.idle": "2021-03-02T11:33:24.120089Z",
     "shell.execute_reply": "2021-03-02T11:33:24.120606Z"
    },
    "papermill": {
     "duration": 0.335853,
     "end_time": "2021-03-02T11:33:24.120777",
     "exception": false,
     "start_time": "2021-03-02T11:33:23.784924",
     "status": "completed"
    },
    "tags": []
   },
   "outputs": [
    {
     "data": {
      "text/plain": [
       "<AxesSubplot:xlabel='SibSp', ylabel='count'>"
      ]
     },
     "execution_count": 23,
     "metadata": {},
     "output_type": "execute_result"
    },
    {
     "data": {
      "image/png": "[encoded data removed]",
      "text/plain": [
       "<Figure size 432x288 with 1 Axes>"
      ]
     },
     "metadata": {
      "needs_background": "light"
     },
     "output_type": "display_data"
    }
   ],
   "source": [
    "sns.countplot(x=\"SibSp\", hue=\"Survived\", data=df_train)"
   ]
  },
  {
   "cell_type": "code",
   "execution_count": 24,
   "metadata": {
    "execution": {
     "iopub.execute_input": "2021-03-02T11:33:24.302172Z",
     "iopub.status.busy": "2021-03-02T11:33:24.301484Z",
     "iopub.status.idle": "2021-03-02T11:33:24.523744Z",
     "shell.execute_reply": "2021-03-02T11:33:24.523072Z"
    },
    "papermill": {
     "duration": 0.315132,
     "end_time": "2021-03-02T11:33:24.523900",
     "exception": false,
     "start_time": "2021-03-02T11:33:24.208768",
     "status": "completed"
    },
    "tags": []
   },
   "outputs": [
    {
     "data": {
      "text/plain": [
       "<AxesSubplot:xlabel='Parch', ylabel='count'>"
      ]
     },
     "execution_count": 24,
     "metadata": {},
     "output_type": "execute_result"
    },
    {
     "data": {
      "image/png": "[encoded data removed]",
      "text/plain": [
       "<Figure size 432x288 with 1 Axes>"
      ]
     },
     "metadata": {
      "needs_background": "light"
     },
     "output_type": "display_data"
    }
   ],
   "source": [
    "sns.countplot(x=\"Parch\", hue=\"Survived\", data=df_train)"
   ]
  },
  {
   "cell_type": "markdown",
   "metadata": {
    "papermill": {
     "duration": 0.089453,
     "end_time": "2021-03-02T11:33:24.702312",
     "exception": false,
     "start_time": "2021-03-02T11:33:24.612859",
     "status": "completed"
    },
    "tags": []
   },
   "source": [
    "Most passengers have traveled alone, but who has been with family or spouse (especially one or two) had much better chances to survive. We could have assumptions about it (parents rescue their childrens, men rescue their wifes and fiancees), but leave this column at it is for now.\n",
    "\n",
    "Check Ticket column."
   ]
  },
  {
   "cell_type": "code",
   "execution_count": 25,
   "metadata": {
    "execution": {
     "iopub.execute_input": "2021-03-02T11:33:24.888847Z",
     "iopub.status.busy": "2021-03-02T11:33:24.887845Z",
     "iopub.status.idle": "2021-03-02T11:33:24.891645Z",
     "shell.execute_reply": "2021-03-02T11:33:24.892104Z"
    },
    "papermill": {
     "duration": 0.100328,
     "end_time": "2021-03-02T11:33:24.892280",
     "exception": false,
     "start_time": "2021-03-02T11:33:24.791952",
     "status": "completed"
    },
    "tags": []
   },
   "outputs": [
    {
     "data": {
      "text/plain": [
       "0            A/5 21171\n",
       "1             PC 17599\n",
       "2     STON/O2. 3101282\n",
       "3               113803\n",
       "4               373450\n",
       "5               330877\n",
       "6                17463\n",
       "7               349909\n",
       "8               347742\n",
       "9               237736\n",
       "10             PP 9549\n",
       "11              113783\n",
       "12           A/5. 2151\n",
       "13              347082\n",
       "14              350406\n",
       "15              248706\n",
       "16              382652\n",
       "17              244373\n",
       "18              345763\n",
       "19                2649\n",
       "Name: Ticket, dtype: object"
      ]
     },
     "execution_count": 25,
     "metadata": {},
     "output_type": "execute_result"
    }
   ],
   "source": [
    "df_train[\"Ticket\"].head(20)"
   ]
  },
  {
   "cell_type": "markdown",
   "metadata": {
    "papermill": {
     "duration": 0.089827,
     "end_time": "2021-03-02T11:33:25.071220",
     "exception": false,
     "start_time": "2021-03-02T11:33:24.981393",
     "status": "completed"
    },
    "tags": []
   },
   "source": [
    "Once more, we need dive deeply in, and we don't want now. Drop it and check last column."
   ]
  },
  {
   "cell_type": "code",
   "execution_count": 26,
   "metadata": {
    "execution": {
     "iopub.execute_input": "2021-03-02T11:33:25.256058Z",
     "iopub.status.busy": "2021-03-02T11:33:25.254920Z",
     "iopub.status.idle": "2021-03-02T11:33:25.268817Z",
     "shell.execute_reply": "2021-03-02T11:33:25.269345Z"
    },
    "papermill": {
     "duration": 0.108378,
     "end_time": "2021-03-02T11:33:25.269547",
     "exception": false,
     "start_time": "2021-03-02T11:33:25.161169",
     "status": "completed"
    },
    "tags": []
   },
   "outputs": [
    {
     "data": {
      "text/html": [
       "<div>\n",
       "<style scoped>\n",
       "    .dataframe tbody tr th:only-of-type {\n",
       "        vertical-align: middle;\n",
       "    }\n",
       "\n",
       "    .dataframe tbody tr th {\n",
       "        vertical-align: top;\n",
       "    }\n",
       "\n",
       "    .dataframe thead th {\n",
       "        text-align: right;\n",
       "    }\n",
       "</style>\n",
       "<table border=\"1\" class=\"dataframe\">\n",
       "  <thead>\n",
       "    <tr style=\"text-align: right;\">\n",
       "      <th></th>\n",
       "      <th>PassengerId</th>\n",
       "      <th>Survived</th>\n",
       "      <th>Pclass</th>\n",
       "      <th>Sex</th>\n",
       "      <th>SibSp</th>\n",
       "      <th>Parch</th>\n",
       "      <th>Fare</th>\n",
       "    </tr>\n",
       "  </thead>\n",
       "  <tbody>\n",
       "    <tr>\n",
       "      <th>0</th>\n",
       "      <td>1</td>\n",
       "      <td>0</td>\n",
       "      <td>3</td>\n",
       "      <td>0</td>\n",
       "      <td>1</td>\n",
       "      <td>0</td>\n",
       "      <td>7.2500</td>\n",
       "    </tr>\n",
       "    <tr>\n",
       "      <th>1</th>\n",
       "      <td>2</td>\n",
       "      <td>1</td>\n",
       "      <td>1</td>\n",
       "      <td>1</td>\n",
       "      <td>1</td>\n",
       "      <td>0</td>\n",
       "      <td>71.2833</td>\n",
       "    </tr>\n",
       "    <tr>\n",
       "      <th>2</th>\n",
       "      <td>3</td>\n",
       "      <td>1</td>\n",
       "      <td>3</td>\n",
       "      <td>1</td>\n",
       "      <td>0</td>\n",
       "      <td>0</td>\n",
       "      <td>7.9250</td>\n",
       "    </tr>\n",
       "    <tr>\n",
       "      <th>3</th>\n",
       "      <td>4</td>\n",
       "      <td>1</td>\n",
       "      <td>1</td>\n",
       "      <td>1</td>\n",
       "      <td>1</td>\n",
       "      <td>0</td>\n",
       "      <td>53.1000</td>\n",
       "    </tr>\n",
       "    <tr>\n",
       "      <th>4</th>\n",
       "      <td>5</td>\n",
       "      <td>0</td>\n",
       "      <td>3</td>\n",
       "      <td>0</td>\n",
       "      <td>0</td>\n",
       "      <td>0</td>\n",
       "      <td>8.0500</td>\n",
       "    </tr>\n",
       "  </tbody>\n",
       "</table>\n",
       "</div>"
      ],
      "text/plain": [
       "   PassengerId  Survived  Pclass  Sex  SibSp  Parch     Fare\n",
       "0            1         0       3    0      1      0   7.2500\n",
       "1            2         1       1    1      1      0  71.2833\n",
       "2            3         1       3    1      0      0   7.9250\n",
       "3            4         1       1    1      1      0  53.1000\n",
       "4            5         0       3    0      0      0   8.0500"
      ]
     },
     "execution_count": 26,
     "metadata": {},
     "output_type": "execute_result"
    }
   ],
   "source": [
    "df_train = df_train.drop(\"Ticket\", 1)\n",
    "df_train.head()"
   ]
  },
  {
   "cell_type": "code",
   "execution_count": 27,
   "metadata": {
    "execution": {
     "iopub.execute_input": "2021-03-02T11:33:25.463313Z",
     "iopub.status.busy": "2021-03-02T11:33:25.462296Z",
     "iopub.status.idle": "2021-03-02T11:33:25.471895Z",
     "shell.execute_reply": "2021-03-02T11:33:25.472458Z"
    },
    "papermill": {
     "duration": 0.103565,
     "end_time": "2021-03-02T11:33:25.472643",
     "exception": false,
     "start_time": "2021-03-02T11:33:25.369078",
     "status": "completed"
    },
    "tags": []
   },
   "outputs": [
    {
     "data": {
      "text/plain": [
       "count    891.000000\n",
       "mean      32.204208\n",
       "std       49.693429\n",
       "min        0.000000\n",
       "25%        7.910400\n",
       "50%       14.454200\n",
       "75%       31.000000\n",
       "max      512.329200\n",
       "Name: Fare, dtype: float64"
      ]
     },
     "execution_count": 27,
     "metadata": {},
     "output_type": "execute_result"
    }
   ],
   "source": [
    "df_train.Fare.describe()"
   ]
  },
  {
   "cell_type": "code",
   "execution_count": 28,
   "metadata": {
    "execution": {
     "iopub.execute_input": "2021-03-02T11:33:25.681607Z",
     "iopub.status.busy": "2021-03-02T11:33:25.680467Z",
     "iopub.status.idle": "2021-03-02T11:33:25.691769Z",
     "shell.execute_reply": "2021-03-02T11:33:25.691197Z"
    },
    "papermill": {
     "duration": 0.117203,
     "end_time": "2021-03-02T11:33:25.691926",
     "exception": false,
     "start_time": "2021-03-02T11:33:25.574723",
     "status": "completed"
    },
    "tags": []
   },
   "outputs": [
    {
     "name": "stdout",
     "output_type": "stream",
     "text": [
      "Mean fare for first class ticket: 84.15\n",
      "Mean fare for second class ticket: 20.66\n",
      "Mean fare for third class ticket: 13.68\n"
     ]
    }
   ],
   "source": [
    "first_class_mean = df_train.Fare[df_train.Pclass == 1].mean()\n",
    "second_class_mean = df_train.Fare[df_train.Pclass == 2].mean()\n",
    "third_class_mean = df_train.Fare[df_train.Pclass == 3].mean()\n",
    "print(\"Mean fare for first class ticket:\", round(first_class_mean, 2))\n",
    "print(\"Mean fare for second class ticket:\", round(second_class_mean, 2))\n",
    "print(\"Mean fare for third class ticket:\", round(third_class_mean, 2))"
   ]
  },
  {
   "cell_type": "code",
   "execution_count": 29,
   "metadata": {
    "execution": {
     "iopub.execute_input": "2021-03-02T11:33:25.887515Z",
     "iopub.status.busy": "2021-03-02T11:33:25.886859Z",
     "iopub.status.idle": "2021-03-02T11:33:26.145167Z",
     "shell.execute_reply": "2021-03-02T11:33:26.144498Z"
    },
    "papermill": {
     "duration": 0.358946,
     "end_time": "2021-03-02T11:33:26.145311",
     "exception": false,
     "start_time": "2021-03-02T11:33:25.786365",
     "status": "completed"
    },
    "tags": []
   },
   "outputs": [
    {
     "data": {
      "image/png": "[encoded data removed]",
      "text/plain": [
       "<Figure size 360x360 with 1 Axes>"
      ]
     },
     "metadata": {
      "needs_background": "light"
     },
     "output_type": "display_data"
    }
   ],
   "source": [
    "sns.catplot(x=\"Survived\", y=\"Fare\", data=df_train);"
   ]
  },
  {
   "cell_type": "markdown",
   "metadata": {
    "papermill": {
     "duration": 0.092546,
     "end_time": "2021-03-02T11:33:26.329933",
     "exception": false,
     "start_time": "2021-03-02T11:33:26.237387",
     "status": "completed"
    },
    "tags": []
   },
   "source": [
    "As we could suppose, first class tickets were more expensive than others. On plot we can see that we have probably two extreme values, and generally higher fare = higher chances to survive. Maybe we could make more conlusions with that column, but leave it, at least for now."
   ]
  },
  {
   "cell_type": "code",
   "execution_count": 30,
   "metadata": {
    "execution": {
     "iopub.execute_input": "2021-03-02T11:33:26.529988Z",
     "iopub.status.busy": "2021-03-02T11:33:26.529128Z",
     "iopub.status.idle": "2021-03-02T11:33:26.533650Z",
     "shell.execute_reply": "2021-03-02T11:33:26.532960Z"
    },
    "papermill": {
     "duration": 0.112104,
     "end_time": "2021-03-02T11:33:26.533914",
     "exception": false,
     "start_time": "2021-03-02T11:33:26.421810",
     "status": "completed"
    },
    "tags": []
   },
   "outputs": [
    {
     "data": {
      "text/html": [
       "<div>\n",
       "<style scoped>\n",
       "    .dataframe tbody tr th:only-of-type {\n",
       "        vertical-align: middle;\n",
       "    }\n",
       "\n",
       "    .dataframe tbody tr th {\n",
       "        vertical-align: top;\n",
       "    }\n",
       "\n",
       "    .dataframe thead th {\n",
       "        text-align: right;\n",
       "    }\n",
       "</style>\n",
       "<table border=\"1\" class=\"dataframe\">\n",
       "  <thead>\n",
       "    <tr style=\"text-align: right;\">\n",
       "      <th></th>\n",
       "      <th>PassengerId</th>\n",
       "      <th>Survived</th>\n",
       "      <th>Pclass</th>\n",
       "      <th>Sex</th>\n",
       "      <th>SibSp</th>\n",
       "      <th>Parch</th>\n",
       "      <th>Fare</th>\n",
       "    </tr>\n",
       "  </thead>\n",
       "  <tbody>\n",
       "    <tr>\n",
       "      <th>0</th>\n",
       "      <td>1</td>\n",
       "      <td>0</td>\n",
       "      <td>3</td>\n",
       "      <td>0</td>\n",
       "      <td>1</td>\n",
       "      <td>0</td>\n",
       "      <td>7.2500</td>\n",
       "    </tr>\n",
       "    <tr>\n",
       "      <th>1</th>\n",
       "      <td>2</td>\n",
       "      <td>1</td>\n",
       "      <td>1</td>\n",
       "      <td>1</td>\n",
       "      <td>1</td>\n",
       "      <td>0</td>\n",
       "      <td>71.2833</td>\n",
       "    </tr>\n",
       "    <tr>\n",
       "      <th>2</th>\n",
       "      <td>3</td>\n",
       "      <td>1</td>\n",
       "      <td>3</td>\n",
       "      <td>1</td>\n",
       "      <td>0</td>\n",
       "      <td>0</td>\n",
       "      <td>7.9250</td>\n",
       "    </tr>\n",
       "    <tr>\n",
       "      <th>3</th>\n",
       "      <td>4</td>\n",
       "      <td>1</td>\n",
       "      <td>1</td>\n",
       "      <td>1</td>\n",
       "      <td>1</td>\n",
       "      <td>0</td>\n",
       "      <td>53.1000</td>\n",
       "    </tr>\n",
       "    <tr>\n",
       "      <th>4</th>\n",
       "      <td>5</td>\n",
       "      <td>0</td>\n",
       "      <td>3</td>\n",
       "      <td>0</td>\n",
       "      <td>0</td>\n",
       "      <td>0</td>\n",
       "      <td>8.0500</td>\n",
       "    </tr>\n",
       "    <tr>\n",
       "      <th>...</th>\n",
       "      <td>...</td>\n",
       "      <td>...</td>\n",
       "      <td>...</td>\n",
       "      <td>...</td>\n",
       "      <td>...</td>\n",
       "      <td>...</td>\n",
       "      <td>...</td>\n",
       "    </tr>\n",
       "    <tr>\n",
       "      <th>886</th>\n",
       "      <td>887</td>\n",
       "      <td>0</td>\n",
       "      <td>2</td>\n",
       "      <td>0</td>\n",
       "      <td>0</td>\n",
       "      <td>0</td>\n",
       "      <td>13.0000</td>\n",
       "    </tr>\n",
       "    <tr>\n",
       "      <th>887</th>\n",
       "      <td>888</td>\n",
       "      <td>1</td>\n",
       "      <td>1</td>\n",
       "      <td>1</td>\n",
       "      <td>0</td>\n",
       "      <td>0</td>\n",
       "      <td>30.0000</td>\n",
       "    </tr>\n",
       "    <tr>\n",
       "      <th>888</th>\n",
       "      <td>889</td>\n",
       "      <td>0</td>\n",
       "      <td>3</td>\n",
       "      <td>1</td>\n",
       "      <td>1</td>\n",
       "      <td>2</td>\n",
       "      <td>23.4500</td>\n",
       "    </tr>\n",
       "    <tr>\n",
       "      <th>889</th>\n",
       "      <td>890</td>\n",
       "      <td>1</td>\n",
       "      <td>1</td>\n",
       "      <td>0</td>\n",
       "      <td>0</td>\n",
       "      <td>0</td>\n",
       "      <td>30.0000</td>\n",
       "    </tr>\n",
       "    <tr>\n",
       "      <th>890</th>\n",
       "      <td>891</td>\n",
       "      <td>0</td>\n",
       "      <td>3</td>\n",
       "      <td>0</td>\n",
       "      <td>0</td>\n",
       "      <td>0</td>\n",
       "      <td>7.7500</td>\n",
       "    </tr>\n",
       "  </tbody>\n",
       "</table>\n",
       "<p>891 rows × 7 columns</p>\n",
       "</div>"
      ],
      "text/plain": [
       "     PassengerId  Survived  Pclass  Sex  SibSp  Parch     Fare\n",
       "0              1         0       3    0      1      0   7.2500\n",
       "1              2         1       1    1      1      0  71.2833\n",
       "2              3         1       3    1      0      0   7.9250\n",
       "3              4         1       1    1      1      0  53.1000\n",
       "4              5         0       3    0      0      0   8.0500\n",
       "..           ...       ...     ...  ...    ...    ...      ...\n",
       "886          887         0       2    0      0      0  13.0000\n",
       "887          888         1       1    1      0      0  30.0000\n",
       "888          889         0       3    1      1      2  23.4500\n",
       "889          890         1       1    0      0      0  30.0000\n",
       "890          891         0       3    0      0      0   7.7500\n",
       "\n",
       "[891 rows x 7 columns]"
      ]
     },
     "execution_count": 30,
     "metadata": {},
     "output_type": "execute_result"
    }
   ],
   "source": [
    "df_train"
   ]
  },
  {
   "cell_type": "markdown",
   "metadata": {
    "papermill": {
     "duration": 0.092602,
     "end_time": "2021-03-02T11:33:26.721212",
     "exception": false,
     "start_time": "2021-03-02T11:33:26.628610",
     "status": "completed"
    },
    "tags": []
   },
   "source": [
    "Ok, I see now that we don't need PassengerId. Just drop it."
   ]
  },
  {
   "cell_type": "code",
   "execution_count": 31,
   "metadata": {
    "execution": {
     "iopub.execute_input": "2021-03-02T11:33:26.925571Z",
     "iopub.status.busy": "2021-03-02T11:33:26.924861Z",
     "iopub.status.idle": "2021-03-02T11:33:26.929860Z",
     "shell.execute_reply": "2021-03-02T11:33:26.929291Z"
    },
    "papermill": {
     "duration": 0.115952,
     "end_time": "2021-03-02T11:33:26.930019",
     "exception": false,
     "start_time": "2021-03-02T11:33:26.814067",
     "status": "completed"
    },
    "tags": []
   },
   "outputs": [
    {
     "data": {
      "text/html": [
       "<div>\n",
       "<style scoped>\n",
       "    .dataframe tbody tr th:only-of-type {\n",
       "        vertical-align: middle;\n",
       "    }\n",
       "\n",
       "    .dataframe tbody tr th {\n",
       "        vertical-align: top;\n",
       "    }\n",
       "\n",
       "    .dataframe thead th {\n",
       "        text-align: right;\n",
       "    }\n",
       "</style>\n",
       "<table border=\"1\" class=\"dataframe\">\n",
       "  <thead>\n",
       "    <tr style=\"text-align: right;\">\n",
       "      <th></th>\n",
       "      <th>Survived</th>\n",
       "      <th>Pclass</th>\n",
       "      <th>Sex</th>\n",
       "      <th>SibSp</th>\n",
       "      <th>Parch</th>\n",
       "      <th>Fare</th>\n",
       "    </tr>\n",
       "  </thead>\n",
       "  <tbody>\n",
       "    <tr>\n",
       "      <th>0</th>\n",
       "      <td>0</td>\n",
       "      <td>3</td>\n",
       "      <td>0</td>\n",
       "      <td>1</td>\n",
       "      <td>0</td>\n",
       "      <td>7.2500</td>\n",
       "    </tr>\n",
       "    <tr>\n",
       "      <th>1</th>\n",
       "      <td>1</td>\n",
       "      <td>1</td>\n",
       "      <td>1</td>\n",
       "      <td>1</td>\n",
       "      <td>0</td>\n",
       "      <td>71.2833</td>\n",
       "    </tr>\n",
       "    <tr>\n",
       "      <th>2</th>\n",
       "      <td>1</td>\n",
       "      <td>3</td>\n",
       "      <td>1</td>\n",
       "      <td>0</td>\n",
       "      <td>0</td>\n",
       "      <td>7.9250</td>\n",
       "    </tr>\n",
       "    <tr>\n",
       "      <th>3</th>\n",
       "      <td>1</td>\n",
       "      <td>1</td>\n",
       "      <td>1</td>\n",
       "      <td>1</td>\n",
       "      <td>0</td>\n",
       "      <td>53.1000</td>\n",
       "    </tr>\n",
       "    <tr>\n",
       "      <th>4</th>\n",
       "      <td>0</td>\n",
       "      <td>3</td>\n",
       "      <td>0</td>\n",
       "      <td>0</td>\n",
       "      <td>0</td>\n",
       "      <td>8.0500</td>\n",
       "    </tr>\n",
       "    <tr>\n",
       "      <th>...</th>\n",
       "      <td>...</td>\n",
       "      <td>...</td>\n",
       "      <td>...</td>\n",
       "      <td>...</td>\n",
       "      <td>...</td>\n",
       "      <td>...</td>\n",
       "    </tr>\n",
       "    <tr>\n",
       "      <th>886</th>\n",
       "      <td>0</td>\n",
       "      <td>2</td>\n",
       "      <td>0</td>\n",
       "      <td>0</td>\n",
       "      <td>0</td>\n",
       "      <td>13.0000</td>\n",
       "    </tr>\n",
       "    <tr>\n",
       "      <th>887</th>\n",
       "      <td>1</td>\n",
       "      <td>1</td>\n",
       "      <td>1</td>\n",
       "      <td>0</td>\n",
       "      <td>0</td>\n",
       "      <td>30.0000</td>\n",
       "    </tr>\n",
       "    <tr>\n",
       "      <th>888</th>\n",
       "      <td>0</td>\n",
       "      <td>3</td>\n",
       "      <td>1</td>\n",
       "      <td>1</td>\n",
       "      <td>2</td>\n",
       "      <td>23.4500</td>\n",
       "    </tr>\n",
       "    <tr>\n",
       "      <th>889</th>\n",
       "      <td>1</td>\n",
       "      <td>1</td>\n",
       "      <td>0</td>\n",
       "      <td>0</td>\n",
       "      <td>0</td>\n",
       "      <td>30.0000</td>\n",
       "    </tr>\n",
       "    <tr>\n",
       "      <th>890</th>\n",
       "      <td>0</td>\n",
       "      <td>3</td>\n",
       "      <td>0</td>\n",
       "      <td>0</td>\n",
       "      <td>0</td>\n",
       "      <td>7.7500</td>\n",
       "    </tr>\n",
       "  </tbody>\n",
       "</table>\n",
       "<p>891 rows × 6 columns</p>\n",
       "</div>"
      ],
      "text/plain": [
       "     Survived  Pclass  Sex  SibSp  Parch     Fare\n",
       "0           0       3    0      1      0   7.2500\n",
       "1           1       1    1      1      0  71.2833\n",
       "2           1       3    1      0      0   7.9250\n",
       "3           1       1    1      1      0  53.1000\n",
       "4           0       3    0      0      0   8.0500\n",
       "..        ...     ...  ...    ...    ...      ...\n",
       "886         0       2    0      0      0  13.0000\n",
       "887         1       1    1      0      0  30.0000\n",
       "888         0       3    1      1      2  23.4500\n",
       "889         1       1    0      0      0  30.0000\n",
       "890         0       3    0      0      0   7.7500\n",
       "\n",
       "[891 rows x 6 columns]"
      ]
     },
     "execution_count": 31,
     "metadata": {},
     "output_type": "execute_result"
    }
   ],
   "source": [
    "df_train = df_train.drop(\"PassengerId\", 1)\n",
    "df_train"
   ]
  },
  {
   "cell_type": "markdown",
   "metadata": {
    "papermill": {
     "duration": 0.095984,
     "end_time": "2021-03-02T11:33:27.120365",
     "exception": false,
     "start_time": "2021-03-02T11:33:27.024381",
     "status": "completed"
    },
    "tags": []
   },
   "source": [
    "We have now 5 features columns and our label column Survived. All values are numerical, which is good. But we should check that numbers are nominal or ordinal.\n",
    "\n",
    "Generally, difference is that nominal values we can't compare. E.g. if we have category of cars, were 0 is red, and 1 is black, we can't say, that black is more than red. But we can say, that 2 liters engine capacity is more than 1.5 - that's ordinal value.\n",
    "\n",
    "In our case all values expected Fare are nominal."
   ]
  },
  {
   "cell_type": "markdown",
   "metadata": {
    "papermill": {
     "duration": 0.093468,
     "end_time": "2021-03-02T11:33:27.308590",
     "exception": false,
     "start_time": "2021-03-02T11:33:27.215122",
     "status": "completed"
    },
    "tags": []
   },
   "source": [
    "## Encoding"
   ]
  },
  {
   "cell_type": "markdown",
   "metadata": {
    "papermill": {
     "duration": 0.093908,
     "end_time": "2021-03-02T11:33:27.498626",
     "exception": false,
     "start_time": "2021-03-02T11:33:27.404718",
     "status": "completed"
    },
    "tags": []
   },
   "source": [
    "We should encode our ordinal to 0 and 1. Let's use OneHotEncoder."
   ]
  },
  {
   "cell_type": "code",
   "execution_count": 32,
   "metadata": {
    "execution": {
     "iopub.execute_input": "2021-03-02T11:33:27.696653Z",
     "iopub.status.busy": "2021-03-02T11:33:27.694701Z",
     "iopub.status.idle": "2021-03-02T11:33:27.746401Z",
     "shell.execute_reply": "2021-03-02T11:33:27.745737Z"
    },
    "papermill": {
     "duration": 0.153763,
     "end_time": "2021-03-02T11:33:27.746557",
     "exception": false,
     "start_time": "2021-03-02T11:33:27.592794",
     "status": "completed"
    },
    "tags": []
   },
   "outputs": [
    {
     "data": {
      "text/html": [
       "<div>\n",
       "<style scoped>\n",
       "    .dataframe tbody tr th:only-of-type {\n",
       "        vertical-align: middle;\n",
       "    }\n",
       "\n",
       "    .dataframe tbody tr th {\n",
       "        vertical-align: top;\n",
       "    }\n",
       "\n",
       "    .dataframe thead th {\n",
       "        text-align: right;\n",
       "    }\n",
       "</style>\n",
       "<table border=\"1\" class=\"dataframe\">\n",
       "  <thead>\n",
       "    <tr style=\"text-align: right;\">\n",
       "      <th></th>\n",
       "      <th>Survived</th>\n",
       "      <th>Sex</th>\n",
       "      <th>Fare</th>\n",
       "      <th>Pclass_1</th>\n",
       "      <th>Pclass_2</th>\n",
       "      <th>Pclass_3</th>\n",
       "      <th>SibSp_0</th>\n",
       "      <th>SibSp_1</th>\n",
       "      <th>SibSp_2</th>\n",
       "      <th>SibSp_3</th>\n",
       "      <th>SibSp_4</th>\n",
       "      <th>SibSp_5</th>\n",
       "      <th>SibSp_8</th>\n",
       "      <th>Parch_0</th>\n",
       "      <th>Parch_1</th>\n",
       "      <th>Parch_2</th>\n",
       "      <th>Parch_3</th>\n",
       "      <th>Parch_4</th>\n",
       "      <th>Parch_5</th>\n",
       "      <th>Parch_6</th>\n",
       "    </tr>\n",
       "  </thead>\n",
       "  <tbody>\n",
       "    <tr>\n",
       "      <th>0</th>\n",
       "      <td>0</td>\n",
       "      <td>0</td>\n",
       "      <td>7.2500</td>\n",
       "      <td>0.0</td>\n",
       "      <td>0.0</td>\n",
       "      <td>1.0</td>\n",
       "      <td>0.0</td>\n",
       "      <td>1.0</td>\n",
       "      <td>0.0</td>\n",
       "      <td>0.0</td>\n",
       "      <td>0.0</td>\n",
       "      <td>0.0</td>\n",
       "      <td>0.0</td>\n",
       "      <td>1.0</td>\n",
       "      <td>0.0</td>\n",
       "      <td>0.0</td>\n",
       "      <td>0.0</td>\n",
       "      <td>0.0</td>\n",
       "      <td>0.0</td>\n",
       "      <td>0.0</td>\n",
       "    </tr>\n",
       "    <tr>\n",
       "      <th>1</th>\n",
       "      <td>1</td>\n",
       "      <td>1</td>\n",
       "      <td>71.2833</td>\n",
       "      <td>1.0</td>\n",
       "      <td>0.0</td>\n",
       "      <td>0.0</td>\n",
       "      <td>0.0</td>\n",
       "      <td>1.0</td>\n",
       "      <td>0.0</td>\n",
       "      <td>0.0</td>\n",
       "      <td>0.0</td>\n",
       "      <td>0.0</td>\n",
       "      <td>0.0</td>\n",
       "      <td>1.0</td>\n",
       "      <td>0.0</td>\n",
       "      <td>0.0</td>\n",
       "      <td>0.0</td>\n",
       "      <td>0.0</td>\n",
       "      <td>0.0</td>\n",
       "      <td>0.0</td>\n",
       "    </tr>\n",
       "    <tr>\n",
       "      <th>2</th>\n",
       "      <td>1</td>\n",
       "      <td>1</td>\n",
       "      <td>7.9250</td>\n",
       "      <td>0.0</td>\n",
       "      <td>0.0</td>\n",
       "      <td>1.0</td>\n",
       "      <td>1.0</td>\n",
       "      <td>0.0</td>\n",
       "      <td>0.0</td>\n",
       "      <td>0.0</td>\n",
       "      <td>0.0</td>\n",
       "      <td>0.0</td>\n",
       "      <td>0.0</td>\n",
       "      <td>1.0</td>\n",
       "      <td>0.0</td>\n",
       "      <td>0.0</td>\n",
       "      <td>0.0</td>\n",
       "      <td>0.0</td>\n",
       "      <td>0.0</td>\n",
       "      <td>0.0</td>\n",
       "    </tr>\n",
       "    <tr>\n",
       "      <th>3</th>\n",
       "      <td>1</td>\n",
       "      <td>1</td>\n",
       "      <td>53.1000</td>\n",
       "      <td>1.0</td>\n",
       "      <td>0.0</td>\n",
       "      <td>0.0</td>\n",
       "      <td>0.0</td>\n",
       "      <td>1.0</td>\n",
       "      <td>0.0</td>\n",
       "      <td>0.0</td>\n",
       "      <td>0.0</td>\n",
       "      <td>0.0</td>\n",
       "      <td>0.0</td>\n",
       "      <td>1.0</td>\n",
       "      <td>0.0</td>\n",
       "      <td>0.0</td>\n",
       "      <td>0.0</td>\n",
       "      <td>0.0</td>\n",
       "      <td>0.0</td>\n",
       "      <td>0.0</td>\n",
       "    </tr>\n",
       "    <tr>\n",
       "      <th>4</th>\n",
       "      <td>0</td>\n",
       "      <td>0</td>\n",
       "      <td>8.0500</td>\n",
       "      <td>0.0</td>\n",
       "      <td>0.0</td>\n",
       "      <td>1.0</td>\n",
       "      <td>1.0</td>\n",
       "      <td>0.0</td>\n",
       "      <td>0.0</td>\n",
       "      <td>0.0</td>\n",
       "      <td>0.0</td>\n",
       "      <td>0.0</td>\n",
       "      <td>0.0</td>\n",
       "      <td>1.0</td>\n",
       "      <td>0.0</td>\n",
       "      <td>0.0</td>\n",
       "      <td>0.0</td>\n",
       "      <td>0.0</td>\n",
       "      <td>0.0</td>\n",
       "      <td>0.0</td>\n",
       "    </tr>\n",
       "    <tr>\n",
       "      <th>...</th>\n",
       "      <td>...</td>\n",
       "      <td>...</td>\n",
       "      <td>...</td>\n",
       "      <td>...</td>\n",
       "      <td>...</td>\n",
       "      <td>...</td>\n",
       "      <td>...</td>\n",
       "      <td>...</td>\n",
       "      <td>...</td>\n",
       "      <td>...</td>\n",
       "      <td>...</td>\n",
       "      <td>...</td>\n",
       "      <td>...</td>\n",
       "      <td>...</td>\n",
       "      <td>...</td>\n",
       "      <td>...</td>\n",
       "      <td>...</td>\n",
       "      <td>...</td>\n",
       "      <td>...</td>\n",
       "      <td>...</td>\n",
       "    </tr>\n",
       "    <tr>\n",
       "      <th>886</th>\n",
       "      <td>0</td>\n",
       "      <td>0</td>\n",
       "      <td>13.0000</td>\n",
       "      <td>0.0</td>\n",
       "      <td>1.0</td>\n",
       "      <td>0.0</td>\n",
       "      <td>1.0</td>\n",
       "      <td>0.0</td>\n",
       "      <td>0.0</td>\n",
       "      <td>0.0</td>\n",
       "      <td>0.0</td>\n",
       "      <td>0.0</td>\n",
       "      <td>0.0</td>\n",
       "      <td>1.0</td>\n",
       "      <td>0.0</td>\n",
       "      <td>0.0</td>\n",
       "      <td>0.0</td>\n",
       "      <td>0.0</td>\n",
       "      <td>0.0</td>\n",
       "      <td>0.0</td>\n",
       "    </tr>\n",
       "    <tr>\n",
       "      <th>887</th>\n",
       "      <td>1</td>\n",
       "      <td>1</td>\n",
       "      <td>30.0000</td>\n",
       "      <td>1.0</td>\n",
       "      <td>0.0</td>\n",
       "      <td>0.0</td>\n",
       "      <td>1.0</td>\n",
       "      <td>0.0</td>\n",
       "      <td>0.0</td>\n",
       "      <td>0.0</td>\n",
       "      <td>0.0</td>\n",
       "      <td>0.0</td>\n",
       "      <td>0.0</td>\n",
       "      <td>1.0</td>\n",
       "      <td>0.0</td>\n",
       "      <td>0.0</td>\n",
       "      <td>0.0</td>\n",
       "      <td>0.0</td>\n",
       "      <td>0.0</td>\n",
       "      <td>0.0</td>\n",
       "    </tr>\n",
       "    <tr>\n",
       "      <th>888</th>\n",
       "      <td>0</td>\n",
       "      <td>1</td>\n",
       "      <td>23.4500</td>\n",
       "      <td>0.0</td>\n",
       "      <td>0.0</td>\n",
       "      <td>1.0</td>\n",
       "      <td>0.0</td>\n",
       "      <td>1.0</td>\n",
       "      <td>0.0</td>\n",
       "      <td>0.0</td>\n",
       "      <td>0.0</td>\n",
       "      <td>0.0</td>\n",
       "      <td>0.0</td>\n",
       "      <td>0.0</td>\n",
       "      <td>0.0</td>\n",
       "      <td>1.0</td>\n",
       "      <td>0.0</td>\n",
       "      <td>0.0</td>\n",
       "      <td>0.0</td>\n",
       "      <td>0.0</td>\n",
       "    </tr>\n",
       "    <tr>\n",
       "      <th>889</th>\n",
       "      <td>1</td>\n",
       "      <td>0</td>\n",
       "      <td>30.0000</td>\n",
       "      <td>1.0</td>\n",
       "      <td>0.0</td>\n",
       "      <td>0.0</td>\n",
       "      <td>1.0</td>\n",
       "      <td>0.0</td>\n",
       "      <td>0.0</td>\n",
       "      <td>0.0</td>\n",
       "      <td>0.0</td>\n",
       "      <td>0.0</td>\n",
       "      <td>0.0</td>\n",
       "      <td>1.0</td>\n",
       "      <td>0.0</td>\n",
       "      <td>0.0</td>\n",
       "      <td>0.0</td>\n",
       "      <td>0.0</td>\n",
       "      <td>0.0</td>\n",
       "      <td>0.0</td>\n",
       "    </tr>\n",
       "    <tr>\n",
       "      <th>890</th>\n",
       "      <td>0</td>\n",
       "      <td>0</td>\n",
       "      <td>7.7500</td>\n",
       "      <td>0.0</td>\n",
       "      <td>0.0</td>\n",
       "      <td>1.0</td>\n",
       "      <td>1.0</td>\n",
       "      <td>0.0</td>\n",
       "      <td>0.0</td>\n",
       "      <td>0.0</td>\n",
       "      <td>0.0</td>\n",
       "      <td>0.0</td>\n",
       "      <td>0.0</td>\n",
       "      <td>1.0</td>\n",
       "      <td>0.0</td>\n",
       "      <td>0.0</td>\n",
       "      <td>0.0</td>\n",
       "      <td>0.0</td>\n",
       "      <td>0.0</td>\n",
       "      <td>0.0</td>\n",
       "    </tr>\n",
       "  </tbody>\n",
       "</table>\n",
       "<p>891 rows × 20 columns</p>\n",
       "</div>"
      ],
      "text/plain": [
       "     Survived  Sex     Fare  Pclass_1  Pclass_2  Pclass_3  SibSp_0  SibSp_1  \\\n",
       "0           0    0   7.2500       0.0       0.0       1.0      0.0      1.0   \n",
       "1           1    1  71.2833       1.0       0.0       0.0      0.0      1.0   \n",
       "2           1    1   7.9250       0.0       0.0       1.0      1.0      0.0   \n",
       "3           1    1  53.1000       1.0       0.0       0.0      0.0      1.0   \n",
       "4           0    0   8.0500       0.0       0.0       1.0      1.0      0.0   \n",
       "..        ...  ...      ...       ...       ...       ...      ...      ...   \n",
       "886         0    0  13.0000       0.0       1.0       0.0      1.0      0.0   \n",
       "887         1    1  30.0000       1.0       0.0       0.0      1.0      0.0   \n",
       "888         0    1  23.4500       0.0       0.0       1.0      0.0      1.0   \n",
       "889         1    0  30.0000       1.0       0.0       0.0      1.0      0.0   \n",
       "890         0    0   7.7500       0.0       0.0       1.0      1.0      0.0   \n",
       "\n",
       "     SibSp_2  SibSp_3  SibSp_4  SibSp_5  SibSp_8  Parch_0  Parch_1  Parch_2  \\\n",
       "0        0.0      0.0      0.0      0.0      0.0      1.0      0.0      0.0   \n",
       "1        0.0      0.0      0.0      0.0      0.0      1.0      0.0      0.0   \n",
       "2        0.0      0.0      0.0      0.0      0.0      1.0      0.0      0.0   \n",
       "3        0.0      0.0      0.0      0.0      0.0      1.0      0.0      0.0   \n",
       "4        0.0      0.0      0.0      0.0      0.0      1.0      0.0      0.0   \n",
       "..       ...      ...      ...      ...      ...      ...      ...      ...   \n",
       "886      0.0      0.0      0.0      0.0      0.0      1.0      0.0      0.0   \n",
       "887      0.0      0.0      0.0      0.0      0.0      1.0      0.0      0.0   \n",
       "888      0.0      0.0      0.0      0.0      0.0      0.0      0.0      1.0   \n",
       "889      0.0      0.0      0.0      0.0      0.0      1.0      0.0      0.0   \n",
       "890      0.0      0.0      0.0      0.0      0.0      1.0      0.0      0.0   \n",
       "\n",
       "     Parch_3  Parch_4  Parch_5  Parch_6  \n",
       "0        0.0      0.0      0.0      0.0  \n",
       "1        0.0      0.0      0.0      0.0  \n",
       "2        0.0      0.0      0.0      0.0  \n",
       "3        0.0      0.0      0.0      0.0  \n",
       "4        0.0      0.0      0.0      0.0  \n",
       "..       ...      ...      ...      ...  \n",
       "886      0.0      0.0      0.0      0.0  \n",
       "887      0.0      0.0      0.0      0.0  \n",
       "888      0.0      0.0      0.0      0.0  \n",
       "889      0.0      0.0      0.0      0.0  \n",
       "890      0.0      0.0      0.0      0.0  \n",
       "\n",
       "[891 rows x 20 columns]"
      ]
     },
     "execution_count": 32,
     "metadata": {},
     "output_type": "execute_result"
    }
   ],
   "source": [
    "one_hot_cols = [\"Pclass\", \"SibSp\", \"Parch\"]\n",
    "enc = OneHotEncoder(handle_unknown='ignore', sparse=False)\n",
    "OH_cols = pd.DataFrame(enc.fit_transform(df_train[one_hot_cols]))\n",
    "OH_cols.columns = enc.get_feature_names(one_hot_cols)\n",
    "\n",
    "df_train_enc = df_train.drop(one_hot_cols, 1)\n",
    "df_train_enc = pd.concat([df_train_enc, OH_cols], 1)\n",
    "df_train_enc"
   ]
  },
  {
   "cell_type": "markdown",
   "metadata": {
    "papermill": {
     "duration": 0.093949,
     "end_time": "2021-03-02T11:33:27.944362",
     "exception": false,
     "start_time": "2021-03-02T11:33:27.850413",
     "status": "completed"
    },
    "tags": []
   },
   "source": [
    "# Bulding models"
   ]
  },
  {
   "cell_type": "markdown",
   "metadata": {
    "papermill": {
     "duration": 0.140629,
     "end_time": "2021-03-02T11:33:28.179385",
     "exception": false,
     "start_time": "2021-03-02T11:33:28.038756",
     "status": "completed"
    },
    "tags": []
   },
   "source": [
    "Now we're ready to start building our machine learning models! Number of samples is low, so we can check many models with different algorithms.\n",
    "\n",
    "But first we have to separate our label and features. "
   ]
  },
  {
   "cell_type": "code",
   "execution_count": 33,
   "metadata": {
    "execution": {
     "iopub.execute_input": "2021-03-02T11:33:28.377246Z",
     "iopub.status.busy": "2021-03-02T11:33:28.375730Z",
     "iopub.status.idle": "2021-03-02T11:33:28.380521Z",
     "shell.execute_reply": "2021-03-02T11:33:28.380009Z"
    },
    "papermill": {
     "duration": 0.106069,
     "end_time": "2021-03-02T11:33:28.380663",
     "exception": false,
     "start_time": "2021-03-02T11:33:28.274594",
     "status": "completed"
    },
    "tags": []
   },
   "outputs": [],
   "source": [
    "X_train = df_train_enc.drop(\"Survived\", 1)\n",
    "y_train = df_train_enc[\"Survived\"]"
   ]
  },
  {
   "cell_type": "code",
   "execution_count": 34,
   "metadata": {
    "execution": {
     "iopub.execute_input": "2021-03-02T11:33:28.577040Z",
     "iopub.status.busy": "2021-03-02T11:33:28.576296Z",
     "iopub.status.idle": "2021-03-02T11:33:28.580296Z",
     "shell.execute_reply": "2021-03-02T11:33:28.579720Z"
    },
    "papermill": {
     "duration": 0.104364,
     "end_time": "2021-03-02T11:33:28.580450",
     "exception": false,
     "start_time": "2021-03-02T11:33:28.476086",
     "status": "completed"
    },
    "tags": []
   },
   "outputs": [
    {
     "name": "stdout",
     "output_type": "stream",
     "text": [
      "(891, 19)\n",
      "(891,)\n"
     ]
    }
   ],
   "source": [
    "print(X_train.shape)\n",
    "print(y_train.shape)"
   ]
  },
  {
   "cell_type": "markdown",
   "metadata": {
    "papermill": {
     "duration": 0.095361,
     "end_time": "2021-03-02T11:33:28.771481",
     "exception": false,
     "start_time": "2021-03-02T11:33:28.676120",
     "status": "completed"
    },
    "tags": []
   },
   "source": [
    "To prevent re-typing very similar code let's create function for testing algorithms. It's also help if we would like to expand our job with algorithms."
   ]
  },
  {
   "cell_type": "code",
   "execution_count": 35,
   "metadata": {
    "execution": {
     "iopub.execute_input": "2021-03-02T11:33:29.005305Z",
     "iopub.status.busy": "2021-03-02T11:33:29.004393Z",
     "iopub.status.idle": "2021-03-02T11:33:29.007326Z",
     "shell.execute_reply": "2021-03-02T11:33:29.006753Z"
    },
    "papermill": {
     "duration": 0.130121,
     "end_time": "2021-03-02T11:33:29.007480",
     "exception": false,
     "start_time": "2021-03-02T11:33:28.877359",
     "status": "completed"
    },
    "tags": []
   },
   "outputs": [],
   "source": [
    "def test_algorithm(model):\n",
    "    scores = cross_val_score(model, X_train, y_train, cv=5)\n",
    "    print(\"%0.2f accuracy with a standard deviation of %0.2f\" % (scores.mean(), scores.std()))\n",
    "    return scores.mean()\n",
    "\n",
    "acc_scores = {}"
   ]
  },
  {
   "cell_type": "markdown",
   "metadata": {
    "papermill": {
     "duration": 0.095372,
     "end_time": "2021-03-02T11:33:29.198490",
     "exception": false,
     "start_time": "2021-03-02T11:33:29.103118",
     "status": "completed"
    },
    "tags": []
   },
   "source": [
    "Logistic Regression"
   ]
  },
  {
   "cell_type": "code",
   "execution_count": 36,
   "metadata": {
    "execution": {
     "iopub.execute_input": "2021-03-02T11:33:29.396493Z",
     "iopub.status.busy": "2021-03-02T11:33:29.395828Z",
     "iopub.status.idle": "2021-03-02T11:33:29.728848Z",
     "shell.execute_reply": "2021-03-02T11:33:29.730473Z"
    },
    "papermill": {
     "duration": 0.436484,
     "end_time": "2021-03-02T11:33:29.730793",
     "exception": false,
     "start_time": "2021-03-02T11:33:29.294309",
     "status": "completed"
    },
    "tags": []
   },
   "outputs": [
    {
     "name": "stdout",
     "output_type": "stream",
     "text": [
      "0.79 accuracy with a standard deviation of 0.01\n"
     ]
    }
   ],
   "source": [
    "logreg = LogisticRegression()\n",
    "logreg_acc = test_algorithm(logreg)\n",
    "acc_scores[\"Logistic Regression\"] = logreg_acc"
   ]
  },
  {
   "cell_type": "markdown",
   "metadata": {
    "papermill": {
     "duration": 0.096194,
     "end_time": "2021-03-02T11:33:29.977303",
     "exception": false,
     "start_time": "2021-03-02T11:33:29.881109",
     "status": "completed"
    },
    "tags": []
   },
   "source": [
    "K-Nearest Neighbours"
   ]
  },
  {
   "cell_type": "code",
   "execution_count": 37,
   "metadata": {
    "execution": {
     "iopub.execute_input": "2021-03-02T11:33:30.178116Z",
     "iopub.status.busy": "2021-03-02T11:33:30.177388Z",
     "iopub.status.idle": "2021-03-02T11:33:30.268995Z",
     "shell.execute_reply": "2021-03-02T11:33:30.268367Z"
    },
    "papermill": {
     "duration": 0.195058,
     "end_time": "2021-03-02T11:33:30.269154",
     "exception": false,
     "start_time": "2021-03-02T11:33:30.074096",
     "status": "completed"
    },
    "tags": []
   },
   "outputs": [
    {
     "name": "stdout",
     "output_type": "stream",
     "text": [
      "0.76 accuracy with a standard deviation of 0.04\n"
     ]
    }
   ],
   "source": [
    "knn = KNeighborsClassifier()\n",
    "knn_acc = test_algorithm(knn)\n",
    "acc_scores[\"KNN\"] = knn_acc"
   ]
  },
  {
   "cell_type": "markdown",
   "metadata": {
    "papermill": {
     "duration": 0.095957,
     "end_time": "2021-03-02T11:33:30.462475",
     "exception": false,
     "start_time": "2021-03-02T11:33:30.366518",
     "status": "completed"
    },
    "tags": []
   },
   "source": [
    "Gaussian Naive Bayes"
   ]
  },
  {
   "cell_type": "code",
   "execution_count": 38,
   "metadata": {
    "execution": {
     "iopub.execute_input": "2021-03-02T11:33:30.662530Z",
     "iopub.status.busy": "2021-03-02T11:33:30.661521Z",
     "iopub.status.idle": "2021-03-02T11:33:30.700468Z",
     "shell.execute_reply": "2021-03-02T11:33:30.699906Z"
    },
    "papermill": {
     "duration": 0.140873,
     "end_time": "2021-03-02T11:33:30.700617",
     "exception": false,
     "start_time": "2021-03-02T11:33:30.559744",
     "status": "completed"
    },
    "tags": []
   },
   "outputs": [
    {
     "name": "stdout",
     "output_type": "stream",
     "text": [
      "0.42 accuracy with a standard deviation of 0.01\n"
     ]
    }
   ],
   "source": [
    "gnb = GaussianNB()\n",
    "gnb_acc = test_algorithm(gnb)\n",
    "acc_scores[\"Gaussian Naive Bayes\"] = gnb_acc"
   ]
  },
  {
   "cell_type": "markdown",
   "metadata": {
    "papermill": {
     "duration": 0.098083,
     "end_time": "2021-03-02T11:33:30.895435",
     "exception": false,
     "start_time": "2021-03-02T11:33:30.797352",
     "status": "completed"
    },
    "tags": []
   },
   "source": [
    "Linear Support Vector Machines"
   ]
  },
  {
   "cell_type": "code",
   "execution_count": 39,
   "metadata": {
    "execution": {
     "iopub.execute_input": "2021-03-02T11:33:31.095651Z",
     "iopub.status.busy": "2021-03-02T11:33:31.094870Z",
     "iopub.status.idle": "2021-03-02T11:33:31.272184Z",
     "shell.execute_reply": "2021-03-02T11:33:31.271636Z"
    },
    "papermill": {
     "duration": 0.279733,
     "end_time": "2021-03-02T11:33:31.272333",
     "exception": false,
     "start_time": "2021-03-02T11:33:30.992600",
     "status": "completed"
    },
    "tags": []
   },
   "outputs": [
    {
     "name": "stdout",
     "output_type": "stream",
     "text": [
      "0.76 accuracy with a standard deviation of 0.05\n"
     ]
    }
   ],
   "source": [
    "svc = LinearSVC()\n",
    "svc_acc = test_algorithm(svc)\n",
    "acc_scores[\"SVC\"] = svc_acc"
   ]
  },
  {
   "cell_type": "markdown",
   "metadata": {
    "papermill": {
     "duration": 0.097427,
     "end_time": "2021-03-02T11:33:31.467248",
     "exception": false,
     "start_time": "2021-03-02T11:33:31.369821",
     "status": "completed"
    },
    "tags": []
   },
   "source": [
    "Stochastic Gradient Descent"
   ]
  },
  {
   "cell_type": "code",
   "execution_count": 40,
   "metadata": {
    "execution": {
     "iopub.execute_input": "2021-03-02T11:33:31.670058Z",
     "iopub.status.busy": "2021-03-02T11:33:31.669330Z",
     "iopub.status.idle": "2021-03-02T11:33:31.719888Z",
     "shell.execute_reply": "2021-03-02T11:33:31.720406Z"
    },
    "papermill": {
     "duration": 0.155005,
     "end_time": "2021-03-02T11:33:31.720595",
     "exception": false,
     "start_time": "2021-03-02T11:33:31.565590",
     "status": "completed"
    },
    "tags": []
   },
   "outputs": [
    {
     "name": "stdout",
     "output_type": "stream",
     "text": [
      "0.67 accuracy with a standard deviation of 0.06\n"
     ]
    }
   ],
   "source": [
    "sgd = SGDClassifier()\n",
    "sgd_acc = test_algorithm(sgd)\n",
    "acc_scores[\"Stochastic Gradient Descent\"] = sgd_acc"
   ]
  },
  {
   "cell_type": "markdown",
   "metadata": {
    "papermill": {
     "duration": 0.099036,
     "end_time": "2021-03-02T11:33:31.919098",
     "exception": false,
     "start_time": "2021-03-02T11:33:31.820062",
     "status": "completed"
    },
    "tags": []
   },
   "source": [
    "Decision Tree Classifier"
   ]
  },
  {
   "cell_type": "code",
   "execution_count": 41,
   "metadata": {
    "execution": {
     "iopub.execute_input": "2021-03-02T11:33:32.123499Z",
     "iopub.status.busy": "2021-03-02T11:33:32.122448Z",
     "iopub.status.idle": "2021-03-02T11:33:32.166588Z",
     "shell.execute_reply": "2021-03-02T11:33:32.167145Z"
    },
    "papermill": {
     "duration": 0.149446,
     "end_time": "2021-03-02T11:33:32.167336",
     "exception": false,
     "start_time": "2021-03-02T11:33:32.017890",
     "status": "completed"
    },
    "tags": []
   },
   "outputs": [
    {
     "name": "stdout",
     "output_type": "stream",
     "text": [
      "0.80 accuracy with a standard deviation of 0.03\n"
     ]
    }
   ],
   "source": [
    "decision_tree = DecisionTreeClassifier()\n",
    "decision_tree_acc = test_algorithm(decision_tree)\n",
    "acc_scores[\"Decision Tree\"] = decision_tree_acc"
   ]
  },
  {
   "cell_type": "markdown",
   "metadata": {
    "papermill": {
     "duration": 0.099115,
     "end_time": "2021-03-02T11:33:32.364170",
     "exception": false,
     "start_time": "2021-03-02T11:33:32.265055",
     "status": "completed"
    },
    "tags": []
   },
   "source": [
    "Gradient Boost Trees"
   ]
  },
  {
   "cell_type": "code",
   "execution_count": 42,
   "metadata": {
    "execution": {
     "iopub.execute_input": "2021-03-02T11:33:32.575853Z",
     "iopub.status.busy": "2021-03-02T11:33:32.574850Z",
     "iopub.status.idle": "2021-03-02T11:33:33.205888Z",
     "shell.execute_reply": "2021-03-02T11:33:33.206469Z"
    },
    "papermill": {
     "duration": 0.7388,
     "end_time": "2021-03-02T11:33:33.206654",
     "exception": false,
     "start_time": "2021-03-02T11:33:32.467854",
     "status": "completed"
    },
    "tags": []
   },
   "outputs": [
    {
     "name": "stdout",
     "output_type": "stream",
     "text": [
      "0.80 accuracy with a standard deviation of 0.03\n"
     ]
    }
   ],
   "source": [
    "gbc = GradientBoostingClassifier()\n",
    "gbc_acc = test_algorithm(gbc)\n",
    "acc_scores[\"Gradient Boosting\"] = gbc_acc"
   ]
  },
  {
   "cell_type": "markdown",
   "metadata": {
    "papermill": {
     "duration": 0.100947,
     "end_time": "2021-03-02T11:33:33.409201",
     "exception": false,
     "start_time": "2021-03-02T11:33:33.308254",
     "status": "completed"
    },
    "tags": []
   },
   "source": [
    "We saved all scores to acc_scores dictiorany. Check which model have best accuracy. "
   ]
  },
  {
   "cell_type": "code",
   "execution_count": 43,
   "metadata": {
    "execution": {
     "iopub.execute_input": "2021-03-02T11:33:33.619352Z",
     "iopub.status.busy": "2021-03-02T11:33:33.618625Z",
     "iopub.status.idle": "2021-03-02T11:33:33.630651Z",
     "shell.execute_reply": "2021-03-02T11:33:33.631184Z"
    },
    "papermill": {
     "duration": 0.121696,
     "end_time": "2021-03-02T11:33:33.631371",
     "exception": false,
     "start_time": "2021-03-02T11:33:33.509675",
     "status": "completed"
    },
    "tags": []
   },
   "outputs": [
    {
     "data": {
      "text/html": [
       "<div>\n",
       "<style scoped>\n",
       "    .dataframe tbody tr th:only-of-type {\n",
       "        vertical-align: middle;\n",
       "    }\n",
       "\n",
       "    .dataframe tbody tr th {\n",
       "        vertical-align: top;\n",
       "    }\n",
       "\n",
       "    .dataframe thead th {\n",
       "        text-align: right;\n",
       "    }\n",
       "</style>\n",
       "<table border=\"1\" class=\"dataframe\">\n",
       "  <thead>\n",
       "    <tr style=\"text-align: right;\">\n",
       "      <th></th>\n",
       "      <th>Score</th>\n",
       "    </tr>\n",
       "  </thead>\n",
       "  <tbody>\n",
       "    <tr>\n",
       "      <th>Gradient Boosting</th>\n",
       "      <td>0.802536</td>\n",
       "    </tr>\n",
       "    <tr>\n",
       "      <th>Decision Tree</th>\n",
       "      <td>0.798023</td>\n",
       "    </tr>\n",
       "    <tr>\n",
       "      <th>Logistic Regression</th>\n",
       "      <td>0.791250</td>\n",
       "    </tr>\n",
       "    <tr>\n",
       "      <th>SVC</th>\n",
       "      <td>0.764415</td>\n",
       "    </tr>\n",
       "    <tr>\n",
       "      <th>KNN</th>\n",
       "      <td>0.761001</td>\n",
       "    </tr>\n",
       "    <tr>\n",
       "      <th>Stochastic Gradient Descent</th>\n",
       "      <td>0.672243</td>\n",
       "    </tr>\n",
       "    <tr>\n",
       "      <th>Gaussian Naive Bayes</th>\n",
       "      <td>0.423106</td>\n",
       "    </tr>\n",
       "  </tbody>\n",
       "</table>\n",
       "</div>"
      ],
      "text/plain": [
       "                                Score\n",
       "Gradient Boosting            0.802536\n",
       "Decision Tree                0.798023\n",
       "Logistic Regression          0.791250\n",
       "SVC                          0.764415\n",
       "KNN                          0.761001\n",
       "Stochastic Gradient Descent  0.672243\n",
       "Gaussian Naive Bayes         0.423106"
      ]
     },
     "execution_count": 43,
     "metadata": {},
     "output_type": "execute_result"
    }
   ],
   "source": [
    "acc_scores_df = pd.DataFrame(acc_scores.values(), index=acc_scores.keys())\n",
    "acc_scores_df.columns = [\"Score\"]\n",
    "acc_scores_df.sort_values(by=\"Score\", ascending=False)"
   ]
  },
  {
   "cell_type": "markdown",
   "metadata": {
    "papermill": {
     "duration": 0.098889,
     "end_time": "2021-03-02T11:33:33.830957",
     "exception": false,
     "start_time": "2021-03-02T11:33:33.732068",
     "status": "completed"
    },
    "tags": []
   },
   "source": [
    "# Sumbission"
   ]
  },
  {
   "cell_type": "markdown",
   "metadata": {
    "papermill": {
     "duration": 0.100016,
     "end_time": "2021-03-02T11:33:34.032743",
     "exception": false,
     "start_time": "2021-03-02T11:33:33.932727",
     "status": "completed"
    },
    "tags": []
   },
   "source": [
    "Now we only need to make our submission.\n",
    "\n",
    "This time we reproduce our code that edit our test dataframe, but in next steps we'll create pipelines, which allows us to avoid re-typing."
   ]
  },
  {
   "cell_type": "code",
   "execution_count": 44,
   "metadata": {
    "execution": {
     "iopub.execute_input": "2021-03-02T11:33:34.241767Z",
     "iopub.status.busy": "2021-03-02T11:33:34.241106Z",
     "iopub.status.idle": "2021-03-02T11:33:34.298160Z",
     "shell.execute_reply": "2021-03-02T11:33:34.298710Z"
    },
    "papermill": {
     "duration": 0.16039,
     "end_time": "2021-03-02T11:33:34.298885",
     "exception": false,
     "start_time": "2021-03-02T11:33:34.138495",
     "status": "completed"
    },
    "tags": []
   },
   "outputs": [
    {
     "data": {
      "text/html": [
       "<div>\n",
       "<style scoped>\n",
       "    .dataframe tbody tr th:only-of-type {\n",
       "        vertical-align: middle;\n",
       "    }\n",
       "\n",
       "    .dataframe tbody tr th {\n",
       "        vertical-align: top;\n",
       "    }\n",
       "\n",
       "    .dataframe thead th {\n",
       "        text-align: right;\n",
       "    }\n",
       "</style>\n",
       "<table border=\"1\" class=\"dataframe\">\n",
       "  <thead>\n",
       "    <tr style=\"text-align: right;\">\n",
       "      <th></th>\n",
       "      <th>PassengerId</th>\n",
       "      <th>Sex</th>\n",
       "      <th>Fare</th>\n",
       "      <th>Pclass_1</th>\n",
       "      <th>Pclass_2</th>\n",
       "      <th>Pclass_3</th>\n",
       "      <th>SibSp_0</th>\n",
       "      <th>SibSp_1</th>\n",
       "      <th>SibSp_2</th>\n",
       "      <th>SibSp_3</th>\n",
       "      <th>SibSp_4</th>\n",
       "      <th>SibSp_5</th>\n",
       "      <th>SibSp_8</th>\n",
       "      <th>Parch_0</th>\n",
       "      <th>Parch_1</th>\n",
       "      <th>Parch_2</th>\n",
       "      <th>Parch_3</th>\n",
       "      <th>Parch_4</th>\n",
       "      <th>Parch_5</th>\n",
       "      <th>Parch_6</th>\n",
       "    </tr>\n",
       "  </thead>\n",
       "  <tbody>\n",
       "    <tr>\n",
       "      <th>0</th>\n",
       "      <td>892</td>\n",
       "      <td>0</td>\n",
       "      <td>7.8292</td>\n",
       "      <td>0.0</td>\n",
       "      <td>0.0</td>\n",
       "      <td>1.0</td>\n",
       "      <td>1.0</td>\n",
       "      <td>0.0</td>\n",
       "      <td>0.0</td>\n",
       "      <td>0.0</td>\n",
       "      <td>0.0</td>\n",
       "      <td>0.0</td>\n",
       "      <td>0.0</td>\n",
       "      <td>1.0</td>\n",
       "      <td>0.0</td>\n",
       "      <td>0.0</td>\n",
       "      <td>0.0</td>\n",
       "      <td>0.0</td>\n",
       "      <td>0.0</td>\n",
       "      <td>0.0</td>\n",
       "    </tr>\n",
       "    <tr>\n",
       "      <th>1</th>\n",
       "      <td>893</td>\n",
       "      <td>1</td>\n",
       "      <td>7.0000</td>\n",
       "      <td>0.0</td>\n",
       "      <td>0.0</td>\n",
       "      <td>1.0</td>\n",
       "      <td>0.0</td>\n",
       "      <td>1.0</td>\n",
       "      <td>0.0</td>\n",
       "      <td>0.0</td>\n",
       "      <td>0.0</td>\n",
       "      <td>0.0</td>\n",
       "      <td>0.0</td>\n",
       "      <td>1.0</td>\n",
       "      <td>0.0</td>\n",
       "      <td>0.0</td>\n",
       "      <td>0.0</td>\n",
       "      <td>0.0</td>\n",
       "      <td>0.0</td>\n",
       "      <td>0.0</td>\n",
       "    </tr>\n",
       "    <tr>\n",
       "      <th>2</th>\n",
       "      <td>894</td>\n",
       "      <td>0</td>\n",
       "      <td>9.6875</td>\n",
       "      <td>0.0</td>\n",
       "      <td>1.0</td>\n",
       "      <td>0.0</td>\n",
       "      <td>1.0</td>\n",
       "      <td>0.0</td>\n",
       "      <td>0.0</td>\n",
       "      <td>0.0</td>\n",
       "      <td>0.0</td>\n",
       "      <td>0.0</td>\n",
       "      <td>0.0</td>\n",
       "      <td>1.0</td>\n",
       "      <td>0.0</td>\n",
       "      <td>0.0</td>\n",
       "      <td>0.0</td>\n",
       "      <td>0.0</td>\n",
       "      <td>0.0</td>\n",
       "      <td>0.0</td>\n",
       "    </tr>\n",
       "    <tr>\n",
       "      <th>3</th>\n",
       "      <td>895</td>\n",
       "      <td>0</td>\n",
       "      <td>8.6625</td>\n",
       "      <td>0.0</td>\n",
       "      <td>0.0</td>\n",
       "      <td>1.0</td>\n",
       "      <td>1.0</td>\n",
       "      <td>0.0</td>\n",
       "      <td>0.0</td>\n",
       "      <td>0.0</td>\n",
       "      <td>0.0</td>\n",
       "      <td>0.0</td>\n",
       "      <td>0.0</td>\n",
       "      <td>1.0</td>\n",
       "      <td>0.0</td>\n",
       "      <td>0.0</td>\n",
       "      <td>0.0</td>\n",
       "      <td>0.0</td>\n",
       "      <td>0.0</td>\n",
       "      <td>0.0</td>\n",
       "    </tr>\n",
       "    <tr>\n",
       "      <th>4</th>\n",
       "      <td>896</td>\n",
       "      <td>1</td>\n",
       "      <td>12.2875</td>\n",
       "      <td>0.0</td>\n",
       "      <td>0.0</td>\n",
       "      <td>1.0</td>\n",
       "      <td>0.0</td>\n",
       "      <td>1.0</td>\n",
       "      <td>0.0</td>\n",
       "      <td>0.0</td>\n",
       "      <td>0.0</td>\n",
       "      <td>0.0</td>\n",
       "      <td>0.0</td>\n",
       "      <td>0.0</td>\n",
       "      <td>1.0</td>\n",
       "      <td>0.0</td>\n",
       "      <td>0.0</td>\n",
       "      <td>0.0</td>\n",
       "      <td>0.0</td>\n",
       "      <td>0.0</td>\n",
       "    </tr>\n",
       "    <tr>\n",
       "      <th>...</th>\n",
       "      <td>...</td>\n",
       "      <td>...</td>\n",
       "      <td>...</td>\n",
       "      <td>...</td>\n",
       "      <td>...</td>\n",
       "      <td>...</td>\n",
       "      <td>...</td>\n",
       "      <td>...</td>\n",
       "      <td>...</td>\n",
       "      <td>...</td>\n",
       "      <td>...</td>\n",
       "      <td>...</td>\n",
       "      <td>...</td>\n",
       "      <td>...</td>\n",
       "      <td>...</td>\n",
       "      <td>...</td>\n",
       "      <td>...</td>\n",
       "      <td>...</td>\n",
       "      <td>...</td>\n",
       "      <td>...</td>\n",
       "    </tr>\n",
       "    <tr>\n",
       "      <th>413</th>\n",
       "      <td>1305</td>\n",
       "      <td>0</td>\n",
       "      <td>8.0500</td>\n",
       "      <td>0.0</td>\n",
       "      <td>0.0</td>\n",
       "      <td>1.0</td>\n",
       "      <td>1.0</td>\n",
       "      <td>0.0</td>\n",
       "      <td>0.0</td>\n",
       "      <td>0.0</td>\n",
       "      <td>0.0</td>\n",
       "      <td>0.0</td>\n",
       "      <td>0.0</td>\n",
       "      <td>1.0</td>\n",
       "      <td>0.0</td>\n",
       "      <td>0.0</td>\n",
       "      <td>0.0</td>\n",
       "      <td>0.0</td>\n",
       "      <td>0.0</td>\n",
       "      <td>0.0</td>\n",
       "    </tr>\n",
       "    <tr>\n",
       "      <th>414</th>\n",
       "      <td>1306</td>\n",
       "      <td>1</td>\n",
       "      <td>108.9000</td>\n",
       "      <td>1.0</td>\n",
       "      <td>0.0</td>\n",
       "      <td>0.0</td>\n",
       "      <td>1.0</td>\n",
       "      <td>0.0</td>\n",
       "      <td>0.0</td>\n",
       "      <td>0.0</td>\n",
       "      <td>0.0</td>\n",
       "      <td>0.0</td>\n",
       "      <td>0.0</td>\n",
       "      <td>1.0</td>\n",
       "      <td>0.0</td>\n",
       "      <td>0.0</td>\n",
       "      <td>0.0</td>\n",
       "      <td>0.0</td>\n",
       "      <td>0.0</td>\n",
       "      <td>0.0</td>\n",
       "    </tr>\n",
       "    <tr>\n",
       "      <th>415</th>\n",
       "      <td>1307</td>\n",
       "      <td>0</td>\n",
       "      <td>7.2500</td>\n",
       "      <td>0.0</td>\n",
       "      <td>0.0</td>\n",
       "      <td>1.0</td>\n",
       "      <td>1.0</td>\n",
       "      <td>0.0</td>\n",
       "      <td>0.0</td>\n",
       "      <td>0.0</td>\n",
       "      <td>0.0</td>\n",
       "      <td>0.0</td>\n",
       "      <td>0.0</td>\n",
       "      <td>1.0</td>\n",
       "      <td>0.0</td>\n",
       "      <td>0.0</td>\n",
       "      <td>0.0</td>\n",
       "      <td>0.0</td>\n",
       "      <td>0.0</td>\n",
       "      <td>0.0</td>\n",
       "    </tr>\n",
       "    <tr>\n",
       "      <th>416</th>\n",
       "      <td>1308</td>\n",
       "      <td>0</td>\n",
       "      <td>8.0500</td>\n",
       "      <td>0.0</td>\n",
       "      <td>0.0</td>\n",
       "      <td>1.0</td>\n",
       "      <td>1.0</td>\n",
       "      <td>0.0</td>\n",
       "      <td>0.0</td>\n",
       "      <td>0.0</td>\n",
       "      <td>0.0</td>\n",
       "      <td>0.0</td>\n",
       "      <td>0.0</td>\n",
       "      <td>1.0</td>\n",
       "      <td>0.0</td>\n",
       "      <td>0.0</td>\n",
       "      <td>0.0</td>\n",
       "      <td>0.0</td>\n",
       "      <td>0.0</td>\n",
       "      <td>0.0</td>\n",
       "    </tr>\n",
       "    <tr>\n",
       "      <th>417</th>\n",
       "      <td>1309</td>\n",
       "      <td>0</td>\n",
       "      <td>22.3583</td>\n",
       "      <td>0.0</td>\n",
       "      <td>0.0</td>\n",
       "      <td>1.0</td>\n",
       "      <td>0.0</td>\n",
       "      <td>1.0</td>\n",
       "      <td>0.0</td>\n",
       "      <td>0.0</td>\n",
       "      <td>0.0</td>\n",
       "      <td>0.0</td>\n",
       "      <td>0.0</td>\n",
       "      <td>0.0</td>\n",
       "      <td>1.0</td>\n",
       "      <td>0.0</td>\n",
       "      <td>0.0</td>\n",
       "      <td>0.0</td>\n",
       "      <td>0.0</td>\n",
       "      <td>0.0</td>\n",
       "    </tr>\n",
       "  </tbody>\n",
       "</table>\n",
       "<p>418 rows × 20 columns</p>\n",
       "</div>"
      ],
      "text/plain": [
       "     PassengerId  Sex      Fare  Pclass_1  Pclass_2  Pclass_3  SibSp_0  \\\n",
       "0            892    0    7.8292       0.0       0.0       1.0      1.0   \n",
       "1            893    1    7.0000       0.0       0.0       1.0      0.0   \n",
       "2            894    0    9.6875       0.0       1.0       0.0      1.0   \n",
       "3            895    0    8.6625       0.0       0.0       1.0      1.0   \n",
       "4            896    1   12.2875       0.0       0.0       1.0      0.0   \n",
       "..           ...  ...       ...       ...       ...       ...      ...   \n",
       "413         1305    0    8.0500       0.0       0.0       1.0      1.0   \n",
       "414         1306    1  108.9000       1.0       0.0       0.0      1.0   \n",
       "415         1307    0    7.2500       0.0       0.0       1.0      1.0   \n",
       "416         1308    0    8.0500       0.0       0.0       1.0      1.0   \n",
       "417         1309    0   22.3583       0.0       0.0       1.0      0.0   \n",
       "\n",
       "     SibSp_1  SibSp_2  SibSp_3  SibSp_4  SibSp_5  SibSp_8  Parch_0  Parch_1  \\\n",
       "0        0.0      0.0      0.0      0.0      0.0      0.0      1.0      0.0   \n",
       "1        1.0      0.0      0.0      0.0      0.0      0.0      1.0      0.0   \n",
       "2        0.0      0.0      0.0      0.0      0.0      0.0      1.0      0.0   \n",
       "3        0.0      0.0      0.0      0.0      0.0      0.0      1.0      0.0   \n",
       "4        1.0      0.0      0.0      0.0      0.0      0.0      0.0      1.0   \n",
       "..       ...      ...      ...      ...      ...      ...      ...      ...   \n",
       "413      0.0      0.0      0.0      0.0      0.0      0.0      1.0      0.0   \n",
       "414      0.0      0.0      0.0      0.0      0.0      0.0      1.0      0.0   \n",
       "415      0.0      0.0      0.0      0.0      0.0      0.0      1.0      0.0   \n",
       "416      0.0      0.0      0.0      0.0      0.0      0.0      1.0      0.0   \n",
       "417      1.0      0.0      0.0      0.0      0.0      0.0      0.0      1.0   \n",
       "\n",
       "     Parch_2  Parch_3  Parch_4  Parch_5  Parch_6  \n",
       "0        0.0      0.0      0.0      0.0      0.0  \n",
       "1        0.0      0.0      0.0      0.0      0.0  \n",
       "2        0.0      0.0      0.0      0.0      0.0  \n",
       "3        0.0      0.0      0.0      0.0      0.0  \n",
       "4        0.0      0.0      0.0      0.0      0.0  \n",
       "..       ...      ...      ...      ...      ...  \n",
       "413      0.0      0.0      0.0      0.0      0.0  \n",
       "414      0.0      0.0      0.0      0.0      0.0  \n",
       "415      0.0      0.0      0.0      0.0      0.0  \n",
       "416      0.0      0.0      0.0      0.0      0.0  \n",
       "417      0.0      0.0      0.0      0.0      0.0  \n",
       "\n",
       "[418 rows x 20 columns]"
      ]
     },
     "execution_count": 44,
     "metadata": {},
     "output_type": "execute_result"
    }
   ],
   "source": [
    "df_test = test\n",
    "df_test = df_test.drop([\"Name\", \"Age\", \"Ticket\", \"Cabin\", \"Embarked\"], 1)\n",
    "df_test = df_test.fillna(df_test[\"Fare\"].mean()) #we have one missing value in Fare columns, let's fill it with mean from all values in column\n",
    "\n",
    "df_test[\"Sex\"] = np.where(df_test[\"Sex\"] == \"female\", 1, 0)\n",
    "\n",
    "OH_cols = pd.DataFrame(enc.transform(df_test[one_hot_cols]))\n",
    "OH_cols.columns = enc.get_feature_names(one_hot_cols)\n",
    "\n",
    "df_test_enc = df_test.drop(one_hot_cols, 1)\n",
    "df_test_enc = pd.concat([df_test_enc, OH_cols], 1)\n",
    "df_test_enc"
   ]
  },
  {
   "cell_type": "markdown",
   "metadata": {
    "papermill": {
     "duration": 0.09917,
     "end_time": "2021-03-02T11:33:34.499119",
     "exception": false,
     "start_time": "2021-03-02T11:33:34.399949",
     "status": "completed"
    },
    "tags": []
   },
   "source": [
    "We didn't return our model earlier, so now we have train it again. We'll fix this neglect later."
   ]
  },
  {
   "cell_type": "code",
   "execution_count": 45,
   "metadata": {
    "execution": {
     "iopub.execute_input": "2021-03-02T11:33:34.703428Z",
     "iopub.status.busy": "2021-03-02T11:33:34.702245Z",
     "iopub.status.idle": "2021-03-02T11:33:34.848257Z",
     "shell.execute_reply": "2021-03-02T11:33:34.847688Z"
    },
    "papermill": {
     "duration": 0.248797,
     "end_time": "2021-03-02T11:33:34.848416",
     "exception": false,
     "start_time": "2021-03-02T11:33:34.599619",
     "status": "completed"
    },
    "tags": []
   },
   "outputs": [
    {
     "data": {
      "text/plain": [
       "array([0, 1, 0, 0, 1, 0, 1, 0, 1, 0, 0, 0, 1, 0, 1, 1, 0, 0, 0, 1, 0, 0,\n",
       "       1, 0, 1, 0, 1, 0, 1, 0, 0, 0, 1, 0, 1, 0, 0, 0, 0, 1, 0, 0, 0, 1,\n",
       "       1, 0, 0, 0, 1, 1, 0, 0, 1, 1, 0, 0, 0, 0, 0, 1, 0, 0, 0, 1, 0, 1,\n",
       "       1, 0, 0, 1, 1, 0, 1, 0, 1, 0, 0, 1, 0, 1, 0, 0, 0, 0, 0, 0, 1, 0,\n",
       "       1, 0, 1, 0, 1, 0, 0, 0, 1, 0, 1, 0, 1, 0, 0, 0, 0, 0, 0, 0, 0, 0,\n",
       "       0, 1, 1, 1, 1, 0, 0, 1, 0, 1, 1, 0, 1, 0, 0, 1, 0, 1, 0, 0, 0, 0,\n",
       "       0, 0, 0, 0, 0, 0, 0, 0, 0, 1, 0, 0, 0, 0, 0, 0, 0, 0, 1, 0, 0, 1,\n",
       "       0, 0, 1, 1, 0, 1, 1, 0, 1, 0, 0, 1, 0, 0, 1, 0, 0, 0, 0, 0, 0, 1,\n",
       "       1, 1, 1, 1, 0, 0, 1, 0, 1, 0, 1, 0, 0, 0, 0, 0, 0, 0, 0, 0, 1, 1,\n",
       "       0, 1, 1, 0, 0, 1, 0, 0, 1, 0, 1, 0, 0, 0, 0, 1, 1, 0, 1, 0, 1, 0,\n",
       "       1, 0, 1, 0, 1, 1, 0, 1, 0, 0, 0, 1, 0, 0, 0, 0, 0, 0, 1, 1, 1, 1,\n",
       "       1, 0, 0, 0, 1, 0, 1, 0, 1, 0, 0, 0, 0, 0, 0, 0, 1, 0, 0, 0, 1, 1,\n",
       "       0, 0, 0, 0, 0, 0, 0, 0, 1, 1, 0, 1, 0, 0, 0, 0, 0, 0, 1, 1, 1, 0,\n",
       "       0, 0, 0, 0, 0, 0, 0, 0, 0, 0, 1, 0, 0, 0, 0, 0, 0, 0, 1, 1, 0, 0,\n",
       "       0, 0, 0, 0, 0, 1, 1, 1, 0, 0, 0, 0, 0, 0, 0, 0, 1, 0, 1, 0, 0, 0,\n",
       "       1, 0, 0, 1, 0, 0, 0, 0, 0, 0, 0, 0, 0, 1, 0, 1, 0, 1, 0, 1, 1, 0,\n",
       "       0, 0, 1, 0, 1, 0, 0, 1, 0, 1, 1, 0, 1, 0, 0, 0, 1, 0, 0, 1, 0, 0,\n",
       "       1, 1, 0, 0, 0, 0, 0, 0, 0, 1, 0, 1, 0, 0, 0, 0, 0, 1, 0, 0, 0, 1,\n",
       "       0, 1, 0, 0, 1, 0, 1, 0, 0, 0, 0, 0, 1, 1, 1, 1, 1, 0, 1, 0, 0, 0])"
      ]
     },
     "execution_count": 45,
     "metadata": {},
     "output_type": "execute_result"
    }
   ],
   "source": [
    "X_test = df_test_enc.drop(\"PassengerId\", 1)\n",
    "gbc.fit(X_train, y_train)\n",
    "y_test = gbc.predict(X_test)\n",
    "y_test"
   ]
  },
  {
   "cell_type": "markdown",
   "metadata": {
    "papermill": {
     "duration": 0.102135,
     "end_time": "2021-03-02T11:33:35.051441",
     "exception": false,
     "start_time": "2021-03-02T11:33:34.949306",
     "status": "completed"
    },
    "tags": []
   },
   "source": [
    "Ok, we have our predictions. Let's create submission dataframe. As we saw earlier, we need columns PassengerId and Survived."
   ]
  },
  {
   "cell_type": "code",
   "execution_count": 46,
   "metadata": {
    "execution": {
     "iopub.execute_input": "2021-03-02T11:33:35.265833Z",
     "iopub.status.busy": "2021-03-02T11:33:35.264771Z",
     "iopub.status.idle": "2021-03-02T11:33:35.269103Z",
     "shell.execute_reply": "2021-03-02T11:33:35.268595Z"
    },
    "papermill": {
     "duration": 0.117065,
     "end_time": "2021-03-02T11:33:35.269250",
     "exception": false,
     "start_time": "2021-03-02T11:33:35.152185",
     "status": "completed"
    },
    "tags": []
   },
   "outputs": [
    {
     "data": {
      "text/html": [
       "<div>\n",
       "<style scoped>\n",
       "    .dataframe tbody tr th:only-of-type {\n",
       "        vertical-align: middle;\n",
       "    }\n",
       "\n",
       "    .dataframe tbody tr th {\n",
       "        vertical-align: top;\n",
       "    }\n",
       "\n",
       "    .dataframe thead th {\n",
       "        text-align: right;\n",
       "    }\n",
       "</style>\n",
       "<table border=\"1\" class=\"dataframe\">\n",
       "  <thead>\n",
       "    <tr style=\"text-align: right;\">\n",
       "      <th></th>\n",
       "      <th>PassengerId</th>\n",
       "      <th>Survived</th>\n",
       "    </tr>\n",
       "  </thead>\n",
       "  <tbody>\n",
       "    <tr>\n",
       "      <th>0</th>\n",
       "      <td>892</td>\n",
       "      <td>0</td>\n",
       "    </tr>\n",
       "    <tr>\n",
       "      <th>1</th>\n",
       "      <td>893</td>\n",
       "      <td>1</td>\n",
       "    </tr>\n",
       "    <tr>\n",
       "      <th>2</th>\n",
       "      <td>894</td>\n",
       "      <td>0</td>\n",
       "    </tr>\n",
       "    <tr>\n",
       "      <th>3</th>\n",
       "      <td>895</td>\n",
       "      <td>0</td>\n",
       "    </tr>\n",
       "    <tr>\n",
       "      <th>4</th>\n",
       "      <td>896</td>\n",
       "      <td>1</td>\n",
       "    </tr>\n",
       "  </tbody>\n",
       "</table>\n",
       "</div>"
      ],
      "text/plain": [
       "   PassengerId  Survived\n",
       "0          892         0\n",
       "1          893         1\n",
       "2          894         0\n",
       "3          895         0\n",
       "4          896         1"
      ]
     },
     "execution_count": 46,
     "metadata": {},
     "output_type": "execute_result"
    }
   ],
   "source": [
    "df_submission = pd.DataFrame()\n",
    "df_submission[\"PassengerId\"] = df_test[\"PassengerId\"]\n",
    "df_submission[\"Survived\"] = y_test\n",
    "df_submission.head()"
   ]
  },
  {
   "cell_type": "markdown",
   "metadata": {
    "papermill": {
     "duration": 0.100565,
     "end_time": "2021-03-02T11:33:35.470714",
     "exception": false,
     "start_time": "2021-03-02T11:33:35.370149",
     "status": "completed"
    },
    "tags": []
   },
   "source": [
    "Great! Now save our submission dataframe."
   ]
  },
  {
   "cell_type": "code",
   "execution_count": 47,
   "metadata": {
    "execution": {
     "iopub.execute_input": "2021-03-02T11:33:35.682116Z",
     "iopub.status.busy": "2021-03-02T11:33:35.681036Z",
     "iopub.status.idle": "2021-03-02T11:33:35.688611Z",
     "shell.execute_reply": "2021-03-02T11:33:35.687871Z"
    },
    "papermill": {
     "duration": 0.116311,
     "end_time": "2021-03-02T11:33:35.688764",
     "exception": false,
     "start_time": "2021-03-02T11:33:35.572453",
     "status": "completed"
    },
    "tags": []
   },
   "outputs": [],
   "source": [
    "df_submission.to_csv(\"./submission.csv\", index=False)"
   ]
  },
  {
   "cell_type": "markdown",
   "metadata": {
    "papermill": {
     "duration": 0.104591,
     "end_time": "2021-03-02T11:33:35.894941",
     "exception": false,
     "start_time": "2021-03-02T11:33:35.790350",
     "status": "completed"
    },
    "tags": []
   },
   "source": [
    "# More advanced work with columns"
   ]
  },
  {
   "cell_type": "markdown",
   "metadata": {
    "papermill": {
     "duration": 0.101198,
     "end_time": "2021-03-02T11:33:36.099046",
     "exception": false,
     "start_time": "2021-03-02T11:33:35.997848",
     "status": "completed"
    },
    "tags": []
   },
   "source": [
    "We are done!\n",
    "\n",
    "Almost, to be precise. Still are many things we could do better. But our first submission is ready. Below is more advanced stuff, which I think may improve our score. \n",
    "\n",
    "First look again on columns we drop because of missing values."
   ]
  },
  {
   "cell_type": "code",
   "execution_count": 48,
   "metadata": {
    "execution": {
     "iopub.execute_input": "2021-03-02T11:33:36.331672Z",
     "iopub.status.busy": "2021-03-02T11:33:36.330518Z",
     "iopub.status.idle": "2021-03-02T11:33:36.335818Z",
     "shell.execute_reply": "2021-03-02T11:33:36.335144Z"
    },
    "papermill": {
     "duration": 0.135269,
     "end_time": "2021-03-02T11:33:36.336003",
     "exception": false,
     "start_time": "2021-03-02T11:33:36.200734",
     "status": "completed"
    },
    "tags": []
   },
   "outputs": [
    {
     "data": {
      "text/html": [
       "<div>\n",
       "<style scoped>\n",
       "    .dataframe tbody tr th:only-of-type {\n",
       "        vertical-align: middle;\n",
       "    }\n",
       "\n",
       "    .dataframe tbody tr th {\n",
       "        vertical-align: top;\n",
       "    }\n",
       "\n",
       "    .dataframe thead th {\n",
       "        text-align: right;\n",
       "    }\n",
       "</style>\n",
       "<table border=\"1\" class=\"dataframe\">\n",
       "  <thead>\n",
       "    <tr style=\"text-align: right;\">\n",
       "      <th></th>\n",
       "      <th>PassengerId</th>\n",
       "      <th>Survived</th>\n",
       "      <th>Pclass</th>\n",
       "      <th>Name</th>\n",
       "      <th>Sex</th>\n",
       "      <th>Age</th>\n",
       "      <th>SibSp</th>\n",
       "      <th>Parch</th>\n",
       "      <th>Ticket</th>\n",
       "      <th>Fare</th>\n",
       "      <th>Cabin</th>\n",
       "      <th>Embarked</th>\n",
       "    </tr>\n",
       "  </thead>\n",
       "  <tbody>\n",
       "    <tr>\n",
       "      <th>5</th>\n",
       "      <td>6</td>\n",
       "      <td>0</td>\n",
       "      <td>3</td>\n",
       "      <td>Moran, Mr. James</td>\n",
       "      <td>male</td>\n",
       "      <td>NaN</td>\n",
       "      <td>0</td>\n",
       "      <td>0</td>\n",
       "      <td>330877</td>\n",
       "      <td>8.4583</td>\n",
       "      <td>NaN</td>\n",
       "      <td>Q</td>\n",
       "    </tr>\n",
       "    <tr>\n",
       "      <th>17</th>\n",
       "      <td>18</td>\n",
       "      <td>1</td>\n",
       "      <td>2</td>\n",
       "      <td>Williams, Mr. Charles Eugene</td>\n",
       "      <td>male</td>\n",
       "      <td>NaN</td>\n",
       "      <td>0</td>\n",
       "      <td>0</td>\n",
       "      <td>244373</td>\n",
       "      <td>13.0000</td>\n",
       "      <td>NaN</td>\n",
       "      <td>S</td>\n",
       "    </tr>\n",
       "    <tr>\n",
       "      <th>19</th>\n",
       "      <td>20</td>\n",
       "      <td>1</td>\n",
       "      <td>3</td>\n",
       "      <td>Masselmani, Mrs. Fatima</td>\n",
       "      <td>female</td>\n",
       "      <td>NaN</td>\n",
       "      <td>0</td>\n",
       "      <td>0</td>\n",
       "      <td>2649</td>\n",
       "      <td>7.2250</td>\n",
       "      <td>NaN</td>\n",
       "      <td>C</td>\n",
       "    </tr>\n",
       "    <tr>\n",
       "      <th>26</th>\n",
       "      <td>27</td>\n",
       "      <td>0</td>\n",
       "      <td>3</td>\n",
       "      <td>Emir, Mr. Farred Chehab</td>\n",
       "      <td>male</td>\n",
       "      <td>NaN</td>\n",
       "      <td>0</td>\n",
       "      <td>0</td>\n",
       "      <td>2631</td>\n",
       "      <td>7.2250</td>\n",
       "      <td>NaN</td>\n",
       "      <td>C</td>\n",
       "    </tr>\n",
       "    <tr>\n",
       "      <th>28</th>\n",
       "      <td>29</td>\n",
       "      <td>1</td>\n",
       "      <td>3</td>\n",
       "      <td>O'Dwyer, Miss. Ellen \"Nellie\"</td>\n",
       "      <td>female</td>\n",
       "      <td>NaN</td>\n",
       "      <td>0</td>\n",
       "      <td>0</td>\n",
       "      <td>330959</td>\n",
       "      <td>7.8792</td>\n",
       "      <td>NaN</td>\n",
       "      <td>Q</td>\n",
       "    </tr>\n",
       "    <tr>\n",
       "      <th>...</th>\n",
       "      <td>...</td>\n",
       "      <td>...</td>\n",
       "      <td>...</td>\n",
       "      <td>...</td>\n",
       "      <td>...</td>\n",
       "      <td>...</td>\n",
       "      <td>...</td>\n",
       "      <td>...</td>\n",
       "      <td>...</td>\n",
       "      <td>...</td>\n",
       "      <td>...</td>\n",
       "      <td>...</td>\n",
       "    </tr>\n",
       "    <tr>\n",
       "      <th>859</th>\n",
       "      <td>860</td>\n",
       "      <td>0</td>\n",
       "      <td>3</td>\n",
       "      <td>Razi, Mr. Raihed</td>\n",
       "      <td>male</td>\n",
       "      <td>NaN</td>\n",
       "      <td>0</td>\n",
       "      <td>0</td>\n",
       "      <td>2629</td>\n",
       "      <td>7.2292</td>\n",
       "      <td>NaN</td>\n",
       "      <td>C</td>\n",
       "    </tr>\n",
       "    <tr>\n",
       "      <th>863</th>\n",
       "      <td>864</td>\n",
       "      <td>0</td>\n",
       "      <td>3</td>\n",
       "      <td>Sage, Miss. Dorothy Edith \"Dolly\"</td>\n",
       "      <td>female</td>\n",
       "      <td>NaN</td>\n",
       "      <td>8</td>\n",
       "      <td>2</td>\n",
       "      <td>CA. 2343</td>\n",
       "      <td>69.5500</td>\n",
       "      <td>NaN</td>\n",
       "      <td>S</td>\n",
       "    </tr>\n",
       "    <tr>\n",
       "      <th>868</th>\n",
       "      <td>869</td>\n",
       "      <td>0</td>\n",
       "      <td>3</td>\n",
       "      <td>van Melkebeke, Mr. Philemon</td>\n",
       "      <td>male</td>\n",
       "      <td>NaN</td>\n",
       "      <td>0</td>\n",
       "      <td>0</td>\n",
       "      <td>345777</td>\n",
       "      <td>9.5000</td>\n",
       "      <td>NaN</td>\n",
       "      <td>S</td>\n",
       "    </tr>\n",
       "    <tr>\n",
       "      <th>878</th>\n",
       "      <td>879</td>\n",
       "      <td>0</td>\n",
       "      <td>3</td>\n",
       "      <td>Laleff, Mr. Kristo</td>\n",
       "      <td>male</td>\n",
       "      <td>NaN</td>\n",
       "      <td>0</td>\n",
       "      <td>0</td>\n",
       "      <td>349217</td>\n",
       "      <td>7.8958</td>\n",
       "      <td>NaN</td>\n",
       "      <td>S</td>\n",
       "    </tr>\n",
       "    <tr>\n",
       "      <th>888</th>\n",
       "      <td>889</td>\n",
       "      <td>0</td>\n",
       "      <td>3</td>\n",
       "      <td>Johnston, Miss. Catherine Helen \"Carrie\"</td>\n",
       "      <td>female</td>\n",
       "      <td>NaN</td>\n",
       "      <td>1</td>\n",
       "      <td>2</td>\n",
       "      <td>W./C. 6607</td>\n",
       "      <td>23.4500</td>\n",
       "      <td>NaN</td>\n",
       "      <td>S</td>\n",
       "    </tr>\n",
       "  </tbody>\n",
       "</table>\n",
       "<p>177 rows × 12 columns</p>\n",
       "</div>"
      ],
      "text/plain": [
       "     PassengerId  Survived  Pclass                                      Name  \\\n",
       "5              6         0       3                          Moran, Mr. James   \n",
       "17            18         1       2              Williams, Mr. Charles Eugene   \n",
       "19            20         1       3                   Masselmani, Mrs. Fatima   \n",
       "26            27         0       3                   Emir, Mr. Farred Chehab   \n",
       "28            29         1       3             O'Dwyer, Miss. Ellen \"Nellie\"   \n",
       "..           ...       ...     ...                                       ...   \n",
       "859          860         0       3                          Razi, Mr. Raihed   \n",
       "863          864         0       3         Sage, Miss. Dorothy Edith \"Dolly\"   \n",
       "868          869         0       3               van Melkebeke, Mr. Philemon   \n",
       "878          879         0       3                        Laleff, Mr. Kristo   \n",
       "888          889         0       3  Johnston, Miss. Catherine Helen \"Carrie\"   \n",
       "\n",
       "        Sex  Age  SibSp  Parch      Ticket     Fare Cabin Embarked  \n",
       "5      male  NaN      0      0      330877   8.4583   NaN        Q  \n",
       "17     male  NaN      0      0      244373  13.0000   NaN        S  \n",
       "19   female  NaN      0      0        2649   7.2250   NaN        C  \n",
       "26     male  NaN      0      0        2631   7.2250   NaN        C  \n",
       "28   female  NaN      0      0      330959   7.8792   NaN        Q  \n",
       "..      ...  ...    ...    ...         ...      ...   ...      ...  \n",
       "859    male  NaN      0      0        2629   7.2292   NaN        C  \n",
       "863  female  NaN      8      2    CA. 2343  69.5500   NaN        S  \n",
       "868    male  NaN      0      0      345777   9.5000   NaN        S  \n",
       "878    male  NaN      0      0      349217   7.8958   NaN        S  \n",
       "888  female  NaN      1      2  W./C. 6607  23.4500   NaN        S  \n",
       "\n",
       "[177 rows x 12 columns]"
      ]
     },
     "execution_count": 48,
     "metadata": {},
     "output_type": "execute_result"
    }
   ],
   "source": [
    "train[train[\"Age\"].isnull()]"
   ]
  },
  {
   "cell_type": "code",
   "execution_count": 49,
   "metadata": {
    "execution": {
     "iopub.execute_input": "2021-03-02T11:33:36.557800Z",
     "iopub.status.busy": "2021-03-02T11:33:36.554372Z",
     "iopub.status.idle": "2021-03-02T11:33:36.562068Z",
     "shell.execute_reply": "2021-03-02T11:33:36.561427Z"
    },
    "papermill": {
     "duration": 0.115281,
     "end_time": "2021-03-02T11:33:36.562219",
     "exception": false,
     "start_time": "2021-03-02T11:33:36.446938",
     "status": "completed"
    },
    "tags": []
   },
   "outputs": [
    {
     "data": {
      "text/plain": [
       "count    714.000000\n",
       "mean      29.699118\n",
       "std       14.526497\n",
       "min        0.420000\n",
       "25%       20.125000\n",
       "50%       28.000000\n",
       "75%       38.000000\n",
       "max       80.000000\n",
       "Name: Age, dtype: float64"
      ]
     },
     "execution_count": 49,
     "metadata": {},
     "output_type": "execute_result"
    }
   ],
   "source": [
    "train.Age.describe()"
   ]
  },
  {
   "cell_type": "code",
   "execution_count": 50,
   "metadata": {
    "execution": {
     "iopub.execute_input": "2021-03-02T11:33:36.777393Z",
     "iopub.status.busy": "2021-03-02T11:33:36.774460Z",
     "iopub.status.idle": "2021-03-02T11:33:36.781970Z",
     "shell.execute_reply": "2021-03-02T11:33:36.781423Z"
    },
    "papermill": {
     "duration": 0.11505,
     "end_time": "2021-03-02T11:33:36.782137",
     "exception": false,
     "start_time": "2021-03-02T11:33:36.667087",
     "status": "completed"
    },
    "tags": []
   },
   "outputs": [
    {
     "data": {
      "text/plain": [
       "803    0.42\n",
       "755    0.67\n",
       "644    0.75\n",
       "469    0.75\n",
       "78     0.83\n",
       "831    0.83\n",
       "305    0.92\n",
       "827    1.00\n",
       "381    1.00\n",
       "164    1.00\n",
       "183    1.00\n",
       "386    1.00\n",
       "172    1.00\n",
       "788    1.00\n",
       "642    2.00\n",
       "7      2.00\n",
       "530    2.00\n",
       "297    2.00\n",
       "824    2.00\n",
       "205    2.00\n",
       "Name: Age, dtype: float64"
      ]
     },
     "execution_count": 50,
     "metadata": {},
     "output_type": "execute_result"
    }
   ],
   "source": [
    "train.Age.dropna().sort_values().head(20)"
   ]
  },
  {
   "cell_type": "markdown",
   "metadata": {
    "papermill": {
     "duration": 0.103371,
     "end_time": "2021-03-02T11:33:36.989560",
     "exception": false,
     "start_time": "2021-03-02T11:33:36.886189",
     "status": "completed"
    },
    "tags": []
   },
   "source": [
    "I supossed, that maybe children's age wasn't write, but I was wrong. \n",
    "\n",
    "We could fill missing values with mean, but let's first check % of survives in each age category."
   ]
  },
  {
   "cell_type": "code",
   "execution_count": 51,
   "metadata": {
    "execution": {
     "iopub.execute_input": "2021-03-02T11:33:37.219525Z",
     "iopub.status.busy": "2021-03-02T11:33:37.215205Z",
     "iopub.status.idle": "2021-03-02T11:33:37.224668Z",
     "shell.execute_reply": "2021-03-02T11:33:37.224012Z"
    },
    "papermill": {
     "duration": 0.130248,
     "end_time": "2021-03-02T11:33:37.224817",
     "exception": false,
     "start_time": "2021-03-02T11:33:37.094569",
     "status": "completed"
    },
    "tags": []
   },
   "outputs": [
    {
     "data": {
      "text/plain": [
       "0      (20, 30]\n",
       "1      (30, 40]\n",
       "2      (20, 30]\n",
       "3      (30, 40]\n",
       "4      (30, 40]\n",
       "         ...   \n",
       "885    (30, 40]\n",
       "886    (20, 30]\n",
       "887    (10, 20]\n",
       "889    (20, 30]\n",
       "890    (30, 40]\n",
       "Name: Age, Length: 714, dtype: category\n",
       "Categories (8, interval[int64]): [(0, 10] < (10, 20] < (20, 30] < (30, 40] < (40, 50] < (50, 60] < (60, 70] < (70, 80]]"
      ]
     },
     "execution_count": 51,
     "metadata": {},
     "output_type": "execute_result"
    }
   ],
   "source": [
    "bins = [0, 10, 20, 30, 40, 50, 60, 70, 80]\n",
    "buckets = pd.cut(train['Age'].dropna(), bins=bins)\n",
    "buckets"
   ]
  },
  {
   "cell_type": "code",
   "execution_count": 52,
   "metadata": {
    "execution": {
     "iopub.execute_input": "2021-03-02T11:33:37.440200Z",
     "iopub.status.busy": "2021-03-02T11:33:37.439471Z",
     "iopub.status.idle": "2021-03-02T11:33:37.719842Z",
     "shell.execute_reply": "2021-03-02T11:33:37.719190Z"
    },
    "papermill": {
     "duration": 0.392192,
     "end_time": "2021-03-02T11:33:37.720016",
     "exception": false,
     "start_time": "2021-03-02T11:33:37.327824",
     "status": "completed"
    },
    "tags": []
   },
   "outputs": [
    {
     "data": {
      "image/png": "[encoded data removed]",
      "text/plain": [
       "<Figure size 432x288 with 1 Axes>"
      ]
     },
     "metadata": {
      "needs_background": "light"
     },
     "output_type": "display_data"
    }
   ],
   "source": [
    "sns.countplot(x=pd.cut(train['Age'].dropna(), bins=bins), orient='v', hue=\"Survived\", data=train.drop([\"Embarked\",\"Cabin\"], 1).dropna());"
   ]
  },
  {
   "cell_type": "code",
   "execution_count": 53,
   "metadata": {
    "execution": {
     "iopub.execute_input": "2021-03-02T11:33:37.983299Z",
     "iopub.status.busy": "2021-03-02T11:33:37.963929Z",
     "iopub.status.idle": "2021-03-02T11:33:38.090237Z",
     "shell.execute_reply": "2021-03-02T11:33:38.090734Z"
    },
    "papermill": {
     "duration": 0.253579,
     "end_time": "2021-03-02T11:33:38.090989",
     "exception": false,
     "start_time": "2021-03-02T11:33:37.837410",
     "status": "completed"
    },
    "tags": []
   },
   "outputs": [
    {
     "data": {
      "image/png": "[encoded data removed]",
      "text/plain": [
       "<Figure size 432x288 with 1 Axes>"
      ]
     },
     "metadata": {
      "needs_background": "light"
     },
     "output_type": "display_data"
    }
   ],
   "source": [
    "nan_age = train[train[\"Age\"].isna()]\n",
    "sns.countplot(y=\"Survived\", data=nan_age);"
   ]
  },
  {
   "cell_type": "markdown",
   "metadata": {
    "papermill": {
     "duration": 0.104767,
     "end_time": "2021-03-02T11:33:38.309518",
     "exception": false,
     "start_time": "2021-03-02T11:33:38.204751",
     "status": "completed"
    },
    "tags": []
   },
   "source": [
    "I was afraid that fill Age column with mean could affect on our predictions, but it shouldn't since Survived/Not-survived ratio is similar for passengers with missing age nad passengers in age between 20 and 30 (mean is 29.39)\n",
    "\n",
    "Here is tough decision (at least for me) to make. We have to decide, what we do with our Age column. Options for me:\n",
    "\n",
    "1. We fill empty values with mean and treat Age as numerical value.\n",
    "2. We put Age into bins (as you see above), mark missing values as (20,30] and treat Age as caterogical value.\n",
    "\n",
    "For now, let's try second option."
   ]
  },
  {
   "cell_type": "code",
   "execution_count": 54,
   "metadata": {
    "execution": {
     "iopub.execute_input": "2021-03-02T11:33:38.531201Z",
     "iopub.status.busy": "2021-03-02T11:33:38.529170Z",
     "iopub.status.idle": "2021-03-02T11:33:38.549339Z",
     "shell.execute_reply": "2021-03-02T11:33:38.548654Z"
    },
    "papermill": {
     "duration": 0.133679,
     "end_time": "2021-03-02T11:33:38.549497",
     "exception": false,
     "start_time": "2021-03-02T11:33:38.415818",
     "status": "completed"
    },
    "tags": []
   },
   "outputs": [
    {
     "data": {
      "text/html": [
       "<div>\n",
       "<style scoped>\n",
       "    .dataframe tbody tr th:only-of-type {\n",
       "        vertical-align: middle;\n",
       "    }\n",
       "\n",
       "    .dataframe tbody tr th {\n",
       "        vertical-align: top;\n",
       "    }\n",
       "\n",
       "    .dataframe thead th {\n",
       "        text-align: right;\n",
       "    }\n",
       "</style>\n",
       "<table border=\"1\" class=\"dataframe\">\n",
       "  <thead>\n",
       "    <tr style=\"text-align: right;\">\n",
       "      <th></th>\n",
       "      <th>Survived</th>\n",
       "      <th>Age</th>\n",
       "    </tr>\n",
       "  </thead>\n",
       "  <tbody>\n",
       "    <tr>\n",
       "      <th>0</th>\n",
       "      <td>0</td>\n",
       "      <td>(20, 30]</td>\n",
       "    </tr>\n",
       "    <tr>\n",
       "      <th>1</th>\n",
       "      <td>1</td>\n",
       "      <td>(30, 40]</td>\n",
       "    </tr>\n",
       "    <tr>\n",
       "      <th>2</th>\n",
       "      <td>1</td>\n",
       "      <td>(20, 30]</td>\n",
       "    </tr>\n",
       "    <tr>\n",
       "      <th>3</th>\n",
       "      <td>1</td>\n",
       "      <td>(30, 40]</td>\n",
       "    </tr>\n",
       "    <tr>\n",
       "      <th>4</th>\n",
       "      <td>0</td>\n",
       "      <td>(30, 40]</td>\n",
       "    </tr>\n",
       "    <tr>\n",
       "      <th>...</th>\n",
       "      <td>...</td>\n",
       "      <td>...</td>\n",
       "    </tr>\n",
       "    <tr>\n",
       "      <th>886</th>\n",
       "      <td>0</td>\n",
       "      <td>(20, 30]</td>\n",
       "    </tr>\n",
       "    <tr>\n",
       "      <th>887</th>\n",
       "      <td>1</td>\n",
       "      <td>(10, 20]</td>\n",
       "    </tr>\n",
       "    <tr>\n",
       "      <th>888</th>\n",
       "      <td>0</td>\n",
       "      <td>(20, 30]</td>\n",
       "    </tr>\n",
       "    <tr>\n",
       "      <th>889</th>\n",
       "      <td>1</td>\n",
       "      <td>(20, 30]</td>\n",
       "    </tr>\n",
       "    <tr>\n",
       "      <th>890</th>\n",
       "      <td>0</td>\n",
       "      <td>(30, 40]</td>\n",
       "    </tr>\n",
       "  </tbody>\n",
       "</table>\n",
       "<p>891 rows × 2 columns</p>\n",
       "</div>"
      ],
      "text/plain": [
       "     Survived       Age\n",
       "0           0  (20, 30]\n",
       "1           1  (30, 40]\n",
       "2           1  (20, 30]\n",
       "3           1  (30, 40]\n",
       "4           0  (30, 40]\n",
       "..        ...       ...\n",
       "886         0  (20, 30]\n",
       "887         1  (10, 20]\n",
       "888         0  (20, 30]\n",
       "889         1  (20, 30]\n",
       "890         0  (30, 40]\n",
       "\n",
       "[891 rows x 2 columns]"
      ]
     },
     "execution_count": 54,
     "metadata": {},
     "output_type": "execute_result"
    }
   ],
   "source": [
    "new_train = pd.DataFrame()\n",
    "new_train[\"Survived\"] = train[\"Survived\"]\n",
    "bins = [0, 10, 20, 30, 40, 50, 60, 70, 80]\n",
    "age_bins = pd.cut(train['Age'].fillna(train['Age'].mean()), bins=bins)\n",
    "new_train[\"Age\"] = age_bins\n",
    "new_train"
   ]
  },
  {
   "cell_type": "markdown",
   "metadata": {
    "papermill": {
     "duration": 0.1053,
     "end_time": "2021-03-02T11:33:38.761339",
     "exception": false,
     "start_time": "2021-03-02T11:33:38.656039",
     "status": "completed"
    },
    "tags": []
   },
   "source": [
    "We encode this later, with other values and create pipeline.\n",
    "\n",
    "Let's see Embarked column now. This column defines port of embarkation and C = Cherbourg, Q = Queenstown, S = Southampton."
   ]
  },
  {
   "cell_type": "code",
   "execution_count": 55,
   "metadata": {
    "execution": {
     "iopub.execute_input": "2021-03-02T11:33:38.991982Z",
     "iopub.status.busy": "2021-03-02T11:33:38.991123Z",
     "iopub.status.idle": "2021-03-02T11:33:38.995154Z",
     "shell.execute_reply": "2021-03-02T11:33:38.994615Z"
    },
    "papermill": {
     "duration": 0.126896,
     "end_time": "2021-03-02T11:33:38.995308",
     "exception": false,
     "start_time": "2021-03-02T11:33:38.868412",
     "status": "completed"
    },
    "tags": []
   },
   "outputs": [
    {
     "data": {
      "text/html": [
       "<div>\n",
       "<style scoped>\n",
       "    .dataframe tbody tr th:only-of-type {\n",
       "        vertical-align: middle;\n",
       "    }\n",
       "\n",
       "    .dataframe tbody tr th {\n",
       "        vertical-align: top;\n",
       "    }\n",
       "\n",
       "    .dataframe thead th {\n",
       "        text-align: right;\n",
       "    }\n",
       "</style>\n",
       "<table border=\"1\" class=\"dataframe\">\n",
       "  <thead>\n",
       "    <tr style=\"text-align: right;\">\n",
       "      <th></th>\n",
       "      <th>PassengerId</th>\n",
       "      <th>Survived</th>\n",
       "      <th>Pclass</th>\n",
       "      <th>Name</th>\n",
       "      <th>Sex</th>\n",
       "      <th>Age</th>\n",
       "      <th>SibSp</th>\n",
       "      <th>Parch</th>\n",
       "      <th>Ticket</th>\n",
       "      <th>Fare</th>\n",
       "      <th>Cabin</th>\n",
       "      <th>Embarked</th>\n",
       "    </tr>\n",
       "  </thead>\n",
       "  <tbody>\n",
       "    <tr>\n",
       "      <th>61</th>\n",
       "      <td>62</td>\n",
       "      <td>1</td>\n",
       "      <td>1</td>\n",
       "      <td>Icard, Miss. Amelie</td>\n",
       "      <td>female</td>\n",
       "      <td>38.0</td>\n",
       "      <td>0</td>\n",
       "      <td>0</td>\n",
       "      <td>113572</td>\n",
       "      <td>80.0</td>\n",
       "      <td>B28</td>\n",
       "      <td>NaN</td>\n",
       "    </tr>\n",
       "    <tr>\n",
       "      <th>829</th>\n",
       "      <td>830</td>\n",
       "      <td>1</td>\n",
       "      <td>1</td>\n",
       "      <td>Stone, Mrs. George Nelson (Martha Evelyn)</td>\n",
       "      <td>female</td>\n",
       "      <td>62.0</td>\n",
       "      <td>0</td>\n",
       "      <td>0</td>\n",
       "      <td>113572</td>\n",
       "      <td>80.0</td>\n",
       "      <td>B28</td>\n",
       "      <td>NaN</td>\n",
       "    </tr>\n",
       "  </tbody>\n",
       "</table>\n",
       "</div>"
      ],
      "text/plain": [
       "     PassengerId  Survived  Pclass                                       Name  \\\n",
       "61            62         1       1                        Icard, Miss. Amelie   \n",
       "829          830         1       1  Stone, Mrs. George Nelson (Martha Evelyn)   \n",
       "\n",
       "        Sex   Age  SibSp  Parch  Ticket  Fare Cabin Embarked  \n",
       "61   female  38.0      0      0  113572  80.0   B28      NaN  \n",
       "829  female  62.0      0      0  113572  80.0   B28      NaN  "
      ]
     },
     "execution_count": 55,
     "metadata": {},
     "output_type": "execute_result"
    }
   ],
   "source": [
    "train[train[\"Embarked\"].isnull()]"
   ]
  },
  {
   "cell_type": "code",
   "execution_count": 56,
   "metadata": {
    "execution": {
     "iopub.execute_input": "2021-03-02T11:33:39.218459Z",
     "iopub.status.busy": "2021-03-02T11:33:39.217443Z",
     "iopub.status.idle": "2021-03-02T11:33:39.221860Z",
     "shell.execute_reply": "2021-03-02T11:33:39.221247Z"
    },
    "papermill": {
     "duration": 0.119861,
     "end_time": "2021-03-02T11:33:39.222017",
     "exception": false,
     "start_time": "2021-03-02T11:33:39.102156",
     "status": "completed"
    },
    "tags": []
   },
   "outputs": [
    {
     "data": {
      "text/plain": [
       "S    644\n",
       "C    168\n",
       "Q     77\n",
       "Name: Embarked, dtype: int64"
      ]
     },
     "execution_count": 56,
     "metadata": {},
     "output_type": "execute_result"
    }
   ],
   "source": [
    "train[\"Embarked\"].value_counts()"
   ]
  },
  {
   "cell_type": "markdown",
   "metadata": {
    "papermill": {
     "duration": 0.110288,
     "end_time": "2021-03-02T11:33:39.438837",
     "exception": false,
     "start_time": "2021-03-02T11:33:39.328549",
     "status": "completed"
    },
    "tags": []
   },
   "source": [
    "So we have only two missing values. I think we could just remove this rows and it wouldn't influence on our prediction, but better just fill it with \"S\", because in Southampton port most passengers start their journey."
   ]
  },
  {
   "cell_type": "code",
   "execution_count": 57,
   "metadata": {
    "execution": {
     "iopub.execute_input": "2021-03-02T11:33:39.677891Z",
     "iopub.status.busy": "2021-03-02T11:33:39.666672Z",
     "iopub.status.idle": "2021-03-02T11:33:39.682881Z",
     "shell.execute_reply": "2021-03-02T11:33:39.682350Z"
    },
    "papermill": {
     "duration": 0.134766,
     "end_time": "2021-03-02T11:33:39.683049",
     "exception": false,
     "start_time": "2021-03-02T11:33:39.548283",
     "status": "completed"
    },
    "tags": []
   },
   "outputs": [
    {
     "data": {
      "text/html": [
       "<div>\n",
       "<style scoped>\n",
       "    .dataframe tbody tr th:only-of-type {\n",
       "        vertical-align: middle;\n",
       "    }\n",
       "\n",
       "    .dataframe tbody tr th {\n",
       "        vertical-align: top;\n",
       "    }\n",
       "\n",
       "    .dataframe thead th {\n",
       "        text-align: right;\n",
       "    }\n",
       "</style>\n",
       "<table border=\"1\" class=\"dataframe\">\n",
       "  <thead>\n",
       "    <tr style=\"text-align: right;\">\n",
       "      <th></th>\n",
       "      <th>Survived</th>\n",
       "      <th>Age</th>\n",
       "      <th>Embarked</th>\n",
       "    </tr>\n",
       "  </thead>\n",
       "  <tbody>\n",
       "    <tr>\n",
       "      <th>0</th>\n",
       "      <td>0</td>\n",
       "      <td>(20, 30]</td>\n",
       "      <td>S</td>\n",
       "    </tr>\n",
       "    <tr>\n",
       "      <th>1</th>\n",
       "      <td>1</td>\n",
       "      <td>(30, 40]</td>\n",
       "      <td>C</td>\n",
       "    </tr>\n",
       "    <tr>\n",
       "      <th>2</th>\n",
       "      <td>1</td>\n",
       "      <td>(20, 30]</td>\n",
       "      <td>S</td>\n",
       "    </tr>\n",
       "    <tr>\n",
       "      <th>3</th>\n",
       "      <td>1</td>\n",
       "      <td>(30, 40]</td>\n",
       "      <td>S</td>\n",
       "    </tr>\n",
       "    <tr>\n",
       "      <th>4</th>\n",
       "      <td>0</td>\n",
       "      <td>(30, 40]</td>\n",
       "      <td>S</td>\n",
       "    </tr>\n",
       "    <tr>\n",
       "      <th>...</th>\n",
       "      <td>...</td>\n",
       "      <td>...</td>\n",
       "      <td>...</td>\n",
       "    </tr>\n",
       "    <tr>\n",
       "      <th>886</th>\n",
       "      <td>0</td>\n",
       "      <td>(20, 30]</td>\n",
       "      <td>S</td>\n",
       "    </tr>\n",
       "    <tr>\n",
       "      <th>887</th>\n",
       "      <td>1</td>\n",
       "      <td>(10, 20]</td>\n",
       "      <td>S</td>\n",
       "    </tr>\n",
       "    <tr>\n",
       "      <th>888</th>\n",
       "      <td>0</td>\n",
       "      <td>(20, 30]</td>\n",
       "      <td>S</td>\n",
       "    </tr>\n",
       "    <tr>\n",
       "      <th>889</th>\n",
       "      <td>1</td>\n",
       "      <td>(20, 30]</td>\n",
       "      <td>C</td>\n",
       "    </tr>\n",
       "    <tr>\n",
       "      <th>890</th>\n",
       "      <td>0</td>\n",
       "      <td>(30, 40]</td>\n",
       "      <td>Q</td>\n",
       "    </tr>\n",
       "  </tbody>\n",
       "</table>\n",
       "<p>891 rows × 3 columns</p>\n",
       "</div>"
      ],
      "text/plain": [
       "     Survived       Age Embarked\n",
       "0           0  (20, 30]        S\n",
       "1           1  (30, 40]        C\n",
       "2           1  (20, 30]        S\n",
       "3           1  (30, 40]        S\n",
       "4           0  (30, 40]        S\n",
       "..        ...       ...      ...\n",
       "886         0  (20, 30]        S\n",
       "887         1  (10, 20]        S\n",
       "888         0  (20, 30]        S\n",
       "889         1  (20, 30]        C\n",
       "890         0  (30, 40]        Q\n",
       "\n",
       "[891 rows x 3 columns]"
      ]
     },
     "execution_count": 57,
     "metadata": {},
     "output_type": "execute_result"
    }
   ],
   "source": [
    "new_train[\"Embarked\"] = train[\"Embarked\"].fillna(\"S\")\n",
    "new_train"
   ]
  },
  {
   "cell_type": "markdown",
   "metadata": {
    "papermill": {
     "duration": 0.12701,
     "end_time": "2021-03-02T11:33:39.920638",
     "exception": false,
     "start_time": "2021-03-02T11:33:39.793628",
     "status": "completed"
    },
    "tags": []
   },
   "source": [
    "Now time for column, which have the most missing values and probably be the toughest one. Cabin means just cabin number."
   ]
  },
  {
   "cell_type": "code",
   "execution_count": 58,
   "metadata": {
    "execution": {
     "iopub.execute_input": "2021-03-02T11:33:40.155413Z",
     "iopub.status.busy": "2021-03-02T11:33:40.154747Z",
     "iopub.status.idle": "2021-03-02T11:33:40.159496Z",
     "shell.execute_reply": "2021-03-02T11:33:40.160231Z"
    },
    "papermill": {
     "duration": 0.125205,
     "end_time": "2021-03-02T11:33:40.160456",
     "exception": false,
     "start_time": "2021-03-02T11:33:40.035251",
     "status": "completed"
    },
    "tags": []
   },
   "outputs": [
    {
     "name": "stdout",
     "output_type": "stream",
     "text": [
      "Number of missing values: 687\n"
     ]
    },
    {
     "data": {
      "text/plain": [
       "G6                 4\n",
       "C23 C25 C27        4\n",
       "B96 B98            4\n",
       "E101               3\n",
       "D                  3\n",
       "F2                 3\n",
       "C22 C26            3\n",
       "F33                3\n",
       "D36                2\n",
       "B57 B59 B63 B66    2\n",
       "D33                2\n",
       "C125               2\n",
       "B28                2\n",
       "C65                2\n",
       "C123               2\n",
       "E44                2\n",
       "B22                2\n",
       "E25                2\n",
       "C2                 2\n",
       "E33                2\n",
       "C52                2\n",
       "E24                2\n",
       "E121               2\n",
       "C93                2\n",
       "B18                2\n",
       "E67                2\n",
       "B51 B53 B55        2\n",
       "C124               2\n",
       "B5                 2\n",
       "D20                2\n",
       "B77                2\n",
       "B20                2\n",
       "B49                2\n",
       "F4                 2\n",
       "C126               2\n",
       "C78                2\n",
       "C83                2\n",
       "D26                2\n",
       "B35                2\n",
       "C92                2\n",
       "E8                 2\n",
       "D17                2\n",
       "D35                2\n",
       "B58 B60            2\n",
       "F G73              2\n",
       "C68                2\n",
       "F G63              1\n",
       "B101               1\n",
       "A31                1\n",
       "B30                1\n",
       "Name: Cabin, dtype: int64"
      ]
     },
     "execution_count": 58,
     "metadata": {},
     "output_type": "execute_result"
    }
   ],
   "source": [
    "print(\"Number of missing values:\", train[\"Cabin\"].isnull().sum())\n",
    "train[\"Cabin\"].value_counts().head(50)"
   ]
  },
  {
   "cell_type": "markdown",
   "metadata": {
    "papermill": {
     "duration": 0.111248,
     "end_time": "2021-03-02T11:33:40.380452",
     "exception": false,
     "start_time": "2021-03-02T11:33:40.269204",
     "status": "completed"
    },
    "tags": []
   },
   "source": [
    "687 missing values means a lot. Most passengers have own cabins, but there may be some pattern in letters in cabins numbers. First check if everyone in first class have cabin."
   ]
  },
  {
   "cell_type": "code",
   "execution_count": 59,
   "metadata": {
    "execution": {
     "iopub.execute_input": "2021-03-02T11:33:40.608859Z",
     "iopub.status.busy": "2021-03-02T11:33:40.607948Z",
     "iopub.status.idle": "2021-03-02T11:33:40.611473Z",
     "shell.execute_reply": "2021-03-02T11:33:40.612452Z"
    },
    "papermill": {
     "duration": 0.123915,
     "end_time": "2021-03-02T11:33:40.612683",
     "exception": false,
     "start_time": "2021-03-02T11:33:40.488768",
     "status": "completed"
    },
    "tags": []
   },
   "outputs": [
    {
     "name": "stdout",
     "output_type": "stream",
     "text": [
      "1    176\n",
      "2     16\n",
      "3     12\n",
      "Name: Pclass, dtype: int64\n",
      "3    491\n",
      "1    216\n",
      "2    184\n",
      "Name: Pclass, dtype: int64\n"
     ]
    }
   ],
   "source": [
    "print(train[~train.Cabin.isnull()].Pclass.value_counts())\n",
    "print(train.Pclass.value_counts())"
   ]
  },
  {
   "cell_type": "markdown",
   "metadata": {
    "papermill": {
     "duration": 0.109325,
     "end_time": "2021-03-02T11:33:40.831503",
     "exception": false,
     "start_time": "2021-03-02T11:33:40.722178",
     "status": "completed"
    },
    "tags": []
   },
   "source": [
    "Not everyone, and unexpectedly some passengers in second and third class have cabins also. So let's check how many pasengers with cabins survived, depend on cabin letter."
   ]
  },
  {
   "cell_type": "code",
   "execution_count": 60,
   "metadata": {
    "execution": {
     "iopub.execute_input": "2021-03-02T11:33:41.062721Z",
     "iopub.status.busy": "2021-03-02T11:33:41.061284Z",
     "iopub.status.idle": "2021-03-02T11:33:41.074563Z",
     "shell.execute_reply": "2021-03-02T11:33:41.075111Z"
    },
    "papermill": {
     "duration": 0.13383,
     "end_time": "2021-03-02T11:33:41.075289",
     "exception": false,
     "start_time": "2021-03-02T11:33:40.941459",
     "status": "completed"
    },
    "tags": []
   },
   "outputs": [
    {
     "data": {
      "text/html": [
       "<div>\n",
       "<style scoped>\n",
       "    .dataframe tbody tr th:only-of-type {\n",
       "        vertical-align: middle;\n",
       "    }\n",
       "\n",
       "    .dataframe tbody tr th {\n",
       "        vertical-align: top;\n",
       "    }\n",
       "\n",
       "    .dataframe thead th {\n",
       "        text-align: right;\n",
       "    }\n",
       "</style>\n",
       "<table border=\"1\" class=\"dataframe\">\n",
       "  <thead>\n",
       "    <tr style=\"text-align: right;\">\n",
       "      <th></th>\n",
       "      <th>Survived</th>\n",
       "      <th>Cabin</th>\n",
       "      <th>Cabin_letter</th>\n",
       "    </tr>\n",
       "  </thead>\n",
       "  <tbody>\n",
       "    <tr>\n",
       "      <th>1</th>\n",
       "      <td>1</td>\n",
       "      <td>C85</td>\n",
       "      <td>C</td>\n",
       "    </tr>\n",
       "    <tr>\n",
       "      <th>3</th>\n",
       "      <td>1</td>\n",
       "      <td>C123</td>\n",
       "      <td>C</td>\n",
       "    </tr>\n",
       "    <tr>\n",
       "      <th>6</th>\n",
       "      <td>0</td>\n",
       "      <td>E46</td>\n",
       "      <td>E</td>\n",
       "    </tr>\n",
       "    <tr>\n",
       "      <th>10</th>\n",
       "      <td>1</td>\n",
       "      <td>G6</td>\n",
       "      <td>G</td>\n",
       "    </tr>\n",
       "    <tr>\n",
       "      <th>11</th>\n",
       "      <td>1</td>\n",
       "      <td>C103</td>\n",
       "      <td>C</td>\n",
       "    </tr>\n",
       "    <tr>\n",
       "      <th>...</th>\n",
       "      <td>...</td>\n",
       "      <td>...</td>\n",
       "      <td>...</td>\n",
       "    </tr>\n",
       "    <tr>\n",
       "      <th>871</th>\n",
       "      <td>1</td>\n",
       "      <td>D35</td>\n",
       "      <td>D</td>\n",
       "    </tr>\n",
       "    <tr>\n",
       "      <th>872</th>\n",
       "      <td>0</td>\n",
       "      <td>B51 B53 B55</td>\n",
       "      <td>B</td>\n",
       "    </tr>\n",
       "    <tr>\n",
       "      <th>879</th>\n",
       "      <td>1</td>\n",
       "      <td>C50</td>\n",
       "      <td>C</td>\n",
       "    </tr>\n",
       "    <tr>\n",
       "      <th>887</th>\n",
       "      <td>1</td>\n",
       "      <td>B42</td>\n",
       "      <td>B</td>\n",
       "    </tr>\n",
       "    <tr>\n",
       "      <th>889</th>\n",
       "      <td>1</td>\n",
       "      <td>C148</td>\n",
       "      <td>C</td>\n",
       "    </tr>\n",
       "  </tbody>\n",
       "</table>\n",
       "<p>204 rows × 3 columns</p>\n",
       "</div>"
      ],
      "text/plain": [
       "     Survived        Cabin Cabin_letter\n",
       "1           1          C85            C\n",
       "3           1         C123            C\n",
       "6           0          E46            E\n",
       "10          1           G6            G\n",
       "11          1         C103            C\n",
       "..        ...          ...          ...\n",
       "871         1          D35            D\n",
       "872         0  B51 B53 B55            B\n",
       "879         1          C50            C\n",
       "887         1          B42            B\n",
       "889         1         C148            C\n",
       "\n",
       "[204 rows x 3 columns]"
      ]
     },
     "execution_count": 60,
     "metadata": {},
     "output_type": "execute_result"
    }
   ],
   "source": [
    "cabin_df = pd.DataFrame()\n",
    "cabin_df = train[[\"Survived\", \"Cabin\"]].dropna()\n",
    "cabin_df[\"Cabin_letter\"] = cabin_df[\"Cabin\"].str[0]\n",
    "cabin_df"
   ]
  },
  {
   "cell_type": "code",
   "execution_count": 61,
   "metadata": {
    "execution": {
     "iopub.execute_input": "2021-03-02T11:33:41.345741Z",
     "iopub.status.busy": "2021-03-02T11:33:41.338652Z",
     "iopub.status.idle": "2021-03-02T11:33:41.559843Z",
     "shell.execute_reply": "2021-03-02T11:33:41.558769Z"
    },
    "papermill": {
     "duration": 0.375148,
     "end_time": "2021-03-02T11:33:41.560012",
     "exception": false,
     "start_time": "2021-03-02T11:33:41.184864",
     "status": "completed"
    },
    "tags": []
   },
   "outputs": [
    {
     "data": {
      "text/plain": [
       "<AxesSubplot:xlabel='Cabin_letter', ylabel='count'>"
      ]
     },
     "execution_count": 61,
     "metadata": {},
     "output_type": "execute_result"
    },
    {
     "data": {
      "image/png": "[encoded data removed]",
      "text/plain": [
       "<Figure size 432x288 with 1 Axes>"
      ]
     },
     "metadata": {
      "needs_background": "light"
     },
     "output_type": "display_data"
    }
   ],
   "source": [
    "sns.countplot(x=\"Cabin_letter\", hue=\"Survived\", data=cabin_df)"
   ]
  },
  {
   "cell_type": "markdown",
   "metadata": {
    "papermill": {
     "duration": 0.112168,
     "end_time": "2021-03-02T11:33:41.783546",
     "exception": false,
     "start_time": "2021-03-02T11:33:41.671378",
     "status": "completed"
    },
    "tags": []
   },
   "source": [
    "As we may expect (since we know that many of first class passengers survived and most of them have own cabin) more passengers with cabins survived than not. But we have some disproportion between A, F, G and E, D, B cabins. It could help us. Let's add this column with fill our NaNs as \"N\" cabin."
   ]
  },
  {
   "cell_type": "code",
   "execution_count": 62,
   "metadata": {
    "execution": {
     "iopub.execute_input": "2021-03-02T11:33:42.014779Z",
     "iopub.status.busy": "2021-03-02T11:33:42.013160Z",
     "iopub.status.idle": "2021-03-02T11:33:42.030191Z",
     "shell.execute_reply": "2021-03-02T11:33:42.030755Z"
    },
    "papermill": {
     "duration": 0.136034,
     "end_time": "2021-03-02T11:33:42.030933",
     "exception": false,
     "start_time": "2021-03-02T11:33:41.894899",
     "status": "completed"
    },
    "tags": []
   },
   "outputs": [
    {
     "data": {
      "text/html": [
       "<div>\n",
       "<style scoped>\n",
       "    .dataframe tbody tr th:only-of-type {\n",
       "        vertical-align: middle;\n",
       "    }\n",
       "\n",
       "    .dataframe tbody tr th {\n",
       "        vertical-align: top;\n",
       "    }\n",
       "\n",
       "    .dataframe thead th {\n",
       "        text-align: right;\n",
       "    }\n",
       "</style>\n",
       "<table border=\"1\" class=\"dataframe\">\n",
       "  <thead>\n",
       "    <tr style=\"text-align: right;\">\n",
       "      <th></th>\n",
       "      <th>Survived</th>\n",
       "      <th>Age</th>\n",
       "      <th>Embarked</th>\n",
       "      <th>Cabin_letter</th>\n",
       "    </tr>\n",
       "  </thead>\n",
       "  <tbody>\n",
       "    <tr>\n",
       "      <th>0</th>\n",
       "      <td>0</td>\n",
       "      <td>(20, 30]</td>\n",
       "      <td>S</td>\n",
       "      <td>N</td>\n",
       "    </tr>\n",
       "    <tr>\n",
       "      <th>1</th>\n",
       "      <td>1</td>\n",
       "      <td>(30, 40]</td>\n",
       "      <td>C</td>\n",
       "      <td>C</td>\n",
       "    </tr>\n",
       "    <tr>\n",
       "      <th>2</th>\n",
       "      <td>1</td>\n",
       "      <td>(20, 30]</td>\n",
       "      <td>S</td>\n",
       "      <td>N</td>\n",
       "    </tr>\n",
       "    <tr>\n",
       "      <th>3</th>\n",
       "      <td>1</td>\n",
       "      <td>(30, 40]</td>\n",
       "      <td>S</td>\n",
       "      <td>C</td>\n",
       "    </tr>\n",
       "    <tr>\n",
       "      <th>4</th>\n",
       "      <td>0</td>\n",
       "      <td>(30, 40]</td>\n",
       "      <td>S</td>\n",
       "      <td>N</td>\n",
       "    </tr>\n",
       "    <tr>\n",
       "      <th>...</th>\n",
       "      <td>...</td>\n",
       "      <td>...</td>\n",
       "      <td>...</td>\n",
       "      <td>...</td>\n",
       "    </tr>\n",
       "    <tr>\n",
       "      <th>886</th>\n",
       "      <td>0</td>\n",
       "      <td>(20, 30]</td>\n",
       "      <td>S</td>\n",
       "      <td>N</td>\n",
       "    </tr>\n",
       "    <tr>\n",
       "      <th>887</th>\n",
       "      <td>1</td>\n",
       "      <td>(10, 20]</td>\n",
       "      <td>S</td>\n",
       "      <td>B</td>\n",
       "    </tr>\n",
       "    <tr>\n",
       "      <th>888</th>\n",
       "      <td>0</td>\n",
       "      <td>(20, 30]</td>\n",
       "      <td>S</td>\n",
       "      <td>N</td>\n",
       "    </tr>\n",
       "    <tr>\n",
       "      <th>889</th>\n",
       "      <td>1</td>\n",
       "      <td>(20, 30]</td>\n",
       "      <td>C</td>\n",
       "      <td>C</td>\n",
       "    </tr>\n",
       "    <tr>\n",
       "      <th>890</th>\n",
       "      <td>0</td>\n",
       "      <td>(30, 40]</td>\n",
       "      <td>Q</td>\n",
       "      <td>N</td>\n",
       "    </tr>\n",
       "  </tbody>\n",
       "</table>\n",
       "<p>891 rows × 4 columns</p>\n",
       "</div>"
      ],
      "text/plain": [
       "     Survived       Age Embarked Cabin_letter\n",
       "0           0  (20, 30]        S            N\n",
       "1           1  (30, 40]        C            C\n",
       "2           1  (20, 30]        S            N\n",
       "3           1  (30, 40]        S            C\n",
       "4           0  (30, 40]        S            N\n",
       "..        ...       ...      ...          ...\n",
       "886         0  (20, 30]        S            N\n",
       "887         1  (10, 20]        S            B\n",
       "888         0  (20, 30]        S            N\n",
       "889         1  (20, 30]        C            C\n",
       "890         0  (30, 40]        Q            N\n",
       "\n",
       "[891 rows x 4 columns]"
      ]
     },
     "execution_count": 62,
     "metadata": {},
     "output_type": "execute_result"
    }
   ],
   "source": [
    "new_train[\"Cabin_letter\"] = train[\"Cabin\"].fillna(\"None\").str[0]\n",
    "new_train"
   ]
  },
  {
   "cell_type": "markdown",
   "metadata": {
    "papermill": {
     "duration": 0.111249,
     "end_time": "2021-03-02T11:33:42.254570",
     "exception": false,
     "start_time": "2021-03-02T11:33:42.143321",
     "status": "completed"
    },
    "tags": []
   },
   "source": [
    "So far so good.\n",
    "\n",
    "Check if we could do something with Name column."
   ]
  },
  {
   "cell_type": "code",
   "execution_count": 63,
   "metadata": {
    "execution": {
     "iopub.execute_input": "2021-03-02T11:33:42.481941Z",
     "iopub.status.busy": "2021-03-02T11:33:42.481305Z",
     "iopub.status.idle": "2021-03-02T11:33:42.489138Z",
     "shell.execute_reply": "2021-03-02T11:33:42.489658Z"
    },
    "papermill": {
     "duration": 0.123189,
     "end_time": "2021-03-02T11:33:42.489829",
     "exception": false,
     "start_time": "2021-03-02T11:33:42.366640",
     "status": "completed"
    },
    "tags": []
   },
   "outputs": [
    {
     "data": {
      "text/plain": [
       "0                               Braund, Mr. Owen Harris\n",
       "1     Cumings, Mrs. John Bradley (Florence Briggs Th...\n",
       "2                                Heikkinen, Miss. Laina\n",
       "3          Futrelle, Mrs. Jacques Heath (Lily May Peel)\n",
       "4                              Allen, Mr. William Henry\n",
       "5                                      Moran, Mr. James\n",
       "6                               McCarthy, Mr. Timothy J\n",
       "7                        Palsson, Master. Gosta Leonard\n",
       "8     Johnson, Mrs. Oscar W (Elisabeth Vilhelmina Berg)\n",
       "9                   Nasser, Mrs. Nicholas (Adele Achem)\n",
       "10                      Sandstrom, Miss. Marguerite Rut\n",
       "11                             Bonnell, Miss. Elizabeth\n",
       "12                       Saundercock, Mr. William Henry\n",
       "13                          Andersson, Mr. Anders Johan\n",
       "14                 Vestrom, Miss. Hulda Amanda Adolfina\n",
       "15                     Hewlett, Mrs. (Mary D Kingcome) \n",
       "16                                 Rice, Master. Eugene\n",
       "17                         Williams, Mr. Charles Eugene\n",
       "18    Vander Planke, Mrs. Julius (Emelia Maria Vande...\n",
       "19                              Masselmani, Mrs. Fatima\n",
       "20                                 Fynney, Mr. Joseph J\n",
       "21                                Beesley, Mr. Lawrence\n",
       "22                          McGowan, Miss. Anna \"Annie\"\n",
       "23                         Sloper, Mr. William Thompson\n",
       "24                        Palsson, Miss. Torborg Danira\n",
       "25    Asplund, Mrs. Carl Oscar (Selma Augusta Emilia...\n",
       "26                              Emir, Mr. Farred Chehab\n",
       "27                       Fortune, Mr. Charles Alexander\n",
       "28                        O'Dwyer, Miss. Ellen \"Nellie\"\n",
       "29                                  Todoroff, Mr. Lalio\n",
       "30                             Uruchurtu, Don. Manuel E\n",
       "31       Spencer, Mrs. William Augustus (Marie Eugenie)\n",
       "32                             Glynn, Miss. Mary Agatha\n",
       "33                                Wheadon, Mr. Edward H\n",
       "34                              Meyer, Mr. Edgar Joseph\n",
       "35                       Holverson, Mr. Alexander Oskar\n",
       "36                                     Mamee, Mr. Hanna\n",
       "37                             Cann, Mr. Ernest Charles\n",
       "38                   Vander Planke, Miss. Augusta Maria\n",
       "39                          Nicola-Yarred, Miss. Jamila\n",
       "40       Ahlin, Mrs. Johan (Johanna Persdotter Larsson)\n",
       "41    Turpin, Mrs. William John Robert (Dorothy Ann ...\n",
       "42                                  Kraeff, Mr. Theodor\n",
       "43             Laroche, Miss. Simonne Marie Anne Andree\n",
       "44                        Devaney, Miss. Margaret Delia\n",
       "45                             Rogers, Mr. William John\n",
       "46                                    Lennon, Mr. Denis\n",
       "47                            O'Driscoll, Miss. Bridget\n",
       "48                                  Samaan, Mr. Youssef\n",
       "49        Arnold-Franchi, Mrs. Josef (Josefine Franchi)\n",
       "Name: Name, dtype: object"
      ]
     },
     "execution_count": 63,
     "metadata": {},
     "output_type": "execute_result"
    }
   ],
   "source": [
    "train[\"Name\"].head(50)"
   ]
  },
  {
   "cell_type": "code",
   "execution_count": 64,
   "metadata": {
    "execution": {
     "iopub.execute_input": "2021-03-02T11:33:42.833798Z",
     "iopub.status.busy": "2021-03-02T11:33:42.832659Z",
     "iopub.status.idle": "2021-03-02T11:33:43.183836Z",
     "shell.execute_reply": "2021-03-02T11:33:43.183185Z"
    },
    "papermill": {
     "duration": 0.58216,
     "end_time": "2021-03-02T11:33:43.184002",
     "exception": false,
     "start_time": "2021-03-02T11:33:42.601842",
     "status": "completed"
    },
    "tags": []
   },
   "outputs": [
    {
     "data": {
      "text/plain": [
       "<AxesSubplot:xlabel='Title', ylabel='count'>"
      ]
     },
     "execution_count": 64,
     "metadata": {},
     "output_type": "execute_result"
    },
    {
     "data": {
      "image/png": "[encoded data removed]",
      "text/plain": [
       "<Figure size 432x288 with 1 Axes>"
      ]
     },
     "metadata": {
      "needs_background": "light"
     },
     "output_type": "display_data"
    }
   ],
   "source": [
    "split_names = train[\"Name\"].str.split('.')\n",
    "titles = [x[0].split(',')[1].strip() for x in split_names]\n",
    "titles_df = pd.DataFrame()\n",
    "titles_df[\"Title\"] = titles\n",
    "titles_df[\"Survived\"] = train[\"Survived\"]\n",
    "sns.countplot(x=\"Title\", hue=\"Survived\", data=titles_df)"
   ]
  },
  {
   "cell_type": "code",
   "execution_count": 65,
   "metadata": {
    "execution": {
     "iopub.execute_input": "2021-03-02T11:33:43.413630Z",
     "iopub.status.busy": "2021-03-02T11:33:43.412937Z",
     "iopub.status.idle": "2021-03-02T11:33:43.420277Z",
     "shell.execute_reply": "2021-03-02T11:33:43.420797Z"
    },
    "papermill": {
     "duration": 0.124192,
     "end_time": "2021-03-02T11:33:43.420985",
     "exception": false,
     "start_time": "2021-03-02T11:33:43.296793",
     "status": "completed"
    },
    "tags": []
   },
   "outputs": [
    {
     "data": {
      "text/plain": [
       "Mr              517\n",
       "Miss            182\n",
       "Mrs             125\n",
       "Master           40\n",
       "Dr                7\n",
       "Rev               6\n",
       "Col               2\n",
       "Major             2\n",
       "Mlle              2\n",
       "Capt              1\n",
       "Don               1\n",
       "Lady              1\n",
       "Sir               1\n",
       "Jonkheer          1\n",
       "Mme               1\n",
       "Ms                1\n",
       "the Countess      1\n",
       "Name: Title, dtype: int64"
      ]
     },
     "execution_count": 65,
     "metadata": {},
     "output_type": "execute_result"
    }
   ],
   "source": [
    "titles_df[\"Title\"].value_counts()"
   ]
  },
  {
   "cell_type": "markdown",
   "metadata": {
    "papermill": {
     "duration": 0.114087,
     "end_time": "2021-03-02T11:33:43.648800",
     "exception": false,
     "start_time": "2021-03-02T11:33:43.534713",
     "status": "completed"
    },
    "tags": []
   },
   "source": [
    "Probably nothing we can do here. Mr and Miss/Mrs titles will give us same results as Sex column. Master title have quite good survive %, but we don't add this column to our train.\n",
    "\n",
    "We also drop Ticket, chceck this column."
   ]
  },
  {
   "cell_type": "code",
   "execution_count": 66,
   "metadata": {
    "execution": {
     "iopub.execute_input": "2021-03-02T11:33:43.879630Z",
     "iopub.status.busy": "2021-03-02T11:33:43.878811Z",
     "iopub.status.idle": "2021-03-02T11:33:43.885607Z",
     "shell.execute_reply": "2021-03-02T11:33:43.886185Z"
    },
    "papermill": {
     "duration": 0.124323,
     "end_time": "2021-03-02T11:33:43.886423",
     "exception": false,
     "start_time": "2021-03-02T11:33:43.762100",
     "status": "completed"
    },
    "tags": []
   },
   "outputs": [
    {
     "data": {
      "text/plain": [
       "0             A/5 21171\n",
       "1              PC 17599\n",
       "2      STON/O2. 3101282\n",
       "3                113803\n",
       "4                373450\n",
       "             ...       \n",
       "886              211536\n",
       "887              112053\n",
       "888          W./C. 6607\n",
       "889              111369\n",
       "890              370376\n",
       "Name: Ticket, Length: 891, dtype: object"
      ]
     },
     "execution_count": 66,
     "metadata": {},
     "output_type": "execute_result"
    }
   ],
   "source": [
    "train[\"Ticket\"]"
   ]
  },
  {
   "cell_type": "code",
   "execution_count": 67,
   "metadata": {
    "execution": {
     "iopub.execute_input": "2021-03-02T11:33:44.118423Z",
     "iopub.status.busy": "2021-03-02T11:33:44.117726Z",
     "iopub.status.idle": "2021-03-02T11:33:44.126157Z",
     "shell.execute_reply": "2021-03-02T11:33:44.126663Z"
    },
    "papermill": {
     "duration": 0.126094,
     "end_time": "2021-03-02T11:33:44.126837",
     "exception": false,
     "start_time": "2021-03-02T11:33:44.000743",
     "status": "completed"
    },
    "tags": []
   },
   "outputs": [
    {
     "data": {
      "text/plain": [
       "347082           7\n",
       "1601             7\n",
       "CA. 2343         7\n",
       "CA 2144          6\n",
       "347088           6\n",
       "3101295          6\n",
       "382652           5\n",
       "S.O.C. 14879     5\n",
       "W./C. 6608       4\n",
       "19950            4\n",
       "LINE             4\n",
       "17421            4\n",
       "4133             4\n",
       "113760           4\n",
       "PC 17757         4\n",
       "113781           4\n",
       "2666             4\n",
       "347077           4\n",
       "349909           4\n",
       "SC/Paris 2123    3\n",
       "F.C.C. 13529     3\n",
       "239853           3\n",
       "C.A. 34651       3\n",
       "248727           3\n",
       "PC 17755         3\n",
       "29106            3\n",
       "347742           3\n",
       "13502            3\n",
       "PC 17572         3\n",
       "C.A. 31921       3\n",
       "PC 17582         3\n",
       "24160            3\n",
       "345773           3\n",
       "110413           3\n",
       "PC 17760         3\n",
       "35273            3\n",
       "371110           3\n",
       "363291           3\n",
       "230080           3\n",
       "110152           3\n",
       "345764           2\n",
       "349237           2\n",
       "110465           2\n",
       "A/4 48871        2\n",
       "113803           2\n",
       "S.O./P.P. 3      2\n",
       "113806           2\n",
       "2651             2\n",
       "370365           2\n",
       "111361           2\n",
       "Name: Ticket, dtype: int64"
      ]
     },
     "execution_count": 67,
     "metadata": {},
     "output_type": "execute_result"
    }
   ],
   "source": [
    "train[\"Ticket\"].value_counts().head(50)"
   ]
  },
  {
   "cell_type": "code",
   "execution_count": 68,
   "metadata": {
    "execution": {
     "iopub.execute_input": "2021-03-02T11:33:44.360960Z",
     "iopub.status.busy": "2021-03-02T11:33:44.360218Z",
     "iopub.status.idle": "2021-03-02T11:33:44.383660Z",
     "shell.execute_reply": "2021-03-02T11:33:44.384270Z"
    },
    "papermill": {
     "duration": 0.143054,
     "end_time": "2021-03-02T11:33:44.384455",
     "exception": false,
     "start_time": "2021-03-02T11:33:44.241401",
     "status": "completed"
    },
    "tags": []
   },
   "outputs": [
    {
     "data": {
      "text/plain": [
       "['21171',\n",
       " '17599',\n",
       " '3101282',\n",
       " '113803',\n",
       " '373450',\n",
       " '330877',\n",
       " '17463',\n",
       " '349909',\n",
       " '347742',\n",
       " '237736',\n",
       " '9549',\n",
       " '113783',\n",
       " '2151',\n",
       " '347082',\n",
       " '350406',\n",
       " '248706',\n",
       " '382652',\n",
       " '244373',\n",
       " '345763',\n",
       " '2649',\n",
       " '239865',\n",
       " '248698',\n",
       " '330923',\n",
       " '113788',\n",
       " '349909',\n",
       " '347077',\n",
       " '2631',\n",
       " '19950',\n",
       " '330959',\n",
       " '349216',\n",
       " '17601',\n",
       " '17569',\n",
       " '335677',\n",
       " '24579',\n",
       " '17604',\n",
       " '113789',\n",
       " '2677',\n",
       " '2152',\n",
       " '345764',\n",
       " '2651',\n",
       " '7546',\n",
       " '11668',\n",
       " '349253',\n",
       " '2123',\n",
       " '330958',\n",
       " '23567',\n",
       " '370371',\n",
       " '14311',\n",
       " '2662',\n",
       " '349237',\n",
       " '3101295',\n",
       " '39886',\n",
       " '17572',\n",
       " '2926',\n",
       " '113509',\n",
       " '19947',\n",
       " '31026',\n",
       " '2697',\n",
       " '34651',\n",
       " '2144',\n",
       " '2669',\n",
       " '113572',\n",
       " '36973',\n",
       " '347088',\n",
       " '17605',\n",
       " '2661',\n",
       " '29395',\n",
       " '3464',\n",
       " '3101281',\n",
       " '315151',\n",
       " '33111',\n",
       " '2144',\n",
       " '14879',\n",
       " '2680',\n",
       " '1601',\n",
       " '348123',\n",
       " '349208',\n",
       " '374746',\n",
       " '248738',\n",
       " '364516',\n",
       " '345767',\n",
       " '345779',\n",
       " '330932',\n",
       " '113059',\n",
       " '14885',\n",
       " '3101278',\n",
       " '6608',\n",
       " '392086',\n",
       " '19950',\n",
       " '343275',\n",
       " '343276',\n",
       " '347466',\n",
       " '5734',\n",
       " '2315',\n",
       " '364500',\n",
       " '374910',\n",
       " '17754',\n",
       " '17759',\n",
       " '231919',\n",
       " '244367',\n",
       " '349245',\n",
       " '349215',\n",
       " '35281',\n",
       " '7540',\n",
       " '3101276',\n",
       " '349207',\n",
       " '343120',\n",
       " '312991',\n",
       " '349249',\n",
       " '371110',\n",
       " '110465',\n",
       " '2665',\n",
       " '324669',\n",
       " '4136',\n",
       " '2627',\n",
       " '2.',\n",
       " '370369',\n",
       " '11668',\n",
       " '17558',\n",
       " '347082',\n",
       " '14879',\n",
       " '54510',\n",
       " '237736',\n",
       " '27267',\n",
       " '35281',\n",
       " '2651',\n",
       " '370372',\n",
       " '17369',\n",
       " '2668',\n",
       " '347061',\n",
       " '349241',\n",
       " '3101307',\n",
       " '3337',\n",
       " '228414',\n",
       " '29178',\n",
       " '2133',\n",
       " '11752',\n",
       " '113803',\n",
       " '7534',\n",
       " '17593',\n",
       " '2678',\n",
       " '347081',\n",
       " '3101279',\n",
       " '365222',\n",
       " '231945',\n",
       " '33112',\n",
       " '350043',\n",
       " '6608',\n",
       " '230080',\n",
       " '244310',\n",
       " '1166',\n",
       " '113776',\n",
       " '11206',\n",
       " '851',\n",
       " '265302',\n",
       " '17597',\n",
       " '35851',\n",
       " '392090',\n",
       " '315037',\n",
       " '2343',\n",
       " '371362',\n",
       " '33595',\n",
       " '347068',\n",
       " '315093',\n",
       " '3101295',\n",
       " '363291',\n",
       " '113505',\n",
       " '347088',\n",
       " '17318',\n",
       " '1601',\n",
       " '111240',\n",
       " '382652',\n",
       " '347742',\n",
       " '2.',\n",
       " '17764',\n",
       " '350404',\n",
       " '4133',\n",
       " '17595',\n",
       " '250653',\n",
       " 'LINE',\n",
       " '2343',\n",
       " '2131',\n",
       " '347077',\n",
       " '230136',\n",
       " '315153',\n",
       " '113767',\n",
       " '370365',\n",
       " '111428',\n",
       " '364849',\n",
       " '349247',\n",
       " '234604',\n",
       " '28424',\n",
       " '350046',\n",
       " '230080',\n",
       " '17610',\n",
       " '17569',\n",
       " '368703',\n",
       " '4579',\n",
       " '370370',\n",
       " '248747',\n",
       " '345770',\n",
       " '2343',\n",
       " '3101264',\n",
       " '2628',\n",
       " '3540',\n",
       " '347054',\n",
       " '3101278',\n",
       " '2699',\n",
       " '367231',\n",
       " '112277',\n",
       " '3101311',\n",
       " '13528',\n",
       " '21174',\n",
       " '250646',\n",
       " '367229',\n",
       " '35273',\n",
       " '3101283',\n",
       " '243847',\n",
       " '11813',\n",
       " '14208',\n",
       " '392089',\n",
       " '220367',\n",
       " '21440',\n",
       " '349234',\n",
       " '19943',\n",
       " '4348',\n",
       " '751',\n",
       " '21173',\n",
       " '236171',\n",
       " '4133',\n",
       " '36973',\n",
       " '347067',\n",
       " '237442',\n",
       " '347077',\n",
       " '29566',\n",
       " '6609',\n",
       " '26707',\n",
       " '31921',\n",
       " '28665',\n",
       " '1585',\n",
       " '2665',\n",
       " '367230',\n",
       " '14263',\n",
       " '2.',\n",
       " '2694',\n",
       " '19928',\n",
       " '347071',\n",
       " '250649',\n",
       " '11751',\n",
       " '244252',\n",
       " '362316',\n",
       " '347054',\n",
       " '113514',\n",
       " '3336',\n",
       " '370129',\n",
       " '2650',\n",
       " '17585',\n",
       " '110152',\n",
       " '17755',\n",
       " '230433',\n",
       " '384461',\n",
       " '347077',\n",
       " '110413',\n",
       " '112059',\n",
       " '382649',\n",
       " '17248',\n",
       " '3101295',\n",
       " '347083',\n",
       " '17582',\n",
       " '17760',\n",
       " '113798',\n",
       " 'LINE',\n",
       " '250644',\n",
       " '17596',\n",
       " '370375',\n",
       " '13502',\n",
       " '347073',\n",
       " '239853',\n",
       " '382652',\n",
       " '2673',\n",
       " '336439',\n",
       " '347464',\n",
       " '345778',\n",
       " '10482',\n",
       " '113056',\n",
       " '349239',\n",
       " '345774',\n",
       " '349206',\n",
       " '237798',\n",
       " '370373',\n",
       " '19877',\n",
       " '11967',\n",
       " '2163',\n",
       " '349236',\n",
       " '349233',\n",
       " '17612',\n",
       " '2693',\n",
       " '113781',\n",
       " '19988',\n",
       " '17558',\n",
       " '9234',\n",
       " '367226',\n",
       " 'LINE',\n",
       " '226593',\n",
       " '2466',\n",
       " '113781',\n",
       " '17421',\n",
       " '17758',\n",
       " '3381',\n",
       " '17485',\n",
       " '11767',\n",
       " '17608',\n",
       " '250651',\n",
       " '349243',\n",
       " '13529',\n",
       " '347470',\n",
       " '244367',\n",
       " '29011',\n",
       " '36928',\n",
       " '16966',\n",
       " '21172',\n",
       " '349219',\n",
       " '234818',\n",
       " '248738',\n",
       " '2343',\n",
       " '17760',\n",
       " '345364',\n",
       " '28551',\n",
       " '363291',\n",
       " '111361',\n",
       " '367226',\n",
       " '113043',\n",
       " '17582',\n",
       " '345764',\n",
       " '17611',\n",
       " '349225',\n",
       " '113776',\n",
       " '16966',\n",
       " '7598',\n",
       " '113784',\n",
       " '230080',\n",
       " '19950',\n",
       " '248740',\n",
       " '244361',\n",
       " '229236',\n",
       " '248733',\n",
       " '31418',\n",
       " '386525',\n",
       " '37671',\n",
       " '315088',\n",
       " '7267',\n",
       " '113510',\n",
       " '2695',\n",
       " '349237',\n",
       " '2647',\n",
       " '345783',\n",
       " '113505',\n",
       " '237671',\n",
       " '330931',\n",
       " '330980',\n",
       " '347088',\n",
       " '2167',\n",
       " '2691',\n",
       " '3101310',\n",
       " '370365',\n",
       " '7076',\n",
       " '110813',\n",
       " '2626',\n",
       " '14313',\n",
       " '17477',\n",
       " '11765',\n",
       " '3101267',\n",
       " '323951',\n",
       " '17760',\n",
       " '349909',\n",
       " '17604',\n",
       " '7077',\n",
       " '113503',\n",
       " '2648',\n",
       " '347069',\n",
       " '17757',\n",
       " '2653',\n",
       " '2.',\n",
       " '113789',\n",
       " '349227',\n",
       " '14879',\n",
       " '2144',\n",
       " '27849',\n",
       " '367655',\n",
       " '1748',\n",
       " '113760',\n",
       " '350034',\n",
       " '3101277',\n",
       " '35273',\n",
       " '9549',\n",
       " '350052',\n",
       " '350407',\n",
       " '28403',\n",
       " '244278',\n",
       " '240929',\n",
       " '2.',\n",
       " '341826',\n",
       " '4137',\n",
       " '3101279',\n",
       " '315096',\n",
       " '28664',\n",
       " '347064',\n",
       " '29106',\n",
       " '312992',\n",
       " '4133',\n",
       " '349222',\n",
       " '394140',\n",
       " '19928',\n",
       " '239853',\n",
       " '2.',\n",
       " '343095',\n",
       " '28220',\n",
       " '250652',\n",
       " '28228',\n",
       " '345773',\n",
       " '349254',\n",
       " '13032',\n",
       " '315082',\n",
       " '347080',\n",
       " '370129',\n",
       " '34244',\n",
       " '2003',\n",
       " '250655',\n",
       " '364851',\n",
       " '392078',\n",
       " '110564',\n",
       " '376564',\n",
       " '3085',\n",
       " '2.',\n",
       " '13507',\n",
       " '113760',\n",
       " '6608',\n",
       " '29106',\n",
       " '19950',\n",
       " '18723',\n",
       " '13529',\n",
       " '345769',\n",
       " '347076',\n",
       " '230434',\n",
       " '65306',\n",
       " '33638',\n",
       " '250644',\n",
       " '113794',\n",
       " '2666',\n",
       " '113786',\n",
       " '34651',\n",
       " '65303',\n",
       " '113051',\n",
       " '17453',\n",
       " '2817',\n",
       " '349240',\n",
       " '13509',\n",
       " '17464',\n",
       " '13531',\n",
       " '371060',\n",
       " '19952',\n",
       " '364506',\n",
       " '111320',\n",
       " '234360',\n",
       " '2816',\n",
       " '3101306',\n",
       " '239853',\n",
       " '113792',\n",
       " '36209',\n",
       " '2666',\n",
       " '323592',\n",
       " '315089',\n",
       " '34651',\n",
       " 'Basle',\n",
       " '7553',\n",
       " '110465',\n",
       " '31027',\n",
       " '3460',\n",
       " '350060',\n",
       " '3101298',\n",
       " '2144',\n",
       " '239854',\n",
       " '3594',\n",
       " '4134',\n",
       " '11967',\n",
       " '4133',\n",
       " '19943',\n",
       " '11771',\n",
       " '18509',\n",
       " '37671',\n",
       " '65304',\n",
       " '3101317',\n",
       " '113787',\n",
       " '17609',\n",
       " '45380',\n",
       " '2627',\n",
       " '36947',\n",
       " '6212',\n",
       " '113781',\n",
       " '350035',\n",
       " '315086',\n",
       " '364846',\n",
       " '330909',\n",
       " '4135',\n",
       " '110152',\n",
       " '17758',\n",
       " '26360',\n",
       " '111427',\n",
       " '4001',\n",
       " '1601',\n",
       " '382651',\n",
       " '3101316',\n",
       " '17473',\n",
       " '17603',\n",
       " '349209',\n",
       " '36967',\n",
       " '34260',\n",
       " '371110',\n",
       " '226875',\n",
       " '349242',\n",
       " '12749',\n",
       " '349252',\n",
       " '2624',\n",
       " '111361',\n",
       " '2700',\n",
       " '367232',\n",
       " '14258',\n",
       " '17483',\n",
       " '3101296',\n",
       " '29104',\n",
       " '26360',\n",
       " '2641',\n",
       " '2690',\n",
       " '2668',\n",
       " '315084',\n",
       " '13529',\n",
       " '113050',\n",
       " '17761',\n",
       " '364498',\n",
       " '13568',\n",
       " '5735',\n",
       " '347082',\n",
       " '347082',\n",
       " '2908',\n",
       " '17761',\n",
       " '693',\n",
       " '2908',\n",
       " '2146',\n",
       " '363291',\n",
       " '33112',\n",
       " '17421',\n",
       " '244358',\n",
       " '330979',\n",
       " '2620',\n",
       " '347085',\n",
       " '113807',\n",
       " '11755',\n",
       " '17757',\n",
       " '110413',\n",
       " '345572',\n",
       " '372622',\n",
       " '349251',\n",
       " '218629',\n",
       " '392082',\n",
       " '392087',\n",
       " '48871',\n",
       " '349205',\n",
       " '349909',\n",
       " '2686',\n",
       " '350417',\n",
       " '752',\n",
       " '11769',\n",
       " '17474',\n",
       " '14312',\n",
       " '20589',\n",
       " '358585',\n",
       " '243880',\n",
       " '13507',\n",
       " '2689',\n",
       " '2.',\n",
       " '237789',\n",
       " '17421',\n",
       " '28403',\n",
       " '13049',\n",
       " '3411',\n",
       " '110413',\n",
       " '237565',\n",
       " '13567',\n",
       " '14973',\n",
       " '3235',\n",
       " '2.',\n",
       " '36947',\n",
       " '3902',\n",
       " '364848',\n",
       " '29037',\n",
       " '345773',\n",
       " '248727',\n",
       " 'LINE',\n",
       " '2664',\n",
       " '17485',\n",
       " '243847',\n",
       " '349214',\n",
       " '113796',\n",
       " '364511',\n",
       " '111426',\n",
       " '349910',\n",
       " '349246',\n",
       " '113804',\n",
       " '2123',\n",
       " '17582',\n",
       " '347082',\n",
       " '3101305',\n",
       " '367230',\n",
       " '370377',\n",
       " '364512',\n",
       " '220845',\n",
       " '347080',\n",
       " '3336',\n",
       " '230136',\n",
       " '31028',\n",
       " '2659',\n",
       " '11753',\n",
       " '2653',\n",
       " '350029',\n",
       " '54636',\n",
       " '36963',\n",
       " '219533',\n",
       " '13502',\n",
       " '349224',\n",
       " '334912',\n",
       " '27042',\n",
       " '347743',\n",
       " '13214',\n",
       " '112052',\n",
       " '347088',\n",
       " '237668',\n",
       " '2.',\n",
       " '31921',\n",
       " '3101295',\n",
       " '376564',\n",
       " '350050',\n",
       " '17477',\n",
       " '347088',\n",
       " '1601',\n",
       " '2666',\n",
       " '17572',\n",
       " '349231',\n",
       " '13213',\n",
       " '751',\n",
       " '2314',\n",
       " '349221',\n",
       " '231919',\n",
       " '8475',\n",
       " '330919',\n",
       " '365226',\n",
       " '14879',\n",
       " '349223',\n",
       " '364849',\n",
       " '29751',\n",
       " '35273',\n",
       " '17611',\n",
       " '2623',\n",
       " '5727',\n",
       " '349210',\n",
       " '2.',\n",
       " '14879',\n",
       " '234686',\n",
       " '312993',\n",
       " '3536',\n",
       " '19996',\n",
       " '29750',\n",
       " '12750',\n",
       " '24580',\n",
       " '244270',\n",
       " '239856',\n",
       " '349912',\n",
       " '342826',\n",
       " '4138',\n",
       " '2144',\n",
       " '17755',\n",
       " '330935',\n",
       " '17572',\n",
       " '6563',\n",
       " '2144',\n",
       " '29750',\n",
       " '2123',\n",
       " '3101295',\n",
       " '349228',\n",
       " '350036',\n",
       " '24160',\n",
       " '17474',\n",
       " '349256',\n",
       " '1601',\n",
       " '2672',\n",
       " '113800',\n",
       " '248731',\n",
       " '363592',\n",
       " '35852',\n",
       " '17421',\n",
       " '348121',\n",
       " '17757',\n",
       " '17475',\n",
       " '2691',\n",
       " '36864',\n",
       " '350025',\n",
       " '250655',\n",
       " '223596',\n",
       " '17476',\n",
       " '113781',\n",
       " '2661',\n",
       " '17482',\n",
       " '113028',\n",
       " '19996',\n",
       " '7545',\n",
       " '250647',\n",
       " '348124',\n",
       " '17757',\n",
       " '34218',\n",
       " '36568',\n",
       " '347062',\n",
       " '248727',\n",
       " '350048',\n",
       " '12233',\n",
       " '250643',\n",
       " '113806',\n",
       " '315094',\n",
       " '31027',\n",
       " '36866',\n",
       " '236853',\n",
       " '3101271',\n",
       " '24160',\n",
       " '2699',\n",
       " '239855',\n",
       " '28425',\n",
       " '233639',\n",
       " '54636',\n",
       " '6608',\n",
       " '17755',\n",
       " '349201',\n",
       " '349218',\n",
       " '16988',\n",
       " '19877',\n",
       " '17608',\n",
       " '376566',\n",
       " '2.',\n",
       " '5735',\n",
       " '2673',\n",
       " '250648',\n",
       " '113773',\n",
       " '335097',\n",
       " '29103',\n",
       " '392096',\n",
       " '345780',\n",
       " '349204',\n",
       " '220845',\n",
       " '250649',\n",
       " '350042',\n",
       " '29108',\n",
       " '363294',\n",
       " '110152',\n",
       " '358585',\n",
       " '3101272',\n",
       " '2663',\n",
       " '113760',\n",
       " '347074',\n",
       " '13502',\n",
       " '112379',\n",
       " '364850',\n",
       " '371110',\n",
       " '8471',\n",
       " '345781',\n",
       " '350047',\n",
       " '3',\n",
       " '2674',\n",
       " '29105',\n",
       " '347078',\n",
       " '383121',\n",
       " '364516',\n",
       " '36865',\n",
       " '24160',\n",
       " '2687',\n",
       " '17474',\n",
       " '113501',\n",
       " '6607',\n",
       " '3101312',\n",
       " '374887',\n",
       " '3101265',\n",
       " '382652',\n",
       " '2315',\n",
       " '17593',\n",
       " '12460',\n",
       " '239865',\n",
       " '2343',\n",
       " '17600',\n",
       " '349203',\n",
       " '28213',\n",
       " '17465',\n",
       " '349244',\n",
       " '2685',\n",
       " '345773',\n",
       " '250647',\n",
       " '31921',\n",
       " '113760',\n",
       " '2625',\n",
       " '347089',\n",
       " '347063',\n",
       " '112050',\n",
       " '347087',\n",
       " '248723',\n",
       " '113806',\n",
       " '3474',\n",
       " '48871',\n",
       " '28206',\n",
       " '347082',\n",
       " '364499',\n",
       " '112058',\n",
       " '3101290',\n",
       " '2079',\n",
       " '7075',\n",
       " '347088',\n",
       " '12749',\n",
       " '315098',\n",
       " '19972',\n",
       " '392096',\n",
       " '3101295',\n",
       " '368323',\n",
       " '1601',\n",
       " '2079',\n",
       " '367228',\n",
       " '113572',\n",
       " '2659',\n",
       " '29106',\n",
       " '2671',\n",
       " '347468',\n",
       " '2223',\n",
       " '17756',\n",
       " '315097',\n",
       " '392092',\n",
       " '1601',\n",
       " '11774',\n",
       " '3101287',\n",
       " '3',\n",
       " '113798',\n",
       " '2683',\n",
       " '315090',\n",
       " '5547',\n",
       " '2343',\n",
       " '349213',\n",
       " '248727',\n",
       " '17453',\n",
       " '347082',\n",
       " '347060',\n",
       " '2678',\n",
       " '17592',\n",
       " '244252',\n",
       " '392091',\n",
       " '36928',\n",
       " '113055',\n",
       " '2666',\n",
       " '2629',\n",
       " '350026',\n",
       " '28134',\n",
       " '17466',\n",
       " '2343',\n",
       " '233866',\n",
       " '236852',\n",
       " '2149',\n",
       " '17590',\n",
       " '345777',\n",
       " '347742',\n",
       " '349248',\n",
       " '11751',\n",
       " '695',\n",
       " '345765',\n",
       " '3381',\n",
       " '2667',\n",
       " '7534',\n",
       " '349212',\n",
       " '349217',\n",
       " '11767',\n",
       " '230433',\n",
       " '349257',\n",
       " '7552',\n",
       " '34068',\n",
       " '392076',\n",
       " '382652',\n",
       " '211536',\n",
       " '112053',\n",
       " '6607',\n",
       " '111369',\n",
       " '370376']"
      ]
     },
     "execution_count": 68,
     "metadata": {},
     "output_type": "execute_result"
    }
   ],
   "source": [
    "split_tickets = train[\"Ticket\"].str.split(' ')\n",
    "split_tickets = [x[1] if len(x) > 1 else x[0] for x in split_tickets]\n",
    "split_tickets"
   ]
  },
  {
   "cell_type": "code",
   "execution_count": 69,
   "metadata": {
    "execution": {
     "iopub.execute_input": "2021-03-02T11:33:44.619346Z",
     "iopub.status.busy": "2021-03-02T11:33:44.618660Z",
     "iopub.status.idle": "2021-03-02T11:33:44.633758Z",
     "shell.execute_reply": "2021-03-02T11:33:44.633207Z"
    },
    "papermill": {
     "duration": 0.133432,
     "end_time": "2021-03-02T11:33:44.633896",
     "exception": false,
     "start_time": "2021-03-02T11:33:44.500464",
     "status": "completed"
    },
    "tags": []
   },
   "outputs": [
    {
     "data": {
      "text/html": [
       "<div>\n",
       "<style scoped>\n",
       "    .dataframe tbody tr th:only-of-type {\n",
       "        vertical-align: middle;\n",
       "    }\n",
       "\n",
       "    .dataframe tbody tr th {\n",
       "        vertical-align: top;\n",
       "    }\n",
       "\n",
       "    .dataframe thead th {\n",
       "        text-align: right;\n",
       "    }\n",
       "</style>\n",
       "<table border=\"1\" class=\"dataframe\">\n",
       "  <thead>\n",
       "    <tr style=\"text-align: right;\">\n",
       "      <th></th>\n",
       "      <th>Survived</th>\n",
       "      <th>Ticket</th>\n",
       "    </tr>\n",
       "  </thead>\n",
       "  <tbody>\n",
       "    <tr>\n",
       "      <th>0</th>\n",
       "      <td>0</td>\n",
       "      <td>21171</td>\n",
       "    </tr>\n",
       "    <tr>\n",
       "      <th>1</th>\n",
       "      <td>1</td>\n",
       "      <td>17599</td>\n",
       "    </tr>\n",
       "    <tr>\n",
       "      <th>2</th>\n",
       "      <td>1</td>\n",
       "      <td>3101282</td>\n",
       "    </tr>\n",
       "    <tr>\n",
       "      <th>3</th>\n",
       "      <td>1</td>\n",
       "      <td>113803</td>\n",
       "    </tr>\n",
       "    <tr>\n",
       "      <th>4</th>\n",
       "      <td>0</td>\n",
       "      <td>373450</td>\n",
       "    </tr>\n",
       "    <tr>\n",
       "      <th>...</th>\n",
       "      <td>...</td>\n",
       "      <td>...</td>\n",
       "    </tr>\n",
       "    <tr>\n",
       "      <th>886</th>\n",
       "      <td>0</td>\n",
       "      <td>211536</td>\n",
       "    </tr>\n",
       "    <tr>\n",
       "      <th>887</th>\n",
       "      <td>1</td>\n",
       "      <td>112053</td>\n",
       "    </tr>\n",
       "    <tr>\n",
       "      <th>888</th>\n",
       "      <td>0</td>\n",
       "      <td>6607</td>\n",
       "    </tr>\n",
       "    <tr>\n",
       "      <th>889</th>\n",
       "      <td>1</td>\n",
       "      <td>111369</td>\n",
       "    </tr>\n",
       "    <tr>\n",
       "      <th>890</th>\n",
       "      <td>0</td>\n",
       "      <td>370376</td>\n",
       "    </tr>\n",
       "  </tbody>\n",
       "</table>\n",
       "<p>891 rows × 2 columns</p>\n",
       "</div>"
      ],
      "text/plain": [
       "     Survived   Ticket\n",
       "0           0    21171\n",
       "1           1    17599\n",
       "2           1  3101282\n",
       "3           1   113803\n",
       "4           0   373450\n",
       "..        ...      ...\n",
       "886         0   211536\n",
       "887         1   112053\n",
       "888         0     6607\n",
       "889         1   111369\n",
       "890         0   370376\n",
       "\n",
       "[891 rows x 2 columns]"
      ]
     },
     "execution_count": 69,
     "metadata": {},
     "output_type": "execute_result"
    }
   ],
   "source": [
    "tickets_df = pd.DataFrame()\n",
    "tickets_df[\"Survived\"] = train[\"Survived\"]\n",
    "tickets_df[\"Ticket\"] = split_tickets\n",
    "tickets_df"
   ]
  },
  {
   "cell_type": "code",
   "execution_count": 70,
   "metadata": {
    "execution": {
     "iopub.execute_input": "2021-03-02T11:33:44.877517Z",
     "iopub.status.busy": "2021-03-02T11:33:44.876495Z",
     "iopub.status.idle": "2021-03-02T11:33:44.879862Z",
     "shell.execute_reply": "2021-03-02T11:33:44.879306Z"
    },
    "papermill": {
     "duration": 0.127729,
     "end_time": "2021-03-02T11:33:44.880033",
     "exception": false,
     "start_time": "2021-03-02T11:33:44.752304",
     "status": "completed"
    },
    "tags": []
   },
   "outputs": [],
   "source": [
    "tickets_df_filtered = tickets_df.drop(tickets_df[(tickets_df[\"Ticket\"] == \"2.\") | (tickets_df[\"Ticket\"] == 'LINE')].index)"
   ]
  },
  {
   "cell_type": "code",
   "execution_count": 71,
   "metadata": {
    "execution": {
     "iopub.execute_input": "2021-03-02T11:33:45.125515Z",
     "iopub.status.busy": "2021-03-02T11:33:45.124469Z",
     "iopub.status.idle": "2021-03-02T11:33:45.128234Z",
     "shell.execute_reply": "2021-03-02T11:33:45.127538Z"
    },
    "papermill": {
     "duration": 0.131515,
     "end_time": "2021-03-02T11:33:45.128387",
     "exception": false,
     "start_time": "2021-03-02T11:33:44.996872",
     "status": "completed"
    },
    "tags": []
   },
   "outputs": [],
   "source": [
    "tickets_df_filtered[\"Ticket\"] = pd.to_numeric(tickets_df_filtered[\"Ticket\"], errors='coerce')"
   ]
  },
  {
   "cell_type": "code",
   "execution_count": 72,
   "metadata": {
    "execution": {
     "iopub.execute_input": "2021-03-02T11:33:45.372050Z",
     "iopub.status.busy": "2021-03-02T11:33:45.371316Z",
     "iopub.status.idle": "2021-03-02T11:33:45.386811Z",
     "shell.execute_reply": "2021-03-02T11:33:45.386154Z"
    },
    "papermill": {
     "duration": 0.140956,
     "end_time": "2021-03-02T11:33:45.386956",
     "exception": false,
     "start_time": "2021-03-02T11:33:45.246000",
     "status": "completed"
    },
    "tags": []
   },
   "outputs": [
    {
     "data": {
      "text/plain": [
       "0         (11483.2, 28573.6]\n",
       "1         (11483.2, 28573.6]\n",
       "2      (349212.4, 3101317.0]\n",
       "3        (28573.6, 237647.4]\n",
       "4      (349212.4, 3101317.0]\n",
       "               ...          \n",
       "886      (28573.6, 237647.4]\n",
       "887      (28573.6, 237647.4]\n",
       "888         (2.999, 11483.2]\n",
       "889      (28573.6, 237647.4]\n",
       "890    (349212.4, 3101317.0]\n",
       "Name: Ticket, Length: 875, dtype: category\n",
       "Categories (5, interval[float64]): [(2.999, 11483.2] < (11483.2, 28573.6] < (28573.6, 237647.4] < (237647.4, 349212.4] < (349212.4, 3101317.0]]"
      ]
     },
     "execution_count": 72,
     "metadata": {},
     "output_type": "execute_result"
    }
   ],
   "source": [
    "bins = [0, 5000, 10000, 50000, 100000, 200000]\n",
    "tickets_df_filtered[\"Ticket\"] = tickets_df_filtered[\"Ticket\"].dropna().astype('float')\n",
    "#tickets_bins = pd.cut(tickets_df_filtered[\"Ticket\"], bins=bins)\n",
    "tickets_bins = pd.qcut(tickets_df_filtered[\"Ticket\"], q=5) #qcut divide data into equal bins\n",
    "tickets_bins "
   ]
  },
  {
   "cell_type": "code",
   "execution_count": 73,
   "metadata": {
    "execution": {
     "iopub.execute_input": "2021-03-02T11:33:45.624779Z",
     "iopub.status.busy": "2021-03-02T11:33:45.624176Z",
     "iopub.status.idle": "2021-03-02T11:33:45.876129Z",
     "shell.execute_reply": "2021-03-02T11:33:45.875491Z"
    },
    "papermill": {
     "duration": 0.371811,
     "end_time": "2021-03-02T11:33:45.876270",
     "exception": false,
     "start_time": "2021-03-02T11:33:45.504459",
     "status": "completed"
    },
    "tags": []
   },
   "outputs": [
    {
     "data": {
      "text/plain": [
       "<AxesSubplot:xlabel='Ticket', ylabel='count'>"
      ]
     },
     "execution_count": 73,
     "metadata": {},
     "output_type": "execute_result"
    },
    {
     "data": {
      "image/png": "[encoded data removed]",
      "text/plain": [
       "<Figure size 432x288 with 1 Axes>"
      ]
     },
     "metadata": {
      "needs_background": "light"
     },
     "output_type": "display_data"
    }
   ],
   "source": [
    "sns.countplot(x=tickets_bins, hue=\"Survived\", data=tickets_df_filtered)"
   ]
  },
  {
   "cell_type": "markdown",
   "metadata": {
    "papermill": {
     "duration": 0.119767,
     "end_time": "2021-03-02T11:33:46.115460",
     "exception": false,
     "start_time": "2021-03-02T11:33:45.995693",
     "status": "completed"
    },
    "tags": []
   },
   "source": [
    "That's something! We get only numbers from Ticket column (drop some strange values that was produced during spliting), then divide them up to equal bins. And now we can say, that if you have ticket number below 11483 or higher than 237647 risk than you didn't survive Titanic disaster increases significantly.\n",
    "\n",
    "I wanted just add our strange values (\"2.\", \"LINE\", and some strings) to middle bin (as you can see in commented code), instead of I change these values to NaN and then fill them with backfill method. It means that we use next valid information to fill gap."
   ]
  },
  {
   "cell_type": "code",
   "execution_count": 74,
   "metadata": {
    "execution": {
     "iopub.execute_input": "2021-03-02T11:33:46.368270Z",
     "iopub.status.busy": "2021-03-02T11:33:46.367537Z",
     "iopub.status.idle": "2021-03-02T11:33:46.374557Z",
     "shell.execute_reply": "2021-03-02T11:33:46.375083Z"
    },
    "papermill": {
     "duration": 0.14176,
     "end_time": "2021-03-02T11:33:46.375257",
     "exception": false,
     "start_time": "2021-03-02T11:33:46.233497",
     "status": "completed"
    },
    "tags": []
   },
   "outputs": [],
   "source": [
    "new_train[\"Ticket_number\"] = tickets_df[\"Ticket\"]\n",
    "new_train.loc[(new_train[\"Ticket_number\"] == \"2.\") | (new_train[\"Ticket_number\"] == 'LINE'), \"Ticket_number\"] = np.NaN\n",
    "new_train[\"Ticket_number\"]  = pd.to_numeric(new_train[\"Ticket_number\"], errors='coerce')\n",
    "new_train[\"Ticket_number\"] = new_train[\"Ticket_number\"].fillna(method=\"backfill\")\n",
    "tickets_df_filtered[\"Ticket\"] = tickets_df_filtered[\"Ticket\"].dropna().astype('float')\n",
    "new_train[\"Ticket_number\"] = pd.qcut(new_train[\"Ticket_number\"], q=5)\n",
    "\n",
    "#new_train[\"Ticket_number\"] = new_train[\"Ticket_number\"].astype(\"string\")\n",
    "#new_train[\"Ticket_number\"].fillna(\"(28573.6, 237647.4]\")\n",
    "#new_train[new_train[\"Ticket_number\"].isnull()]\n",
    "#new_train[\"Ticket_number\"] = new_train[\"Ticket_number\"].astype(\"category\")\n"
   ]
  },
  {
   "cell_type": "code",
   "execution_count": 75,
   "metadata": {
    "execution": {
     "iopub.execute_input": "2021-03-02T11:33:46.616365Z",
     "iopub.status.busy": "2021-03-02T11:33:46.615695Z",
     "iopub.status.idle": "2021-03-02T11:33:46.640578Z",
     "shell.execute_reply": "2021-03-02T11:33:46.641055Z"
    },
    "papermill": {
     "duration": 0.147068,
     "end_time": "2021-03-02T11:33:46.641239",
     "exception": false,
     "start_time": "2021-03-02T11:33:46.494171",
     "status": "completed"
    },
    "tags": []
   },
   "outputs": [
    {
     "data": {
      "text/html": [
       "<div>\n",
       "<style scoped>\n",
       "    .dataframe tbody tr th:only-of-type {\n",
       "        vertical-align: middle;\n",
       "    }\n",
       "\n",
       "    .dataframe tbody tr th {\n",
       "        vertical-align: top;\n",
       "    }\n",
       "\n",
       "    .dataframe thead th {\n",
       "        text-align: right;\n",
       "    }\n",
       "</style>\n",
       "<table border=\"1\" class=\"dataframe\">\n",
       "  <thead>\n",
       "    <tr style=\"text-align: right;\">\n",
       "      <th></th>\n",
       "      <th>Survived</th>\n",
       "      <th>Age</th>\n",
       "      <th>Embarked</th>\n",
       "      <th>Cabin_letter</th>\n",
       "      <th>Ticket_number</th>\n",
       "    </tr>\n",
       "  </thead>\n",
       "  <tbody>\n",
       "    <tr>\n",
       "      <th>0</th>\n",
       "      <td>0</td>\n",
       "      <td>(20, 30]</td>\n",
       "      <td>S</td>\n",
       "      <td>N</td>\n",
       "      <td>(10482.0, 28425.0]</td>\n",
       "    </tr>\n",
       "    <tr>\n",
       "      <th>1</th>\n",
       "      <td>1</td>\n",
       "      <td>(30, 40]</td>\n",
       "      <td>C</td>\n",
       "      <td>C</td>\n",
       "      <td>(10482.0, 28425.0]</td>\n",
       "    </tr>\n",
       "    <tr>\n",
       "      <th>2</th>\n",
       "      <td>1</td>\n",
       "      <td>(20, 30]</td>\n",
       "      <td>S</td>\n",
       "      <td>N</td>\n",
       "      <td>(349209.0, 3101317.0]</td>\n",
       "    </tr>\n",
       "    <tr>\n",
       "      <th>3</th>\n",
       "      <td>1</td>\n",
       "      <td>(30, 40]</td>\n",
       "      <td>S</td>\n",
       "      <td>C</td>\n",
       "      <td>(28425.0, 237442.0]</td>\n",
       "    </tr>\n",
       "    <tr>\n",
       "      <th>4</th>\n",
       "      <td>0</td>\n",
       "      <td>(30, 40]</td>\n",
       "      <td>S</td>\n",
       "      <td>N</td>\n",
       "      <td>(349209.0, 3101317.0]</td>\n",
       "    </tr>\n",
       "    <tr>\n",
       "      <th>...</th>\n",
       "      <td>...</td>\n",
       "      <td>...</td>\n",
       "      <td>...</td>\n",
       "      <td>...</td>\n",
       "      <td>...</td>\n",
       "    </tr>\n",
       "    <tr>\n",
       "      <th>886</th>\n",
       "      <td>0</td>\n",
       "      <td>(20, 30]</td>\n",
       "      <td>S</td>\n",
       "      <td>N</td>\n",
       "      <td>(28425.0, 237442.0]</td>\n",
       "    </tr>\n",
       "    <tr>\n",
       "      <th>887</th>\n",
       "      <td>1</td>\n",
       "      <td>(10, 20]</td>\n",
       "      <td>S</td>\n",
       "      <td>B</td>\n",
       "      <td>(28425.0, 237442.0]</td>\n",
       "    </tr>\n",
       "    <tr>\n",
       "      <th>888</th>\n",
       "      <td>0</td>\n",
       "      <td>(20, 30]</td>\n",
       "      <td>S</td>\n",
       "      <td>N</td>\n",
       "      <td>(2.999, 10482.0]</td>\n",
       "    </tr>\n",
       "    <tr>\n",
       "      <th>889</th>\n",
       "      <td>1</td>\n",
       "      <td>(20, 30]</td>\n",
       "      <td>C</td>\n",
       "      <td>C</td>\n",
       "      <td>(28425.0, 237442.0]</td>\n",
       "    </tr>\n",
       "    <tr>\n",
       "      <th>890</th>\n",
       "      <td>0</td>\n",
       "      <td>(30, 40]</td>\n",
       "      <td>Q</td>\n",
       "      <td>N</td>\n",
       "      <td>(349209.0, 3101317.0]</td>\n",
       "    </tr>\n",
       "  </tbody>\n",
       "</table>\n",
       "<p>891 rows × 5 columns</p>\n",
       "</div>"
      ],
      "text/plain": [
       "     Survived       Age Embarked Cabin_letter          Ticket_number\n",
       "0           0  (20, 30]        S            N     (10482.0, 28425.0]\n",
       "1           1  (30, 40]        C            C     (10482.0, 28425.0]\n",
       "2           1  (20, 30]        S            N  (349209.0, 3101317.0]\n",
       "3           1  (30, 40]        S            C    (28425.0, 237442.0]\n",
       "4           0  (30, 40]        S            N  (349209.0, 3101317.0]\n",
       "..        ...       ...      ...          ...                    ...\n",
       "886         0  (20, 30]        S            N    (28425.0, 237442.0]\n",
       "887         1  (10, 20]        S            B    (28425.0, 237442.0]\n",
       "888         0  (20, 30]        S            N       (2.999, 10482.0]\n",
       "889         1  (20, 30]        C            C    (28425.0, 237442.0]\n",
       "890         0  (30, 40]        Q            N  (349209.0, 3101317.0]\n",
       "\n",
       "[891 rows x 5 columns]"
      ]
     },
     "execution_count": 75,
     "metadata": {},
     "output_type": "execute_result"
    }
   ],
   "source": [
    "new_train"
   ]
  },
  {
   "cell_type": "markdown",
   "metadata": {
    "papermill": {
     "duration": 0.119539,
     "end_time": "2021-03-02T11:33:46.880570",
     "exception": false,
     "start_time": "2021-03-02T11:33:46.761031",
     "status": "completed"
    },
    "tags": []
   },
   "source": [
    "Great, we've looked again at all columns we droped earlier and we handle with all of them except Name.\n",
    "\n",
    "Let's add to our dataframe columns, which we've already analyzed."
   ]
  },
  {
   "cell_type": "code",
   "execution_count": 76,
   "metadata": {
    "execution": {
     "iopub.execute_input": "2021-03-02T11:33:47.123562Z",
     "iopub.status.busy": "2021-03-02T11:33:47.122851Z",
     "iopub.status.idle": "2021-03-02T11:33:47.159588Z",
     "shell.execute_reply": "2021-03-02T11:33:47.160160Z"
    },
    "papermill": {
     "duration": 0.160317,
     "end_time": "2021-03-02T11:33:47.160345",
     "exception": false,
     "start_time": "2021-03-02T11:33:47.000028",
     "status": "completed"
    },
    "tags": []
   },
   "outputs": [
    {
     "data": {
      "text/html": [
       "<div>\n",
       "<style scoped>\n",
       "    .dataframe tbody tr th:only-of-type {\n",
       "        vertical-align: middle;\n",
       "    }\n",
       "\n",
       "    .dataframe tbody tr th {\n",
       "        vertical-align: top;\n",
       "    }\n",
       "\n",
       "    .dataframe thead th {\n",
       "        text-align: right;\n",
       "    }\n",
       "</style>\n",
       "<table border=\"1\" class=\"dataframe\">\n",
       "  <thead>\n",
       "    <tr style=\"text-align: right;\">\n",
       "      <th></th>\n",
       "      <th>Survived</th>\n",
       "      <th>Age</th>\n",
       "      <th>Embarked</th>\n",
       "      <th>Cabin_letter</th>\n",
       "      <th>Ticket_number</th>\n",
       "      <th>Pclass</th>\n",
       "      <th>Sex</th>\n",
       "      <th>SibSp</th>\n",
       "      <th>Parch</th>\n",
       "      <th>Fare</th>\n",
       "    </tr>\n",
       "  </thead>\n",
       "  <tbody>\n",
       "    <tr>\n",
       "      <th>0</th>\n",
       "      <td>0</td>\n",
       "      <td>(20, 30]</td>\n",
       "      <td>S</td>\n",
       "      <td>N</td>\n",
       "      <td>(10482.0, 28425.0]</td>\n",
       "      <td>3</td>\n",
       "      <td>male</td>\n",
       "      <td>1</td>\n",
       "      <td>0</td>\n",
       "      <td>7.2500</td>\n",
       "    </tr>\n",
       "    <tr>\n",
       "      <th>1</th>\n",
       "      <td>1</td>\n",
       "      <td>(30, 40]</td>\n",
       "      <td>C</td>\n",
       "      <td>C</td>\n",
       "      <td>(10482.0, 28425.0]</td>\n",
       "      <td>1</td>\n",
       "      <td>female</td>\n",
       "      <td>1</td>\n",
       "      <td>0</td>\n",
       "      <td>71.2833</td>\n",
       "    </tr>\n",
       "    <tr>\n",
       "      <th>2</th>\n",
       "      <td>1</td>\n",
       "      <td>(20, 30]</td>\n",
       "      <td>S</td>\n",
       "      <td>N</td>\n",
       "      <td>(349209.0, 3101317.0]</td>\n",
       "      <td>3</td>\n",
       "      <td>female</td>\n",
       "      <td>0</td>\n",
       "      <td>0</td>\n",
       "      <td>7.9250</td>\n",
       "    </tr>\n",
       "    <tr>\n",
       "      <th>3</th>\n",
       "      <td>1</td>\n",
       "      <td>(30, 40]</td>\n",
       "      <td>S</td>\n",
       "      <td>C</td>\n",
       "      <td>(28425.0, 237442.0]</td>\n",
       "      <td>1</td>\n",
       "      <td>female</td>\n",
       "      <td>1</td>\n",
       "      <td>0</td>\n",
       "      <td>53.1000</td>\n",
       "    </tr>\n",
       "    <tr>\n",
       "      <th>4</th>\n",
       "      <td>0</td>\n",
       "      <td>(30, 40]</td>\n",
       "      <td>S</td>\n",
       "      <td>N</td>\n",
       "      <td>(349209.0, 3101317.0]</td>\n",
       "      <td>3</td>\n",
       "      <td>male</td>\n",
       "      <td>0</td>\n",
       "      <td>0</td>\n",
       "      <td>8.0500</td>\n",
       "    </tr>\n",
       "    <tr>\n",
       "      <th>...</th>\n",
       "      <td>...</td>\n",
       "      <td>...</td>\n",
       "      <td>...</td>\n",
       "      <td>...</td>\n",
       "      <td>...</td>\n",
       "      <td>...</td>\n",
       "      <td>...</td>\n",
       "      <td>...</td>\n",
       "      <td>...</td>\n",
       "      <td>...</td>\n",
       "    </tr>\n",
       "    <tr>\n",
       "      <th>886</th>\n",
       "      <td>0</td>\n",
       "      <td>(20, 30]</td>\n",
       "      <td>S</td>\n",
       "      <td>N</td>\n",
       "      <td>(28425.0, 237442.0]</td>\n",
       "      <td>2</td>\n",
       "      <td>male</td>\n",
       "      <td>0</td>\n",
       "      <td>0</td>\n",
       "      <td>13.0000</td>\n",
       "    </tr>\n",
       "    <tr>\n",
       "      <th>887</th>\n",
       "      <td>1</td>\n",
       "      <td>(10, 20]</td>\n",
       "      <td>S</td>\n",
       "      <td>B</td>\n",
       "      <td>(28425.0, 237442.0]</td>\n",
       "      <td>1</td>\n",
       "      <td>female</td>\n",
       "      <td>0</td>\n",
       "      <td>0</td>\n",
       "      <td>30.0000</td>\n",
       "    </tr>\n",
       "    <tr>\n",
       "      <th>888</th>\n",
       "      <td>0</td>\n",
       "      <td>(20, 30]</td>\n",
       "      <td>S</td>\n",
       "      <td>N</td>\n",
       "      <td>(2.999, 10482.0]</td>\n",
       "      <td>3</td>\n",
       "      <td>female</td>\n",
       "      <td>1</td>\n",
       "      <td>2</td>\n",
       "      <td>23.4500</td>\n",
       "    </tr>\n",
       "    <tr>\n",
       "      <th>889</th>\n",
       "      <td>1</td>\n",
       "      <td>(20, 30]</td>\n",
       "      <td>C</td>\n",
       "      <td>C</td>\n",
       "      <td>(28425.0, 237442.0]</td>\n",
       "      <td>1</td>\n",
       "      <td>male</td>\n",
       "      <td>0</td>\n",
       "      <td>0</td>\n",
       "      <td>30.0000</td>\n",
       "    </tr>\n",
       "    <tr>\n",
       "      <th>890</th>\n",
       "      <td>0</td>\n",
       "      <td>(30, 40]</td>\n",
       "      <td>Q</td>\n",
       "      <td>N</td>\n",
       "      <td>(349209.0, 3101317.0]</td>\n",
       "      <td>3</td>\n",
       "      <td>male</td>\n",
       "      <td>0</td>\n",
       "      <td>0</td>\n",
       "      <td>7.7500</td>\n",
       "    </tr>\n",
       "  </tbody>\n",
       "</table>\n",
       "<p>891 rows × 10 columns</p>\n",
       "</div>"
      ],
      "text/plain": [
       "     Survived       Age Embarked Cabin_letter          Ticket_number  Pclass  \\\n",
       "0           0  (20, 30]        S            N     (10482.0, 28425.0]       3   \n",
       "1           1  (30, 40]        C            C     (10482.0, 28425.0]       1   \n",
       "2           1  (20, 30]        S            N  (349209.0, 3101317.0]       3   \n",
       "3           1  (30, 40]        S            C    (28425.0, 237442.0]       1   \n",
       "4           0  (30, 40]        S            N  (349209.0, 3101317.0]       3   \n",
       "..        ...       ...      ...          ...                    ...     ...   \n",
       "886         0  (20, 30]        S            N    (28425.0, 237442.0]       2   \n",
       "887         1  (10, 20]        S            B    (28425.0, 237442.0]       1   \n",
       "888         0  (20, 30]        S            N       (2.999, 10482.0]       3   \n",
       "889         1  (20, 30]        C            C    (28425.0, 237442.0]       1   \n",
       "890         0  (30, 40]        Q            N  (349209.0, 3101317.0]       3   \n",
       "\n",
       "        Sex  SibSp  Parch     Fare  \n",
       "0      male      1      0   7.2500  \n",
       "1    female      1      0  71.2833  \n",
       "2    female      0      0   7.9250  \n",
       "3    female      1      0  53.1000  \n",
       "4      male      0      0   8.0500  \n",
       "..      ...    ...    ...      ...  \n",
       "886    male      0      0  13.0000  \n",
       "887  female      0      0  30.0000  \n",
       "888  female      1      2  23.4500  \n",
       "889    male      0      0  30.0000  \n",
       "890    male      0      0   7.7500  \n",
       "\n",
       "[891 rows x 10 columns]"
      ]
     },
     "execution_count": 76,
     "metadata": {},
     "output_type": "execute_result"
    }
   ],
   "source": [
    "new_train[[\"Pclass\", \"Sex\", \"SibSp\", \"Parch\", \"Fare\"]] = train[[\"Pclass\", \"Sex\", \"SibSp\", \"Parch\", \"Fare\"]]\n",
    "new_train"
   ]
  },
  {
   "cell_type": "markdown",
   "metadata": {
    "papermill": {
     "duration": 0.121247,
     "end_time": "2021-03-02T11:33:47.402597",
     "exception": false,
     "start_time": "2021-03-02T11:33:47.281350",
     "status": "completed"
    },
    "tags": []
   },
   "source": [
    "So what else we can do? I think since people who have sibling/spouse or/and parents/children on board, generally have more chances to survive, we'll produce new column based on SibSp and Parch, where we define if passenger had somebody related with him on ship."
   ]
  },
  {
   "cell_type": "code",
   "execution_count": 77,
   "metadata": {
    "execution": {
     "iopub.execute_input": "2021-03-02T11:33:47.646140Z",
     "iopub.status.busy": "2021-03-02T11:33:47.645520Z",
     "iopub.status.idle": "2021-03-02T11:33:47.683083Z",
     "shell.execute_reply": "2021-03-02T11:33:47.683559Z"
    },
    "papermill": {
     "duration": 0.160987,
     "end_time": "2021-03-02T11:33:47.683743",
     "exception": false,
     "start_time": "2021-03-02T11:33:47.522756",
     "status": "completed"
    },
    "tags": []
   },
   "outputs": [
    {
     "data": {
      "text/html": [
       "<div>\n",
       "<style scoped>\n",
       "    .dataframe tbody tr th:only-of-type {\n",
       "        vertical-align: middle;\n",
       "    }\n",
       "\n",
       "    .dataframe tbody tr th {\n",
       "        vertical-align: top;\n",
       "    }\n",
       "\n",
       "    .dataframe thead th {\n",
       "        text-align: right;\n",
       "    }\n",
       "</style>\n",
       "<table border=\"1\" class=\"dataframe\">\n",
       "  <thead>\n",
       "    <tr style=\"text-align: right;\">\n",
       "      <th></th>\n",
       "      <th>Survived</th>\n",
       "      <th>Age</th>\n",
       "      <th>Embarked</th>\n",
       "      <th>Cabin_letter</th>\n",
       "      <th>Ticket_number</th>\n",
       "      <th>Pclass</th>\n",
       "      <th>Sex</th>\n",
       "      <th>SibSp</th>\n",
       "      <th>Parch</th>\n",
       "      <th>Fare</th>\n",
       "      <th>SibSpParch</th>\n",
       "    </tr>\n",
       "  </thead>\n",
       "  <tbody>\n",
       "    <tr>\n",
       "      <th>0</th>\n",
       "      <td>0</td>\n",
       "      <td>(20, 30]</td>\n",
       "      <td>S</td>\n",
       "      <td>N</td>\n",
       "      <td>(10482.0, 28425.0]</td>\n",
       "      <td>3</td>\n",
       "      <td>male</td>\n",
       "      <td>1</td>\n",
       "      <td>0</td>\n",
       "      <td>7.2500</td>\n",
       "      <td>1</td>\n",
       "    </tr>\n",
       "    <tr>\n",
       "      <th>1</th>\n",
       "      <td>1</td>\n",
       "      <td>(30, 40]</td>\n",
       "      <td>C</td>\n",
       "      <td>C</td>\n",
       "      <td>(10482.0, 28425.0]</td>\n",
       "      <td>1</td>\n",
       "      <td>female</td>\n",
       "      <td>1</td>\n",
       "      <td>0</td>\n",
       "      <td>71.2833</td>\n",
       "      <td>1</td>\n",
       "    </tr>\n",
       "    <tr>\n",
       "      <th>2</th>\n",
       "      <td>1</td>\n",
       "      <td>(20, 30]</td>\n",
       "      <td>S</td>\n",
       "      <td>N</td>\n",
       "      <td>(349209.0, 3101317.0]</td>\n",
       "      <td>3</td>\n",
       "      <td>female</td>\n",
       "      <td>0</td>\n",
       "      <td>0</td>\n",
       "      <td>7.9250</td>\n",
       "      <td>0</td>\n",
       "    </tr>\n",
       "    <tr>\n",
       "      <th>3</th>\n",
       "      <td>1</td>\n",
       "      <td>(30, 40]</td>\n",
       "      <td>S</td>\n",
       "      <td>C</td>\n",
       "      <td>(28425.0, 237442.0]</td>\n",
       "      <td>1</td>\n",
       "      <td>female</td>\n",
       "      <td>1</td>\n",
       "      <td>0</td>\n",
       "      <td>53.1000</td>\n",
       "      <td>1</td>\n",
       "    </tr>\n",
       "    <tr>\n",
       "      <th>4</th>\n",
       "      <td>0</td>\n",
       "      <td>(30, 40]</td>\n",
       "      <td>S</td>\n",
       "      <td>N</td>\n",
       "      <td>(349209.0, 3101317.0]</td>\n",
       "      <td>3</td>\n",
       "      <td>male</td>\n",
       "      <td>0</td>\n",
       "      <td>0</td>\n",
       "      <td>8.0500</td>\n",
       "      <td>0</td>\n",
       "    </tr>\n",
       "    <tr>\n",
       "      <th>...</th>\n",
       "      <td>...</td>\n",
       "      <td>...</td>\n",
       "      <td>...</td>\n",
       "      <td>...</td>\n",
       "      <td>...</td>\n",
       "      <td>...</td>\n",
       "      <td>...</td>\n",
       "      <td>...</td>\n",
       "      <td>...</td>\n",
       "      <td>...</td>\n",
       "      <td>...</td>\n",
       "    </tr>\n",
       "    <tr>\n",
       "      <th>886</th>\n",
       "      <td>0</td>\n",
       "      <td>(20, 30]</td>\n",
       "      <td>S</td>\n",
       "      <td>N</td>\n",
       "      <td>(28425.0, 237442.0]</td>\n",
       "      <td>2</td>\n",
       "      <td>male</td>\n",
       "      <td>0</td>\n",
       "      <td>0</td>\n",
       "      <td>13.0000</td>\n",
       "      <td>0</td>\n",
       "    </tr>\n",
       "    <tr>\n",
       "      <th>887</th>\n",
       "      <td>1</td>\n",
       "      <td>(10, 20]</td>\n",
       "      <td>S</td>\n",
       "      <td>B</td>\n",
       "      <td>(28425.0, 237442.0]</td>\n",
       "      <td>1</td>\n",
       "      <td>female</td>\n",
       "      <td>0</td>\n",
       "      <td>0</td>\n",
       "      <td>30.0000</td>\n",
       "      <td>0</td>\n",
       "    </tr>\n",
       "    <tr>\n",
       "      <th>888</th>\n",
       "      <td>0</td>\n",
       "      <td>(20, 30]</td>\n",
       "      <td>S</td>\n",
       "      <td>N</td>\n",
       "      <td>(2.999, 10482.0]</td>\n",
       "      <td>3</td>\n",
       "      <td>female</td>\n",
       "      <td>1</td>\n",
       "      <td>2</td>\n",
       "      <td>23.4500</td>\n",
       "      <td>1</td>\n",
       "    </tr>\n",
       "    <tr>\n",
       "      <th>889</th>\n",
       "      <td>1</td>\n",
       "      <td>(20, 30]</td>\n",
       "      <td>C</td>\n",
       "      <td>C</td>\n",
       "      <td>(28425.0, 237442.0]</td>\n",
       "      <td>1</td>\n",
       "      <td>male</td>\n",
       "      <td>0</td>\n",
       "      <td>0</td>\n",
       "      <td>30.0000</td>\n",
       "      <td>0</td>\n",
       "    </tr>\n",
       "    <tr>\n",
       "      <th>890</th>\n",
       "      <td>0</td>\n",
       "      <td>(30, 40]</td>\n",
       "      <td>Q</td>\n",
       "      <td>N</td>\n",
       "      <td>(349209.0, 3101317.0]</td>\n",
       "      <td>3</td>\n",
       "      <td>male</td>\n",
       "      <td>0</td>\n",
       "      <td>0</td>\n",
       "      <td>7.7500</td>\n",
       "      <td>0</td>\n",
       "    </tr>\n",
       "  </tbody>\n",
       "</table>\n",
       "<p>891 rows × 11 columns</p>\n",
       "</div>"
      ],
      "text/plain": [
       "     Survived       Age Embarked Cabin_letter          Ticket_number  Pclass  \\\n",
       "0           0  (20, 30]        S            N     (10482.0, 28425.0]       3   \n",
       "1           1  (30, 40]        C            C     (10482.0, 28425.0]       1   \n",
       "2           1  (20, 30]        S            N  (349209.0, 3101317.0]       3   \n",
       "3           1  (30, 40]        S            C    (28425.0, 237442.0]       1   \n",
       "4           0  (30, 40]        S            N  (349209.0, 3101317.0]       3   \n",
       "..        ...       ...      ...          ...                    ...     ...   \n",
       "886         0  (20, 30]        S            N    (28425.0, 237442.0]       2   \n",
       "887         1  (10, 20]        S            B    (28425.0, 237442.0]       1   \n",
       "888         0  (20, 30]        S            N       (2.999, 10482.0]       3   \n",
       "889         1  (20, 30]        C            C    (28425.0, 237442.0]       1   \n",
       "890         0  (30, 40]        Q            N  (349209.0, 3101317.0]       3   \n",
       "\n",
       "        Sex  SibSp  Parch     Fare  SibSpParch  \n",
       "0      male      1      0   7.2500           1  \n",
       "1    female      1      0  71.2833           1  \n",
       "2    female      0      0   7.9250           0  \n",
       "3    female      1      0  53.1000           1  \n",
       "4      male      0      0   8.0500           0  \n",
       "..      ...    ...    ...      ...         ...  \n",
       "886    male      0      0  13.0000           0  \n",
       "887  female      0      0  30.0000           0  \n",
       "888  female      1      2  23.4500           1  \n",
       "889    male      0      0  30.0000           0  \n",
       "890    male      0      0   7.7500           0  \n",
       "\n",
       "[891 rows x 11 columns]"
      ]
     },
     "execution_count": 77,
     "metadata": {},
     "output_type": "execute_result"
    }
   ],
   "source": [
    "new_train[\"SibSpParch\"] = np.where(new_train[\"SibSp\"] + new_train[\"Parch\"] > 0, 1, 0)\n",
    "new_train"
   ]
  },
  {
   "cell_type": "markdown",
   "metadata": {
    "papermill": {
     "duration": 0.122294,
     "end_time": "2021-03-02T11:33:47.927024",
     "exception": false,
     "start_time": "2021-03-02T11:33:47.804730",
     "status": "completed"
    },
    "tags": []
   },
   "source": [
    "Everything looks fine, so we can drop columns SibSp and Parch."
   ]
  },
  {
   "cell_type": "code",
   "execution_count": 78,
   "metadata": {
    "execution": {
     "iopub.execute_input": "2021-03-02T11:33:48.175693Z",
     "iopub.status.busy": "2021-03-02T11:33:48.175055Z",
     "iopub.status.idle": "2021-03-02T11:33:48.207029Z",
     "shell.execute_reply": "2021-03-02T11:33:48.206467Z"
    },
    "papermill": {
     "duration": 0.158178,
     "end_time": "2021-03-02T11:33:48.207174",
     "exception": false,
     "start_time": "2021-03-02T11:33:48.048996",
     "status": "completed"
    },
    "tags": []
   },
   "outputs": [
    {
     "data": {
      "text/html": [
       "<div>\n",
       "<style scoped>\n",
       "    .dataframe tbody tr th:only-of-type {\n",
       "        vertical-align: middle;\n",
       "    }\n",
       "\n",
       "    .dataframe tbody tr th {\n",
       "        vertical-align: top;\n",
       "    }\n",
       "\n",
       "    .dataframe thead th {\n",
       "        text-align: right;\n",
       "    }\n",
       "</style>\n",
       "<table border=\"1\" class=\"dataframe\">\n",
       "  <thead>\n",
       "    <tr style=\"text-align: right;\">\n",
       "      <th></th>\n",
       "      <th>Survived</th>\n",
       "      <th>Age</th>\n",
       "      <th>Embarked</th>\n",
       "      <th>Cabin_letter</th>\n",
       "      <th>Ticket_number</th>\n",
       "      <th>Pclass</th>\n",
       "      <th>Sex</th>\n",
       "      <th>Fare</th>\n",
       "      <th>SibSpParch</th>\n",
       "    </tr>\n",
       "  </thead>\n",
       "  <tbody>\n",
       "    <tr>\n",
       "      <th>0</th>\n",
       "      <td>0</td>\n",
       "      <td>(20, 30]</td>\n",
       "      <td>S</td>\n",
       "      <td>N</td>\n",
       "      <td>(10482.0, 28425.0]</td>\n",
       "      <td>3</td>\n",
       "      <td>male</td>\n",
       "      <td>7.2500</td>\n",
       "      <td>1</td>\n",
       "    </tr>\n",
       "    <tr>\n",
       "      <th>1</th>\n",
       "      <td>1</td>\n",
       "      <td>(30, 40]</td>\n",
       "      <td>C</td>\n",
       "      <td>C</td>\n",
       "      <td>(10482.0, 28425.0]</td>\n",
       "      <td>1</td>\n",
       "      <td>female</td>\n",
       "      <td>71.2833</td>\n",
       "      <td>1</td>\n",
       "    </tr>\n",
       "    <tr>\n",
       "      <th>2</th>\n",
       "      <td>1</td>\n",
       "      <td>(20, 30]</td>\n",
       "      <td>S</td>\n",
       "      <td>N</td>\n",
       "      <td>(349209.0, 3101317.0]</td>\n",
       "      <td>3</td>\n",
       "      <td>female</td>\n",
       "      <td>7.9250</td>\n",
       "      <td>0</td>\n",
       "    </tr>\n",
       "    <tr>\n",
       "      <th>3</th>\n",
       "      <td>1</td>\n",
       "      <td>(30, 40]</td>\n",
       "      <td>S</td>\n",
       "      <td>C</td>\n",
       "      <td>(28425.0, 237442.0]</td>\n",
       "      <td>1</td>\n",
       "      <td>female</td>\n",
       "      <td>53.1000</td>\n",
       "      <td>1</td>\n",
       "    </tr>\n",
       "    <tr>\n",
       "      <th>4</th>\n",
       "      <td>0</td>\n",
       "      <td>(30, 40]</td>\n",
       "      <td>S</td>\n",
       "      <td>N</td>\n",
       "      <td>(349209.0, 3101317.0]</td>\n",
       "      <td>3</td>\n",
       "      <td>male</td>\n",
       "      <td>8.0500</td>\n",
       "      <td>0</td>\n",
       "    </tr>\n",
       "    <tr>\n",
       "      <th>...</th>\n",
       "      <td>...</td>\n",
       "      <td>...</td>\n",
       "      <td>...</td>\n",
       "      <td>...</td>\n",
       "      <td>...</td>\n",
       "      <td>...</td>\n",
       "      <td>...</td>\n",
       "      <td>...</td>\n",
       "      <td>...</td>\n",
       "    </tr>\n",
       "    <tr>\n",
       "      <th>886</th>\n",
       "      <td>0</td>\n",
       "      <td>(20, 30]</td>\n",
       "      <td>S</td>\n",
       "      <td>N</td>\n",
       "      <td>(28425.0, 237442.0]</td>\n",
       "      <td>2</td>\n",
       "      <td>male</td>\n",
       "      <td>13.0000</td>\n",
       "      <td>0</td>\n",
       "    </tr>\n",
       "    <tr>\n",
       "      <th>887</th>\n",
       "      <td>1</td>\n",
       "      <td>(10, 20]</td>\n",
       "      <td>S</td>\n",
       "      <td>B</td>\n",
       "      <td>(28425.0, 237442.0]</td>\n",
       "      <td>1</td>\n",
       "      <td>female</td>\n",
       "      <td>30.0000</td>\n",
       "      <td>0</td>\n",
       "    </tr>\n",
       "    <tr>\n",
       "      <th>888</th>\n",
       "      <td>0</td>\n",
       "      <td>(20, 30]</td>\n",
       "      <td>S</td>\n",
       "      <td>N</td>\n",
       "      <td>(2.999, 10482.0]</td>\n",
       "      <td>3</td>\n",
       "      <td>female</td>\n",
       "      <td>23.4500</td>\n",
       "      <td>1</td>\n",
       "    </tr>\n",
       "    <tr>\n",
       "      <th>889</th>\n",
       "      <td>1</td>\n",
       "      <td>(20, 30]</td>\n",
       "      <td>C</td>\n",
       "      <td>C</td>\n",
       "      <td>(28425.0, 237442.0]</td>\n",
       "      <td>1</td>\n",
       "      <td>male</td>\n",
       "      <td>30.0000</td>\n",
       "      <td>0</td>\n",
       "    </tr>\n",
       "    <tr>\n",
       "      <th>890</th>\n",
       "      <td>0</td>\n",
       "      <td>(30, 40]</td>\n",
       "      <td>Q</td>\n",
       "      <td>N</td>\n",
       "      <td>(349209.0, 3101317.0]</td>\n",
       "      <td>3</td>\n",
       "      <td>male</td>\n",
       "      <td>7.7500</td>\n",
       "      <td>0</td>\n",
       "    </tr>\n",
       "  </tbody>\n",
       "</table>\n",
       "<p>891 rows × 9 columns</p>\n",
       "</div>"
      ],
      "text/plain": [
       "     Survived       Age Embarked Cabin_letter          Ticket_number  Pclass  \\\n",
       "0           0  (20, 30]        S            N     (10482.0, 28425.0]       3   \n",
       "1           1  (30, 40]        C            C     (10482.0, 28425.0]       1   \n",
       "2           1  (20, 30]        S            N  (349209.0, 3101317.0]       3   \n",
       "3           1  (30, 40]        S            C    (28425.0, 237442.0]       1   \n",
       "4           0  (30, 40]        S            N  (349209.0, 3101317.0]       3   \n",
       "..        ...       ...      ...          ...                    ...     ...   \n",
       "886         0  (20, 30]        S            N    (28425.0, 237442.0]       2   \n",
       "887         1  (10, 20]        S            B    (28425.0, 237442.0]       1   \n",
       "888         0  (20, 30]        S            N       (2.999, 10482.0]       3   \n",
       "889         1  (20, 30]        C            C    (28425.0, 237442.0]       1   \n",
       "890         0  (30, 40]        Q            N  (349209.0, 3101317.0]       3   \n",
       "\n",
       "        Sex     Fare  SibSpParch  \n",
       "0      male   7.2500           1  \n",
       "1    female  71.2833           1  \n",
       "2    female   7.9250           0  \n",
       "3    female  53.1000           1  \n",
       "4      male   8.0500           0  \n",
       "..      ...      ...         ...  \n",
       "886    male  13.0000           0  \n",
       "887  female  30.0000           0  \n",
       "888  female  23.4500           1  \n",
       "889    male  30.0000           0  \n",
       "890    male   7.7500           0  \n",
       "\n",
       "[891 rows x 9 columns]"
      ]
     },
     "execution_count": 78,
     "metadata": {},
     "output_type": "execute_result"
    }
   ],
   "source": [
    "new_train = new_train.drop([\"SibSp\", \"Parch\"], 1)\n",
    "new_train"
   ]
  },
  {
   "cell_type": "markdown",
   "metadata": {
    "papermill": {
     "duration": 0.121365,
     "end_time": "2021-03-02T11:33:48.449950",
     "exception": false,
     "start_time": "2021-03-02T11:33:48.328585",
     "status": "completed"
    },
    "tags": []
   },
   "source": [
    "Now we need encode our caterogical values to numbers."
   ]
  },
  {
   "cell_type": "code",
   "execution_count": 79,
   "metadata": {
    "execution": {
     "iopub.execute_input": "2021-03-02T11:33:48.708563Z",
     "iopub.status.busy": "2021-03-02T11:33:48.703158Z",
     "iopub.status.idle": "2021-03-02T11:33:48.777242Z",
     "shell.execute_reply": "2021-03-02T11:33:48.776524Z"
    },
    "papermill": {
     "duration": 0.20586,
     "end_time": "2021-03-02T11:33:48.777503",
     "exception": false,
     "start_time": "2021-03-02T11:33:48.571643",
     "status": "completed"
    },
    "tags": []
   },
   "outputs": [
    {
     "data": {
      "text/html": [
       "<div>\n",
       "<style scoped>\n",
       "    .dataframe tbody tr th:only-of-type {\n",
       "        vertical-align: middle;\n",
       "    }\n",
       "\n",
       "    .dataframe tbody tr th {\n",
       "        vertical-align: top;\n",
       "    }\n",
       "\n",
       "    .dataframe thead th {\n",
       "        text-align: right;\n",
       "    }\n",
       "</style>\n",
       "<table border=\"1\" class=\"dataframe\">\n",
       "  <thead>\n",
       "    <tr style=\"text-align: right;\">\n",
       "      <th></th>\n",
       "      <th>Survived</th>\n",
       "      <th>Fare</th>\n",
       "      <th>SibSpParch</th>\n",
       "      <th>Pclass_1</th>\n",
       "      <th>Pclass_2</th>\n",
       "      <th>Pclass_3</th>\n",
       "      <th>Age_(0, 10]</th>\n",
       "      <th>Age_(10, 20]</th>\n",
       "      <th>Age_(20, 30]</th>\n",
       "      <th>Age_(30, 40]</th>\n",
       "      <th>...</th>\n",
       "      <th>Cabin_letter_G</th>\n",
       "      <th>Cabin_letter_N</th>\n",
       "      <th>Cabin_letter_T</th>\n",
       "      <th>Ticket_number_(2.999, 10482.0]</th>\n",
       "      <th>Ticket_number_(10482.0, 28425.0]</th>\n",
       "      <th>Ticket_number_(28425.0, 237442.0]</th>\n",
       "      <th>Ticket_number_(237442.0, 349209.0]</th>\n",
       "      <th>Ticket_number_(349209.0, 3101317.0]</th>\n",
       "      <th>Sex_female</th>\n",
       "      <th>Sex_male</th>\n",
       "    </tr>\n",
       "  </thead>\n",
       "  <tbody>\n",
       "    <tr>\n",
       "      <th>0</th>\n",
       "      <td>0</td>\n",
       "      <td>7.2500</td>\n",
       "      <td>1</td>\n",
       "      <td>0.0</td>\n",
       "      <td>0.0</td>\n",
       "      <td>1.0</td>\n",
       "      <td>0.0</td>\n",
       "      <td>0.0</td>\n",
       "      <td>1.0</td>\n",
       "      <td>0.0</td>\n",
       "      <td>...</td>\n",
       "      <td>0.0</td>\n",
       "      <td>1.0</td>\n",
       "      <td>0.0</td>\n",
       "      <td>0.0</td>\n",
       "      <td>1.0</td>\n",
       "      <td>0.0</td>\n",
       "      <td>0.0</td>\n",
       "      <td>0.0</td>\n",
       "      <td>0.0</td>\n",
       "      <td>1.0</td>\n",
       "    </tr>\n",
       "    <tr>\n",
       "      <th>1</th>\n",
       "      <td>1</td>\n",
       "      <td>71.2833</td>\n",
       "      <td>1</td>\n",
       "      <td>1.0</td>\n",
       "      <td>0.0</td>\n",
       "      <td>0.0</td>\n",
       "      <td>0.0</td>\n",
       "      <td>0.0</td>\n",
       "      <td>0.0</td>\n",
       "      <td>1.0</td>\n",
       "      <td>...</td>\n",
       "      <td>0.0</td>\n",
       "      <td>0.0</td>\n",
       "      <td>0.0</td>\n",
       "      <td>0.0</td>\n",
       "      <td>1.0</td>\n",
       "      <td>0.0</td>\n",
       "      <td>0.0</td>\n",
       "      <td>0.0</td>\n",
       "      <td>1.0</td>\n",
       "      <td>0.0</td>\n",
       "    </tr>\n",
       "    <tr>\n",
       "      <th>2</th>\n",
       "      <td>1</td>\n",
       "      <td>7.9250</td>\n",
       "      <td>0</td>\n",
       "      <td>0.0</td>\n",
       "      <td>0.0</td>\n",
       "      <td>1.0</td>\n",
       "      <td>0.0</td>\n",
       "      <td>0.0</td>\n",
       "      <td>1.0</td>\n",
       "      <td>0.0</td>\n",
       "      <td>...</td>\n",
       "      <td>0.0</td>\n",
       "      <td>1.0</td>\n",
       "      <td>0.0</td>\n",
       "      <td>0.0</td>\n",
       "      <td>0.0</td>\n",
       "      <td>0.0</td>\n",
       "      <td>0.0</td>\n",
       "      <td>1.0</td>\n",
       "      <td>1.0</td>\n",
       "      <td>0.0</td>\n",
       "    </tr>\n",
       "    <tr>\n",
       "      <th>3</th>\n",
       "      <td>1</td>\n",
       "      <td>53.1000</td>\n",
       "      <td>1</td>\n",
       "      <td>1.0</td>\n",
       "      <td>0.0</td>\n",
       "      <td>0.0</td>\n",
       "      <td>0.0</td>\n",
       "      <td>0.0</td>\n",
       "      <td>0.0</td>\n",
       "      <td>1.0</td>\n",
       "      <td>...</td>\n",
       "      <td>0.0</td>\n",
       "      <td>0.0</td>\n",
       "      <td>0.0</td>\n",
       "      <td>0.0</td>\n",
       "      <td>0.0</td>\n",
       "      <td>1.0</td>\n",
       "      <td>0.0</td>\n",
       "      <td>0.0</td>\n",
       "      <td>1.0</td>\n",
       "      <td>0.0</td>\n",
       "    </tr>\n",
       "    <tr>\n",
       "      <th>4</th>\n",
       "      <td>0</td>\n",
       "      <td>8.0500</td>\n",
       "      <td>0</td>\n",
       "      <td>0.0</td>\n",
       "      <td>0.0</td>\n",
       "      <td>1.0</td>\n",
       "      <td>0.0</td>\n",
       "      <td>0.0</td>\n",
       "      <td>0.0</td>\n",
       "      <td>1.0</td>\n",
       "      <td>...</td>\n",
       "      <td>0.0</td>\n",
       "      <td>1.0</td>\n",
       "      <td>0.0</td>\n",
       "      <td>0.0</td>\n",
       "      <td>0.0</td>\n",
       "      <td>0.0</td>\n",
       "      <td>0.0</td>\n",
       "      <td>1.0</td>\n",
       "      <td>0.0</td>\n",
       "      <td>1.0</td>\n",
       "    </tr>\n",
       "    <tr>\n",
       "      <th>...</th>\n",
       "      <td>...</td>\n",
       "      <td>...</td>\n",
       "      <td>...</td>\n",
       "      <td>...</td>\n",
       "      <td>...</td>\n",
       "      <td>...</td>\n",
       "      <td>...</td>\n",
       "      <td>...</td>\n",
       "      <td>...</td>\n",
       "      <td>...</td>\n",
       "      <td>...</td>\n",
       "      <td>...</td>\n",
       "      <td>...</td>\n",
       "      <td>...</td>\n",
       "      <td>...</td>\n",
       "      <td>...</td>\n",
       "      <td>...</td>\n",
       "      <td>...</td>\n",
       "      <td>...</td>\n",
       "      <td>...</td>\n",
       "      <td>...</td>\n",
       "    </tr>\n",
       "    <tr>\n",
       "      <th>886</th>\n",
       "      <td>0</td>\n",
       "      <td>13.0000</td>\n",
       "      <td>0</td>\n",
       "      <td>0.0</td>\n",
       "      <td>1.0</td>\n",
       "      <td>0.0</td>\n",
       "      <td>0.0</td>\n",
       "      <td>0.0</td>\n",
       "      <td>1.0</td>\n",
       "      <td>0.0</td>\n",
       "      <td>...</td>\n",
       "      <td>0.0</td>\n",
       "      <td>1.0</td>\n",
       "      <td>0.0</td>\n",
       "      <td>0.0</td>\n",
       "      <td>0.0</td>\n",
       "      <td>1.0</td>\n",
       "      <td>0.0</td>\n",
       "      <td>0.0</td>\n",
       "      <td>0.0</td>\n",
       "      <td>1.0</td>\n",
       "    </tr>\n",
       "    <tr>\n",
       "      <th>887</th>\n",
       "      <td>1</td>\n",
       "      <td>30.0000</td>\n",
       "      <td>0</td>\n",
       "      <td>1.0</td>\n",
       "      <td>0.0</td>\n",
       "      <td>0.0</td>\n",
       "      <td>0.0</td>\n",
       "      <td>1.0</td>\n",
       "      <td>0.0</td>\n",
       "      <td>0.0</td>\n",
       "      <td>...</td>\n",
       "      <td>0.0</td>\n",
       "      <td>0.0</td>\n",
       "      <td>0.0</td>\n",
       "      <td>0.0</td>\n",
       "      <td>0.0</td>\n",
       "      <td>1.0</td>\n",
       "      <td>0.0</td>\n",
       "      <td>0.0</td>\n",
       "      <td>1.0</td>\n",
       "      <td>0.0</td>\n",
       "    </tr>\n",
       "    <tr>\n",
       "      <th>888</th>\n",
       "      <td>0</td>\n",
       "      <td>23.4500</td>\n",
       "      <td>1</td>\n",
       "      <td>0.0</td>\n",
       "      <td>0.0</td>\n",
       "      <td>1.0</td>\n",
       "      <td>0.0</td>\n",
       "      <td>0.0</td>\n",
       "      <td>1.0</td>\n",
       "      <td>0.0</td>\n",
       "      <td>...</td>\n",
       "      <td>0.0</td>\n",
       "      <td>1.0</td>\n",
       "      <td>0.0</td>\n",
       "      <td>1.0</td>\n",
       "      <td>0.0</td>\n",
       "      <td>0.0</td>\n",
       "      <td>0.0</td>\n",
       "      <td>0.0</td>\n",
       "      <td>1.0</td>\n",
       "      <td>0.0</td>\n",
       "    </tr>\n",
       "    <tr>\n",
       "      <th>889</th>\n",
       "      <td>1</td>\n",
       "      <td>30.0000</td>\n",
       "      <td>0</td>\n",
       "      <td>1.0</td>\n",
       "      <td>0.0</td>\n",
       "      <td>0.0</td>\n",
       "      <td>0.0</td>\n",
       "      <td>0.0</td>\n",
       "      <td>1.0</td>\n",
       "      <td>0.0</td>\n",
       "      <td>...</td>\n",
       "      <td>0.0</td>\n",
       "      <td>0.0</td>\n",
       "      <td>0.0</td>\n",
       "      <td>0.0</td>\n",
       "      <td>0.0</td>\n",
       "      <td>1.0</td>\n",
       "      <td>0.0</td>\n",
       "      <td>0.0</td>\n",
       "      <td>0.0</td>\n",
       "      <td>1.0</td>\n",
       "    </tr>\n",
       "    <tr>\n",
       "      <th>890</th>\n",
       "      <td>0</td>\n",
       "      <td>7.7500</td>\n",
       "      <td>0</td>\n",
       "      <td>0.0</td>\n",
       "      <td>0.0</td>\n",
       "      <td>1.0</td>\n",
       "      <td>0.0</td>\n",
       "      <td>0.0</td>\n",
       "      <td>0.0</td>\n",
       "      <td>1.0</td>\n",
       "      <td>...</td>\n",
       "      <td>0.0</td>\n",
       "      <td>1.0</td>\n",
       "      <td>0.0</td>\n",
       "      <td>0.0</td>\n",
       "      <td>0.0</td>\n",
       "      <td>0.0</td>\n",
       "      <td>0.0</td>\n",
       "      <td>1.0</td>\n",
       "      <td>0.0</td>\n",
       "      <td>1.0</td>\n",
       "    </tr>\n",
       "  </tbody>\n",
       "</table>\n",
       "<p>891 rows × 33 columns</p>\n",
       "</div>"
      ],
      "text/plain": [
       "     Survived     Fare  SibSpParch  Pclass_1  Pclass_2  Pclass_3  Age_(0, 10]  \\\n",
       "0           0   7.2500           1       0.0       0.0       1.0          0.0   \n",
       "1           1  71.2833           1       1.0       0.0       0.0          0.0   \n",
       "2           1   7.9250           0       0.0       0.0       1.0          0.0   \n",
       "3           1  53.1000           1       1.0       0.0       0.0          0.0   \n",
       "4           0   8.0500           0       0.0       0.0       1.0          0.0   \n",
       "..        ...      ...         ...       ...       ...       ...          ...   \n",
       "886         0  13.0000           0       0.0       1.0       0.0          0.0   \n",
       "887         1  30.0000           0       1.0       0.0       0.0          0.0   \n",
       "888         0  23.4500           1       0.0       0.0       1.0          0.0   \n",
       "889         1  30.0000           0       1.0       0.0       0.0          0.0   \n",
       "890         0   7.7500           0       0.0       0.0       1.0          0.0   \n",
       "\n",
       "     Age_(10, 20]  Age_(20, 30]  Age_(30, 40]  ...  Cabin_letter_G  \\\n",
       "0             0.0           1.0           0.0  ...             0.0   \n",
       "1             0.0           0.0           1.0  ...             0.0   \n",
       "2             0.0           1.0           0.0  ...             0.0   \n",
       "3             0.0           0.0           1.0  ...             0.0   \n",
       "4             0.0           0.0           1.0  ...             0.0   \n",
       "..            ...           ...           ...  ...             ...   \n",
       "886           0.0           1.0           0.0  ...             0.0   \n",
       "887           1.0           0.0           0.0  ...             0.0   \n",
       "888           0.0           1.0           0.0  ...             0.0   \n",
       "889           0.0           1.0           0.0  ...             0.0   \n",
       "890           0.0           0.0           1.0  ...             0.0   \n",
       "\n",
       "     Cabin_letter_N  Cabin_letter_T  Ticket_number_(2.999, 10482.0]  \\\n",
       "0               1.0             0.0                             0.0   \n",
       "1               0.0             0.0                             0.0   \n",
       "2               1.0             0.0                             0.0   \n",
       "3               0.0             0.0                             0.0   \n",
       "4               1.0             0.0                             0.0   \n",
       "..              ...             ...                             ...   \n",
       "886             1.0             0.0                             0.0   \n",
       "887             0.0             0.0                             0.0   \n",
       "888             1.0             0.0                             1.0   \n",
       "889             0.0             0.0                             0.0   \n",
       "890             1.0             0.0                             0.0   \n",
       "\n",
       "     Ticket_number_(10482.0, 28425.0]  Ticket_number_(28425.0, 237442.0]  \\\n",
       "0                                 1.0                                0.0   \n",
       "1                                 1.0                                0.0   \n",
       "2                                 0.0                                0.0   \n",
       "3                                 0.0                                1.0   \n",
       "4                                 0.0                                0.0   \n",
       "..                                ...                                ...   \n",
       "886                               0.0                                1.0   \n",
       "887                               0.0                                1.0   \n",
       "888                               0.0                                0.0   \n",
       "889                               0.0                                1.0   \n",
       "890                               0.0                                0.0   \n",
       "\n",
       "     Ticket_number_(237442.0, 349209.0]  Ticket_number_(349209.0, 3101317.0]  \\\n",
       "0                                   0.0                                  0.0   \n",
       "1                                   0.0                                  0.0   \n",
       "2                                   0.0                                  1.0   \n",
       "3                                   0.0                                  0.0   \n",
       "4                                   0.0                                  1.0   \n",
       "..                                  ...                                  ...   \n",
       "886                                 0.0                                  0.0   \n",
       "887                                 0.0                                  0.0   \n",
       "888                                 0.0                                  0.0   \n",
       "889                                 0.0                                  0.0   \n",
       "890                                 0.0                                  1.0   \n",
       "\n",
       "     Sex_female  Sex_male  \n",
       "0           0.0       1.0  \n",
       "1           1.0       0.0  \n",
       "2           1.0       0.0  \n",
       "3           1.0       0.0  \n",
       "4           0.0       1.0  \n",
       "..          ...       ...  \n",
       "886         0.0       1.0  \n",
       "887         1.0       0.0  \n",
       "888         1.0       0.0  \n",
       "889         0.0       1.0  \n",
       "890         0.0       1.0  \n",
       "\n",
       "[891 rows x 33 columns]"
      ]
     },
     "execution_count": 79,
     "metadata": {},
     "output_type": "execute_result"
    }
   ],
   "source": [
    "one_hot_cols = [\"Pclass\", \"Age\", \"Embarked\", \"Cabin_letter\", \"Ticket_number\", \"Sex\"]\n",
    "enc = OneHotEncoder(handle_unknown='ignore', sparse=False)\n",
    "OH_cols = pd.DataFrame(enc.fit_transform(new_train[one_hot_cols]))\n",
    "OH_cols.columns = enc.get_feature_names(one_hot_cols)\n",
    "\n",
    "new_train_enc = new_train.drop(one_hot_cols, 1)\n",
    "new_train_enc = pd.concat([new_train_enc, OH_cols], 1)\n",
    "new_train_enc"
   ]
  },
  {
   "cell_type": "markdown",
   "metadata": {
    "papermill": {
     "duration": 0.122581,
     "end_time": "2021-03-02T11:33:49.034176",
     "exception": false,
     "start_time": "2021-03-02T11:33:48.911595",
     "status": "completed"
    },
    "tags": []
   },
   "source": [
    "# Train model"
   ]
  },
  {
   "cell_type": "markdown",
   "metadata": {
    "papermill": {
     "duration": 0.122059,
     "end_time": "2021-03-02T11:33:49.279577",
     "exception": false,
     "start_time": "2021-03-02T11:33:49.157518",
     "status": "completed"
    },
    "tags": []
   },
   "source": [
    "We could train our model now, but first let's think about our test data. If we would like to check our score on test data we need to make same operation as on train data, so rewrite all the code, that transform data. How avoid that? We can make function to preprocessing or make pipeline. For now try function."
   ]
  },
  {
   "cell_type": "code",
   "execution_count": 80,
   "metadata": {
    "execution": {
     "iopub.execute_input": "2021-03-02T11:33:49.544911Z",
     "iopub.status.busy": "2021-03-02T11:33:49.543842Z",
     "iopub.status.idle": "2021-03-02T11:33:49.546916Z",
     "shell.execute_reply": "2021-03-02T11:33:49.546314Z"
    },
    "papermill": {
     "duration": 0.142301,
     "end_time": "2021-03-02T11:33:49.547072",
     "exception": false,
     "start_time": "2021-03-02T11:33:49.404771",
     "status": "completed"
    },
    "tags": []
   },
   "outputs": [],
   "source": [
    "def preprocessing(df, ticket_bins=[], enc=None):\n",
    "    new_df = pd.DataFrame()\n",
    "    age_bins = [0, 10, 20, 30, 40, 50, 60, 70, 80]\n",
    "    new_df[\"Age\"] = pd.cut(df['Age'].fillna(df['Age'].mean()), bins=age_bins)\n",
    "    new_df[\"Embarked\"] = df[\"Embarked\"].fillna(\"S\")\n",
    "    new_df[\"Cabin_letter\"] = df[\"Cabin\"].fillna(\"None\").str[0]\n",
    "    \n",
    "    #tickets\n",
    "    split_tickets = df[\"Ticket\"].str.split(' ')\n",
    "    split_tickets = [x[1] if len(x) > 1 else x[0] for x in split_tickets]\n",
    "    new_df[\"Ticket_number\"] = split_tickets\n",
    "    new_df.loc[(new_df[\"Ticket_number\"] == '2') | (new_df[\"Ticket_number\"] == \"2.\") | (new_df[\"Ticket_number\"] == 'LINE'), \"Ticket_number\"] = np.NaN\n",
    "\n",
    "    new_df[\"Ticket_number\"]  = pd.to_numeric(new_df[\"Ticket_number\"], errors='coerce')\n",
    "    \n",
    "    new_df[\"Ticket_number\"] = new_df[\"Ticket_number\"].fillna(method=\"bfill\")\n",
    "    \n",
    "    if len(ticket_bins) < 1:\n",
    "        new_df[\"Ticket_number\"], ticket_bins = pd.qcut(new_df[\"Ticket_number\"], q=5, retbins=True)\n",
    "    else:\n",
    "        new_df[\"Ticket_number\"] = pd.cut(new_df[\"Ticket_number\"], bins = ticket_bins)\n",
    "    \n",
    "    \n",
    "    new_df[[\"Pclass\", \"Sex\", \"SibSp\", \"Parch\", \"Fare\"]] = df[[\"Pclass\", \"Sex\", \"SibSp\", \"Parch\", \"Fare\"]]\n",
    "    new_df[\"SibSpParch\"] = np.where(df[\"SibSp\"] + df[\"Parch\"] > 0, 1, 0)\n",
    "    new_df = new_df.drop([\"SibSp\", \"Parch\"], 1)\n",
    "    new_df[\"Fare\"] = new_df[\"Fare\"].fillna(method=\"bfill\")\n",
    "    \n",
    "    one_hot_cols = [\"Pclass\", \"Age\", \"Embarked\", \"Cabin_letter\", \"Ticket_number\", \"Sex\"]\n",
    "    if enc == None:\n",
    "        enc = OneHotEncoder(handle_unknown='ignore', sparse=False)\n",
    "        OH_cols = pd.DataFrame(enc.fit_transform(new_df[one_hot_cols]))\n",
    "        \n",
    "    else:\n",
    "        OH_cols = pd.DataFrame(enc.transform(new_df[one_hot_cols]))\n",
    "    OH_cols.columns = enc.get_feature_names(one_hot_cols)\n",
    "\n",
    "    new_df_enc = new_df.drop(one_hot_cols, 1)\n",
    "    new_df_enc = pd.concat([new_df_enc, OH_cols], 1)\n",
    "    \n",
    "    return new_df_enc, ticket_bins, enc"
   ]
  },
  {
   "cell_type": "markdown",
   "metadata": {
    "papermill": {
     "duration": 0.122728,
     "end_time": "2021-03-02T11:33:49.794941",
     "exception": false,
     "start_time": "2021-03-02T11:33:49.672213",
     "status": "completed"
    },
    "tags": []
   },
   "source": [
    "We return ticket_bins (with retbins=True in pd.qcut function) and encoder, because we will need it in test data preprocessing.\n",
    "\n",
    "Check if our function work properly."
   ]
  },
  {
   "cell_type": "code",
   "execution_count": 81,
   "metadata": {
    "execution": {
     "iopub.execute_input": "2021-03-02T11:33:50.047497Z",
     "iopub.status.busy": "2021-03-02T11:33:50.046755Z",
     "iopub.status.idle": "2021-03-02T11:33:50.093565Z",
     "shell.execute_reply": "2021-03-02T11:33:50.094111Z"
    },
    "papermill": {
     "duration": 0.173116,
     "end_time": "2021-03-02T11:33:50.094289",
     "exception": false,
     "start_time": "2021-03-02T11:33:49.921173",
     "status": "completed"
    },
    "tags": []
   },
   "outputs": [
    {
     "name": "stdout",
     "output_type": "stream",
     "text": [
      "Both dataframes have same shape\n"
     ]
    }
   ],
   "source": [
    "train_by_function, ticket_bins, enc = preprocessing(train)\n",
    "if train_by_function.shape == new_train_enc.drop(\"Survived\", 1).shape:\n",
    "    print(\"Both dataframes have same shape\")\n",
    "else:\n",
    "    print(\"Something wrong with preprocessing function\")"
   ]
  },
  {
   "cell_type": "markdown",
   "metadata": {
    "papermill": {
     "duration": 0.139037,
     "end_time": "2021-03-02T11:33:50.357127",
     "exception": false,
     "start_time": "2021-03-02T11:33:50.218090",
     "status": "completed"
    },
    "tags": []
   },
   "source": [
    "Try our algorithms."
   ]
  },
  {
   "cell_type": "code",
   "execution_count": 82,
   "metadata": {
    "execution": {
     "iopub.execute_input": "2021-03-02T11:33:50.657801Z",
     "iopub.status.busy": "2021-03-02T11:33:50.656847Z",
     "iopub.status.idle": "2021-03-02T11:33:52.573274Z",
     "shell.execute_reply": "2021-03-02T11:33:52.572399Z"
    },
    "papermill": {
     "duration": 2.071843,
     "end_time": "2021-03-02T11:33:52.573449",
     "exception": false,
     "start_time": "2021-03-02T11:33:50.501606",
     "status": "completed"
    },
    "tags": []
   },
   "outputs": [
    {
     "name": "stdout",
     "output_type": "stream",
     "text": [
      "LogisticRegression() 0.79 accuracy with a standard deviation of 0.02\n",
      "KNeighborsClassifier() 0.75 accuracy with a standard deviation of 0.04\n",
      "GaussianNB() 0.73 accuracy with a standard deviation of 0.05\n",
      "LinearSVC() 0.76 accuracy with a standard deviation of 0.04\n",
      "SGDClassifier() 0.76 accuracy with a standard deviation of 0.06\n",
      "DecisionTreeClassifier() 0.79 accuracy with a standard deviation of 0.04\n",
      "GradientBoostingClassifier() 0.82 accuracy with a standard deviation of 0.02\n"
     ]
    }
   ],
   "source": [
    "models = logreg, knn, gnb, svc, sgd, decision_tree, gbc\n",
    "\n",
    "def new_test_algorithm(model, X_train, y_train):\n",
    "    accuracies = {}\n",
    "    trained_models = {}\n",
    "    for model in models:\n",
    "        scores = cross_val_score(model, X_train, y_train, cv=5)\n",
    "        print(model, \"%0.2f accuracy with a standard deviation of %0.2f\" % (scores.mean(), scores.std()))\n",
    "        accuracies[model] = scores.mean()\n",
    "    return accuracies\n",
    "\n",
    "\n",
    "accs = new_test_algorithm(gbc, train_by_function, train[\"Survived\"])"
   ]
  },
  {
   "cell_type": "markdown",
   "metadata": {
    "papermill": {
     "duration": 0.12493,
     "end_time": "2021-03-02T11:33:52.824484",
     "exception": false,
     "start_time": "2021-03-02T11:33:52.699554",
     "status": "completed"
    },
    "tags": []
   },
   "source": [
    "Again Gradient Boosting Classifier have best accuracy score. Make submission with this model and then check if it's *really* the best."
   ]
  },
  {
   "cell_type": "markdown",
   "metadata": {
    "papermill": {
     "duration": 0.124555,
     "end_time": "2021-03-02T11:33:53.073551",
     "exception": false,
     "start_time": "2021-03-02T11:33:52.948996",
     "status": "completed"
    },
    "tags": []
   },
   "source": [
    "# Submission"
   ]
  },
  {
   "cell_type": "code",
   "execution_count": 83,
   "metadata": {
    "execution": {
     "iopub.execute_input": "2021-03-02T11:33:53.333315Z",
     "iopub.status.busy": "2021-03-02T11:33:53.332599Z",
     "iopub.status.idle": "2021-03-02T11:33:53.533789Z",
     "shell.execute_reply": "2021-03-02T11:33:53.533208Z"
    },
    "papermill": {
     "duration": 0.334075,
     "end_time": "2021-03-02T11:33:53.533945",
     "exception": false,
     "start_time": "2021-03-02T11:33:53.199870",
     "status": "completed"
    },
    "tags": []
   },
   "outputs": [],
   "source": [
    "gbc.fit(train_by_function, train[\"Survived\"])\n",
    "X_test, _, _ = preprocessing(test, ticket_bins, enc)\n",
    "X_test.isnull().sum()\n",
    "y_test = gbc.predict(X_test)\n",
    "df_submission = pd.DataFrame()\n",
    "df_submission[\"PassengerId\"] = test[\"PassengerId\"]\n",
    "df_submission[\"Survived\"] = y_test\n",
    "df_submission.to_csv(\"./submission_2.csv\", index=False)"
   ]
  },
  {
   "cell_type": "markdown",
   "metadata": {
    "papermill": {
     "duration": 0.126155,
     "end_time": "2021-03-02T11:33:53.786724",
     "exception": false,
     "start_time": "2021-03-02T11:33:53.660569",
     "status": "completed"
    },
    "tags": []
   },
   "source": [
    "We already checked our models with accuracy score, which is quite good if you are sure that your model work properly. But imagine some situation, that you have in your test data 990 who survived and only 10 who didn't survive. If your model didn't do well, it could give in predictions all 1000 passengers as \"not survived\" and still have 100% of accuracy! That's ridiculous. To avoid that, we can use different evaluation metrics. Most common in classification problem are Confusion Matrix, ROC AUC and F1 Score. Let's check Confusion Matrix."
   ]
  },
  {
   "cell_type": "code",
   "execution_count": 84,
   "metadata": {
    "execution": {
     "iopub.execute_input": "2021-03-02T11:33:54.043648Z",
     "iopub.status.busy": "2021-03-02T11:33:54.041598Z",
     "iopub.status.idle": "2021-03-02T11:33:54.047262Z",
     "shell.execute_reply": "2021-03-02T11:33:54.046587Z"
    },
    "papermill": {
     "duration": 0.136575,
     "end_time": "2021-03-02T11:33:54.047422",
     "exception": false,
     "start_time": "2021-03-02T11:33:53.910847",
     "status": "completed"
    },
    "tags": []
   },
   "outputs": [
    {
     "name": "stdout",
     "output_type": "stream",
     "text": [
      "[[245  21]\n",
      " [ 27 125]]\n"
     ]
    }
   ],
   "source": [
    "matrix = confusion_matrix(gender_submission.Survived, y_test)\n",
    "print(matrix)"
   ]
  },
  {
   "cell_type": "markdown",
   "metadata": {
    "papermill": {
     "duration": 0.12557,
     "end_time": "2021-03-02T11:33:54.300575",
     "exception": false,
     "start_time": "2021-03-02T11:33:54.175005",
     "status": "completed"
    },
    "tags": []
   },
   "source": [
    "So what the heck is that? Easy - we got 245 people, who we predict that didn't survive and actually they didn't. But 21 that we predict dead already survived. 27 who w predict as \"survived\" didn't, and 152 we corectly predicted live after disaster."
   ]
  },
  {
   "cell_type": "code",
   "execution_count": 85,
   "metadata": {
    "execution": {
     "iopub.execute_input": "2021-03-02T11:33:54.558917Z",
     "iopub.status.busy": "2021-03-02T11:33:54.558220Z",
     "iopub.status.idle": "2021-03-02T11:33:54.561870Z",
     "shell.execute_reply": "2021-03-02T11:33:54.560960Z"
    },
    "papermill": {
     "duration": 0.135484,
     "end_time": "2021-03-02T11:33:54.562063",
     "exception": false,
     "start_time": "2021-03-02T11:33:54.426579",
     "status": "completed"
    },
    "tags": []
   },
   "outputs": [
    {
     "name": "stdout",
     "output_type": "stream",
     "text": [
      "People who didn't survived and predicted didn't survived: 245\n",
      "People who survived and predicted didn't survived: 21\n",
      "People who didn't survived and predicted survived: 27\n",
      "People who survived and predicted survived: 125\n"
     ]
    }
   ],
   "source": [
    "print(\"People who didn't survived and predicted didn't survived:\", matrix[0][0])\n",
    "print(\"People who survived and predicted didn't survived:\", matrix[0][1])\n",
    "print(\"People who didn't survived and predicted survived:\", matrix[1][0])\n",
    "print(\"People who survived and predicted survived:\", matrix[1][1])"
   ]
  }
 ],
 "metadata": {
  "kernelspec": {
   "display_name": "Python 3",
   "language": "python",
   "name": "python3"
  },
  "language_info": {
   "codemirror_mode": {
    "name": "ipython",
    "version": 3
   },
   "file_extension": ".py",
   "mimetype": "text/x-python",
   "name": "python",
   "nbconvert_exporter": "python",
   "pygments_lexer": "ipython3",
   "version": "3.7.9"
  },
  "papermill": {
   "default_parameters": {},
   "duration": 46.892361,
   "end_time": "2021-03-02T11:33:55.399285",
   "environment_variables": {},
   "exception": null,
   "input_path": "__notebook__.ipynb",
   "output_path": "__notebook__.ipynb",
   "parameters": {},
   "start_time": "2021-03-02T11:33:08.506924",
   "version": "2.2.2"
  }
 },
 "nbformat": 4,
 "nbformat_minor": 4
}
